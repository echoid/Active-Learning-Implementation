{
 "cells": [
  {
   "cell_type": "markdown",
   "id": "wooden-renaissance",
   "metadata": {},
   "source": [
    "# COMP90051 Project 2\n",
    "**Name:** *enter your name here*\n",
    "\n",
    "**Student ID:** *your id here*"
   ]
  },
  {
   "cell_type": "markdown",
   "id": "continental-enemy",
   "metadata": {},
   "source": [
    "# Note!!! This code is only for your reference! Copying any code to your homework is prohibited!!!"
   ]
  },
  {
   "cell_type": "code",
   "execution_count": 1,
   "id": "iraqi-recommendation",
   "metadata": {},
   "outputs": [],
   "source": [
    "# You can add additional imports here\n",
    "import numpy as np\n",
    "from matplotlib import pyplot as plt\n",
    "import os\n",
    "import random\n",
    "from sklearn.model_selection import train_test_split\n",
    "from collections import defaultdict"
   ]
  },
  {
   "cell_type": "code",
   "execution_count": 2,
   "id": "english-france",
   "metadata": {},
   "outputs": [],
   "source": [
    "import warnings"
   ]
  },
  {
   "cell_type": "code",
   "execution_count": 3,
   "id": "sensitive-animation",
   "metadata": {},
   "outputs": [],
   "source": [
    "warnings.filterwarnings(\"ignore\")"
   ]
  },
  {
   "cell_type": "markdown",
   "id": "defined-great",
   "metadata": {},
   "source": [
    "## 0. Loading the dataset"
   ]
  },
  {
   "cell_type": "code",
   "execution_count": 4,
   "id": "alpha-carbon",
   "metadata": {},
   "outputs": [],
   "source": [
    "# do not edit this cell\n",
    "# load the data files (download from the LMS)\n",
    "embedded_images = np.load('images.npy')\n",
    "labels = np.load('labels.npy')"
   ]
  },
  {
   "cell_type": "code",
   "execution_count": 5,
   "id": "hidden-liechtenstein",
   "metadata": {},
   "outputs": [
    {
     "data": {
      "text/plain": [
       "(1000,)"
      ]
     },
     "execution_count": 5,
     "metadata": {},
     "output_type": "execute_result"
    }
   ],
   "source": [
    "embedded_images[0].shape"
   ]
  },
  {
   "cell_type": "code",
   "execution_count": 6,
   "id": "contemporary-parts",
   "metadata": {},
   "outputs": [],
   "source": [
    "from sklearn.preprocessing import StandardScaler\n",
    "## z score\n",
    "scaler = StandardScaler()\n",
    "embedded_images = scaler.fit_transform(embedded_images)"
   ]
  },
  {
   "cell_type": "code",
   "execution_count": 7,
   "id": "invalid-university",
   "metadata": {},
   "outputs": [],
   "source": [
    "# split into pool & testing\n",
    "X_pool, X_test, y_pool, y_test = train_test_split(embedded_images, labels, \n",
    "                                                  test_size=0.5, random_state=1234, shuffle=True)"
   ]
  },
  {
   "cell_type": "code",
   "execution_count": 8,
   "id": "rental-factory",
   "metadata": {},
   "outputs": [],
   "source": [
    "# sample a seed set\n",
    "np.random.seed(1234)\n",
    "label2id = defaultdict(list)\n",
    "for i, label in enumerate(y_pool):\n",
    "    label2id[label].append(i)"
   ]
  },
  {
   "cell_type": "code",
   "execution_count": 9,
   "id": "strong-daisy",
   "metadata": {},
   "outputs": [
    {
     "data": {
      "text/plain": [
       "'Syriac_(Estrangelo)'"
      ]
     },
     "execution_count": 9,
     "metadata": {},
     "output_type": "execute_result"
    }
   ],
   "source": [
    "y_test[0]"
   ]
  },
  {
   "cell_type": "code",
   "execution_count": 10,
   "id": "selected-exclusive",
   "metadata": {},
   "outputs": [
    {
     "data": {
      "text/plain": [
       "[34,\n",
       " 173,\n",
       " 227,\n",
       " 244,\n",
       " 293,\n",
       " 464,\n",
       " 493,\n",
       " 562,\n",
       " 574,\n",
       " 596,\n",
       " 614,\n",
       " 633,\n",
       " 649,\n",
       " 710,\n",
       " 758,\n",
       " 763,\n",
       " 780,\n",
       " 788,\n",
       " 821,\n",
       " 827,\n",
       " 852,\n",
       " 910,\n",
       " 919,\n",
       " 1004,\n",
       " 1031,\n",
       " 1228,\n",
       " 1251,\n",
       " 1277,\n",
       " 1381,\n",
       " 1399,\n",
       " 1438,\n",
       " 1440,\n",
       " 1456,\n",
       " 1468,\n",
       " 1469,\n",
       " 1509,\n",
       " 1535,\n",
       " 1553,\n",
       " 1557,\n",
       " 1598,\n",
       " 1625,\n",
       " 1705,\n",
       " 1760,\n",
       " 1819,\n",
       " 1944,\n",
       " 2091,\n",
       " 2238,\n",
       " 2279,\n",
       " 2309,\n",
       " 2318,\n",
       " 2335,\n",
       " 2336,\n",
       " 2352,\n",
       " 2396,\n",
       " 2412,\n",
       " 2431,\n",
       " 2495,\n",
       " 2624,\n",
       " 2735,\n",
       " 2755,\n",
       " 2857,\n",
       " 2887,\n",
       " 2891,\n",
       " 2920,\n",
       " 2960,\n",
       " 3029,\n",
       " 3043,\n",
       " 3228,\n",
       " 3239,\n",
       " 3324,\n",
       " 3345,\n",
       " 3362,\n",
       " 3395,\n",
       " 3400,\n",
       " 3401,\n",
       " 3413,\n",
       " 3482,\n",
       " 3545,\n",
       " 3564,\n",
       " 3576,\n",
       " 3662,\n",
       " 3668,\n",
       " 3778,\n",
       " 3807,\n",
       " 3858,\n",
       " 3892,\n",
       " 3894,\n",
       " 3915,\n",
       " 3944,\n",
       " 3978,\n",
       " 3981,\n",
       " 4051,\n",
       " 4102,\n",
       " 4121,\n",
       " 4173,\n",
       " 4279,\n",
       " 4290,\n",
       " 4305,\n",
       " 4308,\n",
       " 4331,\n",
       " 4344,\n",
       " 4385,\n",
       " 4386,\n",
       " 4401,\n",
       " 4483,\n",
       " 4564,\n",
       " 4584,\n",
       " 4625,\n",
       " 4676,\n",
       " 4746,\n",
       " 4833,\n",
       " 4845,\n",
       " 4852,\n",
       " 4853,\n",
       " 4856,\n",
       " 4933,\n",
       " 4968,\n",
       " 4974,\n",
       " 5104,\n",
       " 5180,\n",
       " 5234,\n",
       " 5275,\n",
       " 5427,\n",
       " 5442,\n",
       " 5462,\n",
       " 5527,\n",
       " 5656,\n",
       " 5663,\n",
       " 5673,\n",
       " 5809,\n",
       " 5823,\n",
       " 5827,\n",
       " 5866,\n",
       " 5895,\n",
       " 5977,\n",
       " 5992,\n",
       " 6009,\n",
       " 6010,\n",
       " 6106,\n",
       " 6140,\n",
       " 6210,\n",
       " 6213,\n",
       " 6246,\n",
       " 6293,\n",
       " 6321,\n",
       " 6323,\n",
       " 6372,\n",
       " 6428,\n",
       " 6444,\n",
       " 6489,\n",
       " 6495,\n",
       " 6583,\n",
       " 6585,\n",
       " 6626,\n",
       " 6651,\n",
       " 6728,\n",
       " 6798,\n",
       " 6833,\n",
       " 6844,\n",
       " 6869,\n",
       " 6897,\n",
       " 6900,\n",
       " 6993,\n",
       " 7026,\n",
       " 7061,\n",
       " 7074,\n",
       " 7255,\n",
       " 7291,\n",
       " 7303,\n",
       " 7311,\n",
       " 7346,\n",
       " 7463,\n",
       " 7472,\n",
       " 7567,\n",
       " 7619,\n",
       " 7625,\n",
       " 7634,\n",
       " 7687,\n",
       " 7816,\n",
       " 7819,\n",
       " 7830,\n",
       " 7888,\n",
       " 7971,\n",
       " 8118,\n",
       " 8167,\n",
       " 8195,\n",
       " 8233,\n",
       " 8301,\n",
       " 8419,\n",
       " 8439,\n",
       " 8447,\n",
       " 8486,\n",
       " 8487,\n",
       " 8490,\n",
       " 8567,\n",
       " 8578,\n",
       " 8648,\n",
       " 8659,\n",
       " 8761,\n",
       " 8812,\n",
       " 8863,\n",
       " 8891,\n",
       " 8926,\n",
       " 8972,\n",
       " 8974,\n",
       " 8977,\n",
       " 8984,\n",
       " 8994,\n",
       " 8995,\n",
       " 9000,\n",
       " 9011,\n",
       " 9030,\n",
       " 9039,\n",
       " 9042,\n",
       " 9050,\n",
       " 9073,\n",
       " 9095,\n",
       " 9106,\n",
       " 9138,\n",
       " 9146,\n",
       " 9164,\n",
       " 9177,\n",
       " 9194,\n",
       " 9294,\n",
       " 9470,\n",
       " 9519,\n",
       " 9537,\n",
       " 9562,\n",
       " 9625]"
      ]
     },
     "execution_count": 10,
     "metadata": {},
     "output_type": "execute_result"
    }
   ],
   "source": [
    "label2id[y_test[0]]"
   ]
  },
  {
   "cell_type": "code",
   "execution_count": 11,
   "id": "concerned-vessel",
   "metadata": {},
   "outputs": [],
   "source": [
    "seed_set = []\n",
    "for label, ids in label2id.items():\n",
    "    seed_set.extend(np.random.choice(ids, size=10, replace=False))"
   ]
  },
  {
   "cell_type": "markdown",
   "id": "naval-income",
   "metadata": {},
   "source": [
    "## 1. Applying logistic regression"
   ]
  },
  {
   "cell_type": "code",
   "execution_count": 12,
   "id": "recorded-canyon",
   "metadata": {},
   "outputs": [],
   "source": [
    "from sklearn.linear_model import LogisticRegression"
   ]
  },
  {
   "cell_type": "code",
   "execution_count": 112,
   "id": "palestinian-preparation",
   "metadata": {},
   "outputs": [],
   "source": [
    "def train_logistic_regression(X, y, **args):\n",
    "    \"\"\"\n",
    "    Train a logistic regression model on dataset (X, y) and return trained model.\n",
    "    X: matrix of real values, size n x d\n",
    "    y: vector of string labels, size n\n",
    "    args: optional arguments e.g., for hyper-parameters\n",
    "    \"\"\"\n",
    "    # your code here\n",
    "    model = LogisticRegression(max_iter = args['max_iter'])\n",
    "    model.fit(X, y)\n",
    "    return model"
   ]
  },
  {
   "cell_type": "code",
   "execution_count": 77,
   "id": "freelance-wrong",
   "metadata": {},
   "outputs": [],
   "source": [
    "? LogisticRegression"
   ]
  },
  {
   "cell_type": "code",
   "execution_count": 14,
   "id": "unsigned-percentage",
   "metadata": {},
   "outputs": [],
   "source": [
    "from sklearn.metrics import accuracy_score"
   ]
  },
  {
   "cell_type": "code",
   "execution_count": 15,
   "id": "bored-alberta",
   "metadata": {},
   "outputs": [],
   "source": [
    "def evaluate_logistic_regression_accuracy(Xt, yt, model):\n",
    "    \"\"\"\n",
    "    Apply logistic regression prediction on dataset Xt and evaluate accuracy against yt,\n",
    "    returing the accuracy results as a scalar.\n",
    "    Xt: matrix of real values, size m x d\n",
    "    yt: vector of string labels, size m\n",
    "    \"\"\"\n",
    "    # your code here\n",
    "    return accuracy_score(yt, model.predict(Xt))"
   ]
  },
  {
   "cell_type": "code",
   "execution_count": 16,
   "id": "whole-grenada",
   "metadata": {},
   "outputs": [],
   "source": [
    "# your code here for training, evaluating & plotting results"
   ]
  },
  {
   "cell_type": "code",
   "execution_count": 17,
   "id": "quantitative-wheat",
   "metadata": {},
   "outputs": [
    {
     "data": {
      "text/plain": [
       "array(['Alphabet_of_the_Magi', 'Anglo-Saxon_Futhorc', 'Arcadian',\n",
       "       'Armenian', 'Asomtavruli_(Georgian)', 'Balinese', 'Bengali',\n",
       "       'Blackfoot_(Canadian_Aboriginal_Syllabics)', 'Braille',\n",
       "       'Burmese_(Myanmar)', 'Cyrillic', 'Early_Aramaic', 'Futurama',\n",
       "       'Grantha', 'Greek', 'Gujarati', 'Hebrew',\n",
       "       'Inuktitut_(Canadian_Aboriginal_Syllabics)', 'Japanese_(hiragana)',\n",
       "       'Japanese_(katakana)', 'Korean', 'Latin', 'Malay_(Jawi_-_Arabic)',\n",
       "       'Mkhedruli_(Georgian)', 'N_Ko',\n",
       "       'Ojibwe_(Canadian_Aboriginal_Syllabics)', 'Sanskrit',\n",
       "       'Syriac_(Estrangelo)', 'Tagalog', 'Tifinagh'], dtype='<U41')"
      ]
     },
     "execution_count": 17,
     "metadata": {},
     "output_type": "execute_result"
    }
   ],
   "source": [
    "np.unique(y_test)"
   ]
  },
  {
   "cell_type": "code",
   "execution_count": 18,
   "id": "capital-steam",
   "metadata": {},
   "outputs": [
    {
     "data": {
      "text/plain": [
       "0.5757261410788381"
      ]
     },
     "execution_count": 18,
     "metadata": {},
     "output_type": "execute_result"
    }
   ],
   "source": [
    "model = train_logistic_regression(X_pool, y_pool)\n",
    "\n",
    "evaluate_logistic_regression_accuracy(X_test, y_test, model)"
   ]
  },
  {
   "cell_type": "code",
   "execution_count": 19,
   "id": "intelligent-convertible",
   "metadata": {},
   "outputs": [
    {
     "data": {
      "text/plain": [
       "0.31483402489626555"
      ]
     },
     "execution_count": 19,
     "metadata": {},
     "output_type": "execute_result"
    }
   ],
   "source": [
    "model = train_logistic_regression(X_pool[seed_set], y_pool[seed_set])\n",
    "\n",
    "evaluate_logistic_regression_accuracy(X_test, y_test, model)"
   ]
  },
  {
   "cell_type": "code",
   "execution_count": 20,
   "id": "medical-minutes",
   "metadata": {},
   "outputs": [],
   "source": [
    "import seaborn as sns"
   ]
  },
  {
   "cell_type": "code",
   "execution_count": 21,
   "id": "temporal-prisoner",
   "metadata": {},
   "outputs": [
    {
     "data": {
      "text/plain": [
       "array([1.58212789e-04, 5.55536611e-03, 1.82322743e-04, 7.43880435e-04,\n",
       "       2.30286930e-05, 1.16103886e-04, 4.55602799e-03, 2.38499220e-05,\n",
       "       9.02639327e-05, 5.12775008e-03, 3.38552417e-03, 1.67972293e-03,\n",
       "       1.64736131e-03, 3.79116931e-07, 4.73243969e-01, 1.83111541e-04,\n",
       "       8.43855530e-04, 1.84875432e-05, 7.07507789e-02, 8.24304500e-05,\n",
       "       2.25757469e-06, 3.67072799e-03, 7.76462544e-05, 4.06329995e-01,\n",
       "       2.88665056e-04, 4.30508475e-05, 2.00264285e-06, 7.70245084e-04,\n",
       "       2.03980643e-02, 4.91835354e-06])"
      ]
     },
     "execution_count": 21,
     "metadata": {},
     "output_type": "execute_result"
    }
   ],
   "source": [
    "model.predict_proba(X_pool)[0]"
   ]
  },
  {
   "cell_type": "code",
   "execution_count": 22,
   "id": "latin-alpha",
   "metadata": {},
   "outputs": [
    {
     "data": {
      "text/plain": [
       "<seaborn.axisgrid.FacetGrid at 0x14f310670>"
      ]
     },
     "execution_count": 22,
     "metadata": {},
     "output_type": "execute_result"
    },
    {
     "data": {
      "image/png": "[encoded data removed]",
      "text/plain": [
       "<Figure size 360x360 with 1 Axes>"
      ]
     },
     "metadata": {
      "needs_background": "light"
     },
     "output_type": "display_data"
    }
   ],
   "source": [
    "sns.displot(model.predict_proba(X_pool)[0])"
   ]
  },
  {
   "cell_type": "code",
   "execution_count": 23,
   "id": "inclusive-conservation",
   "metadata": {},
   "outputs": [
    {
     "data": {
      "text/plain": [
       "array([1.03124239e-09, 9.34952804e-01, 2.63494338e-08, 3.37808816e-04,\n",
       "       1.31768393e-03, 5.40141448e-08, 1.15581213e-08, 4.76709761e-03,\n",
       "       6.25315401e-07, 7.10954628e-10, 1.59358399e-02, 2.42388730e-05,\n",
       "       2.27682586e-04, 1.56562264e-05, 2.93238314e-06, 2.96638516e-08,\n",
       "       4.95640426e-06, 3.56648424e-03, 2.83417897e-10, 7.14748691e-06,\n",
       "       2.29061877e-05, 1.11162717e-02, 1.56466311e-06, 4.13320242e-07,\n",
       "       5.86827146e-03, 3.79657353e-04, 1.60233073e-07, 1.11473812e-05,\n",
       "       7.70347808e-11, 2.14385267e-02])"
      ]
     },
     "execution_count": 23,
     "metadata": {},
     "output_type": "execute_result"
    }
   ],
   "source": [
    "model.predict_proba(X_pool)[1]"
   ]
  },
  {
   "cell_type": "code",
   "execution_count": 24,
   "id": "suburban-planet",
   "metadata": {},
   "outputs": [
    {
     "data": {
      "text/plain": [
       "<seaborn.axisgrid.FacetGrid at 0x17f556d90>"
      ]
     },
     "execution_count": 24,
     "metadata": {},
     "output_type": "execute_result"
    },
    {
     "data": {
      "image/png": "[encoded data removed]",
      "text/plain": [
       "<Figure size 360x360 with 1 Axes>"
      ]
     },
     "metadata": {
      "needs_background": "light"
     },
     "output_type": "display_data"
    }
   ],
   "source": [
    "sns.displot(model.predict_proba(X_pool)[1])"
   ]
  },
  {
   "cell_type": "markdown",
   "id": "sweet-elephant",
   "metadata": {},
   "source": [
    "## 2. Active learning framework with Random selection"
   ]
  },
  {
   "cell_type": "code",
   "execution_count": 25,
   "id": "ignored-compromise",
   "metadata": {},
   "outputs": [],
   "source": [
    "def random_select(X, model, **args):\n",
    "    \"\"\"\n",
    "    Given an unlabelled dataset X, a matrix of n x d, and a model (not used)\n",
    "    returns a vector of scores of length n. Each entry reflects the priority \n",
    "    of the corresponding instance. Higher means better.\n",
    "    \"\"\"\n",
    "    # fill in\n",
    "    return np.random.randn(len(X))"
   ]
  },
  {
   "cell_type": "code",
   "execution_count": 26,
   "id": "bizarre-marking",
   "metadata": {},
   "outputs": [],
   "source": [
    "from tqdm import tqdm"
   ]
  },
  {
   "cell_type": "code",
   "execution_count": 27,
   "id": "selected-edgar",
   "metadata": {},
   "outputs": [
    {
     "data": {
      "text/plain": [
       "300"
      ]
     },
     "execution_count": 27,
     "metadata": {},
     "output_type": "execute_result"
    }
   ],
   "source": [
    "len(seed_set)"
   ]
  },
  {
   "cell_type": "code",
   "execution_count": 28,
   "id": "lyric-constraint",
   "metadata": {},
   "outputs": [],
   "source": [
    "def pool_based_active_learning(X_pool, y_pool, seed_ids,\n",
    "                               train_func, select_func,\n",
    "                               max_size, batch_size, **args):\n",
    "    \"\"\"\n",
    "    Perform an active learning simulation, which starts by training on a seed set,\n",
    "    then iteratively applies the selection function to rank instances in the pool,\n",
    "    selects the top few instances which are included into the training set and the\n",
    "    process repeats. \n",
    "        X_pool: matrix of n x d\n",
    "        y_pool: vector of string labels, size n\n",
    "        seed_ids: initial labelled set set, as a list of indices [0..n-1] into pool\n",
    "        train_func: function which given (X, y, optional args) returns a trained model\n",
    "        select_func: function which given (X, optional args) returns a sequence of scores\n",
    "        max_size: stopping condition for active learning, when labelled data reaches given size\n",
    "        batch_size: number of instances to be labelled in each iteration\n",
    "        args: optional arguments passed to training and selection function\n",
    "    returns the sequence of trained models \n",
    "    \"\"\"\n",
    "  \n",
    "    # fill in\n",
    "    X_L, y_L = X_pool[seed_ids], y_pool[seed_ids]\n",
    "    model_list = []\n",
    "    for t in tqdm(range(len(X_pool) // batch_size)):\n",
    "        model = train_func(X_L, y_L)\n",
    "        selected = np.where(select_func(X_pool, model).argsort()[::-1] < batch_size)[0]\n",
    "        X_L, y_L = np.vstack([X_L, X_pool[selected]]), np.hstack([y_L, y_pool[selected]])\n",
    "        X_pool = X_pool[[x for x in range(len(X_pool)) if x not in selected]]\n",
    "        y_pool = y_pool[[x for x in range(len(y_pool)) if x not in selected]]\n",
    "        model_list.append(model)\n",
    "        if len(X_L) > max_size:\n",
    "            break\n",
    "    return model_list"
   ]
  },
  {
   "cell_type": "code",
   "execution_count": 29,
   "id": "technical-edgar",
   "metadata": {},
   "outputs": [
    {
     "name": "stderr",
     "output_type": "stream",
     "text": [
      " 28%|██▊       | 45/160 [00:53<02:17,  1.20s/it]\n"
     ]
    }
   ],
   "source": [
    "batch = 60\n",
    "max_size = 3000\n",
    "models_random = pool_based_active_learning(X_pool, y_pool, seed_set, \n",
    "                                    train_logistic_regression, random_select, \n",
    "                                    max_size, batch)"
   ]
  },
  {
   "cell_type": "code",
   "execution_count": 30,
   "id": "complicated-allergy",
   "metadata": {},
   "outputs": [],
   "source": [
    "## your code here for evaluation of accuracy and plotting of results"
   ]
  },
  {
   "cell_type": "code",
   "execution_count": 31,
   "id": "offshore-transportation",
   "metadata": {},
   "outputs": [],
   "source": [
    "results = [evaluate_logistic_regression_accuracy(X_test, y_test, model) for model in models_random]"
   ]
  },
  {
   "cell_type": "code",
   "execution_count": 32,
   "id": "connected-march",
   "metadata": {},
   "outputs": [],
   "source": [
    "import seaborn as sns"
   ]
  },
  {
   "cell_type": "code",
   "execution_count": 33,
   "id": "banned-dynamics",
   "metadata": {},
   "outputs": [
    {
     "data": {
      "text/plain": [
       "<AxesSubplot:>"
      ]
     },
     "execution_count": 33,
     "metadata": {},
     "output_type": "execute_result"
    },
    {
     "data": {
      "image/png": "[encoded data removed]",
      "text/plain": [
       "<Figure size 432x288 with 1 Axes>"
      ]
     },
     "metadata": {
      "needs_background": "light"
     },
     "output_type": "display_data"
    }
   ],
   "source": [
    "sns.lineplot(range(len(results)),results)"
   ]
  },
  {
   "cell_type": "markdown",
   "id": "numerical-novel",
   "metadata": {},
   "source": [
    "## 3. Uncertainty sampling"
   ]
  },
  {
   "cell_type": "code",
   "execution_count": 34,
   "id": "raised-mistress",
   "metadata": {},
   "outputs": [],
   "source": [
    "def logistic_regression_entropy_select(X, model, **args):\n",
    "    \"\"\"\n",
    "    Given an unlabelled dataset X, a matrix of n x d, and a discriminative model \n",
    "    P(y|x), returns a vector of n entropy values.\n",
    "    \"\"\"\n",
    "    # fill in\n",
    "    pre_prob = model.predict_proba(X)\n",
    "    \n",
    "    return np.sum(-1 * pre_prob * np.log2(pre_prob), axis=1)"
   ]
  },
  {
   "cell_type": "code",
   "execution_count": 35,
   "id": "affected-story",
   "metadata": {
    "scrolled": false
   },
   "outputs": [
    {
     "name": "stderr",
     "output_type": "stream",
     "text": [
      " 28%|██▊       | 45/160 [00:51<02:11,  1.14s/it]\n"
     ]
    }
   ],
   "source": [
    "models_us = pool_based_active_learning(X_pool, y_pool, seed_set, \n",
    "                                 train_logistic_regression, \n",
    "                                 logistic_regression_entropy_select, \n",
    "                                 max_size, batch)"
   ]
  },
  {
   "cell_type": "code",
   "execution_count": 36,
   "id": "optical-mount",
   "metadata": {},
   "outputs": [],
   "source": [
    "## your code here for evaluation of accuracy and plotting of results"
   ]
  },
  {
   "cell_type": "code",
   "execution_count": 37,
   "id": "covered-tissue",
   "metadata": {},
   "outputs": [],
   "source": [
    "results_us = [evaluate_logistic_regression_accuracy(X_test, y_test, model) for model in models_us]"
   ]
  },
  {
   "cell_type": "code",
   "execution_count": 38,
   "id": "weird-amount",
   "metadata": {},
   "outputs": [
    {
     "data": {
      "text/plain": [
       "<AxesSubplot:>"
      ]
     },
     "execution_count": 38,
     "metadata": {},
     "output_type": "execute_result"
    },
    {
     "data": {
      "image/png": "[encoded data removed]",
      "text/plain": [
       "<Figure size 720x504 with 1 Axes>"
      ]
     },
     "metadata": {
      "needs_background": "light"
     },
     "output_type": "display_data"
    }
   ],
   "source": [
    "plt.figure(figsize=(10,7))\n",
    "sns.lineplot(range(len(results)),results, label='random')\n",
    "sns.lineplot(range(len(results)),results_us,label='us')"
   ]
  },
  {
   "cell_type": "markdown",
   "id": "diverse-taxation",
   "metadata": {},
   "source": [
    "## 4. Query by committee"
   ]
  },
  {
   "cell_type": "code",
   "execution_count": 68,
   "id": "dated-strategy",
   "metadata": {},
   "outputs": [
    {
     "data": {
      "text/plain": [
       "array([1.])"
      ]
     },
     "execution_count": 68,
     "metadata": {},
     "output_type": "execute_result"
    }
   ],
   "source": [
    "np.array([0.8]).round()"
   ]
  },
  {
   "cell_type": "code",
   "execution_count": 93,
   "id": "handy-water",
   "metadata": {},
   "outputs": [],
   "source": [
    "# don't forget to provide function descriptive comments, like those provided in templates above\n",
    "\n",
    "def query_by_committee_vote_entropy(X, model, **args):\n",
    "    P_c = (model[0].predict_proba(X).round() + model[1].predict_proba(X).round())\n",
    "    return np.sum(-1 * (P_c / 2) * np.log2(P_c / 2), axis=1)\n",
    "    \n",
    "def query_by_committee_soft_vote_entropy(X, model, **args):\n",
    "    P_c = (model[0].predict_proba(X) + model[1].predict_proba(X)) / 2\n",
    "    return np.sum(-1 * P_c * np.log2(P_c), axis=1)\n",
    "\n",
    "def KL(c, theta, is_theta1):\n",
    "    return np.sum(-1 * theta * np.log2(theta / c), axis=1)\n",
    "\n",
    "def query_by_committee_KL(X, model, **args):\n",
    "    P_c = (model[0].predict_proba(X) + model[1].predict_proba(X)) / 2\n",
    "    P_theta1 = model[0].predict_proba(X)\n",
    "    P_theta2 = model[1].predict_proba(X)\n",
    "    \n",
    "    result = np.zeros(len(X))\n",
    "    for i,v in enumerate([P_theta1, P_theta2]):\n",
    "        result += KL(P_c, v, i)\n",
    "\n",
    "    return result"
   ]
  },
  {
   "cell_type": "code",
   "execution_count": 113,
   "id": "continued-clothing",
   "metadata": {},
   "outputs": [],
   "source": [
    "def train_committee(X_pool, y_pool, seed_ids, train_func, select_func,max_size, batch_size, **args):\n",
    "    # fill in\n",
    "    X_L, y_L = X_pool[seed_ids], y_pool[seed_ids]\n",
    "    model_list = []\n",
    "    for t in tqdm(range(len(X_pool) // batch_size)):\n",
    "        model = []\n",
    "        model.append(train_func(X_L, y_L,max_iter=300))\n",
    "        model.append(train_func(X_L, y_L,max_iter=500))\n",
    "        \n",
    "        selected = np.where(select_func(X_pool, model).argsort()[::-1] < batch_size)[0]\n",
    "        X_L, y_L = np.vstack([X_L, X_pool[selected]]), np.hstack([y_L, y_pool[selected]])\n",
    "        X_pool = X_pool[[x for x in range(len(X_pool)) if x not in selected]]\n",
    "        y_pool = y_pool[[x for x in range(len(y_pool)) if x not in selected]]\n",
    "        model_list.append(model)\n",
    "        if len(X_L) > max_size:\n",
    "            break\n",
    "    return model_list"
   ]
  },
  {
   "cell_type": "code",
   "execution_count": 114,
   "id": "south-smooth",
   "metadata": {},
   "outputs": [],
   "source": [
    "## your code here for training, evaluation, and plotting code"
   ]
  },
  {
   "cell_type": "code",
   "execution_count": 115,
   "id": "arranged-location",
   "metadata": {},
   "outputs": [
    {
     "name": "stderr",
     "output_type": "stream",
     "text": [
      " 28%|██▊       | 45/160 [06:30<16:36,  8.67s/it]\n"
     ]
    }
   ],
   "source": [
    "models_cm = train_committee(X_pool, y_pool,seed_set, train_logistic_regression, query_by_committee_KL, max_size, batch)"
   ]
  },
  {
   "cell_type": "code",
   "execution_count": 116,
   "id": "otherwise-module",
   "metadata": {},
   "outputs": [
    {
     "name": "stderr",
     "output_type": "stream",
     "text": [
      " 28%|██▊       | 45/160 [05:45<14:41,  7.67s/it]\n"
     ]
    }
   ],
   "source": [
    "models_soft = train_committee(X_pool, y_pool,seed_set, train_logistic_regression, query_by_committee_soft_vote_entropy, max_size, batch)"
   ]
  },
  {
   "cell_type": "code",
   "execution_count": 117,
   "id": "fatal-temple",
   "metadata": {},
   "outputs": [
    {
     "name": "stderr",
     "output_type": "stream",
     "text": [
      " 28%|██▊       | 45/160 [05:47<14:47,  7.71s/it]\n"
     ]
    }
   ],
   "source": [
    "models_hard = train_committee(X_pool, y_pool,seed_set, train_logistic_regression, query_by_committee_vote_entropy, max_size, batch)"
   ]
  },
  {
   "cell_type": "code",
   "execution_count": 118,
   "id": "removable-insured",
   "metadata": {},
   "outputs": [],
   "source": [
    "results_c = [evaluate_logistic_regression_accuracy(X_test, y_test, model[1]) for model in models_cm]\n",
    "results_hard = [evaluate_logistic_regression_accuracy(X_test, y_test, model[1]) for model in models_hard]\n",
    "results_solf = [evaluate_logistic_regression_accuracy(X_test, y_test, model[1]) for model in models_soft]"
   ]
  },
  {
   "cell_type": "code",
   "execution_count": 119,
   "id": "governmental-action",
   "metadata": {},
   "outputs": [
    {
     "data": {
      "text/plain": [
       "<AxesSubplot:>"
      ]
     },
     "execution_count": 119,
     "metadata": {},
     "output_type": "execute_result"
    },
    {
     "data": {
      "image/png": "[encoded data removed]",
      "text/plain": [
       "<Figure size 720x504 with 1 Axes>"
      ]
     },
     "metadata": {
      "needs_background": "light"
     },
     "output_type": "display_data"
    }
   ],
   "source": [
    "plt.figure(figsize=(10,7))\n",
    "sns.lineplot(range(len(results)),results, label='random')\n",
    "sns.lineplot(range(len(results)),results_c,label='KL')\n",
    "sns.lineplot(range(len(results)),results_solf,label='solf vote')\n",
    "sns.lineplot(range(len(results)),results_hard,label='hard vote')"
   ]
  },
  {
   "cell_type": "markdown",
   "id": "suffering-airport",
   "metadata": {},
   "source": [
    "## 5. Hierarchical sampling"
   ]
  },
  {
   "cell_type": "code",
   "execution_count": null,
   "id": "adopted-taylor",
   "metadata": {},
   "outputs": [],
   "source": [
    "## your code"
   ]
  },
  {
   "cell_type": "code",
   "execution_count": 82,
   "id": "velvet-wireless",
   "metadata": {},
   "outputs": [],
   "source": [
    "import numpy as np\n",
    "from numpy.random import choice\n",
    "from typing import List, Tuple, Union, Iterable\n",
    "from scipy.cluster.hierarchy import to_tree\n",
    "from scipy.cluster.hierarchy import ClusterNode\n",
    "class HierarchicalSampling(object):\n",
    "    def __init__(self,linkage:np.ndarray, n_samples:int, n_class:int):\n",
    "        \"\"\"\n",
    "        Implmentation of Hierarchical Sampling for Active Learning:\n",
    "        https://icml.cc/Conferences/2008/papers/324.pdf\n",
    "        Parameters\n",
    "        ----------\n",
    "        linkage : np.ndarray\n",
    "            A linkage matrix from scipy.cluster.hierarchy.linkage.\n",
    "        n_samples : int\n",
    "            Number of samples.\n",
    "        n_class : int\n",
    "            Number of classes.\n",
    "        Returns\n",
    "        -------\n",
    "        An instance for hierarchical sampling method.\n",
    "        \"\"\"\n",
    "        self.n_samples = n_samples\n",
    "        self.n_class = n_class\n",
    "        self.btree, self.node_list = self._construct_btree(linkage)\n",
    "        self.lc = np.array([x.count for x in self.node_list],dtype = np.int)\n",
    "        self.n_nodes = len(self.node_list)\n",
    "        self.major_label = np.zeros(self.n_nodes,dtype = np.int)\n",
    "        self.c = np.zeros((self.n_nodes,n_class)) \n",
    "        #the count of each class in points sampled from node.\n",
    "        self.p = np.zeros((self.n_nodes,n_class))\n",
    "        #the fraction of each class in points sampled from node.\n",
    "        self.sampled = np.zeros(self.n_nodes)\n",
    "        #the number of points sampled in the subtree rooted at each node.\n",
    "        self.A = np.zeros((self.n_nodes,n_class),dtype = bool)\n",
    "        #the admmisible score of node i and label l.\n",
    "        self.p_LB = np.zeros((self.n_nodes,n_class))\n",
    "        #the lower bound of the probability for node i and label l.\n",
    "    def _construct_btree(self,linkage):\n",
    "        btree, node_list = to_tree(linkage,rd = True)\n",
    "        btree.parent = None\n",
    "        for node in node_list:\n",
    "            if node.left:\n",
    "                node.left.parent = node \n",
    "            if node.right:\n",
    "                node.right.parent = node\n",
    "            node.sampled = 0\n",
    "            if node.is_leaf():\n",
    "                node.queryed = False\n",
    "        return btree, node_list\n",
    "    \n",
    "    @property\n",
    "    def leaves_count(self):\n",
    "        return self.lc\n",
    "    \n",
    "    def get_leaves(self, node:Union[ClusterNode,int],leaves:List[ClusterNode] = None)-> List:\n",
    "        \"\"\"\n",
    "        Get the list of leaves node under the subtree.\n",
    "        Parameters\n",
    "        ----------\n",
    "        node : Union[ClusterNode,int]\n",
    "            The root node of the subtree.\n",
    "        Returns\n",
    "        -------\n",
    "        List\n",
    "            A list contain the leaves nodes.\n",
    "        \"\"\"\n",
    "        node = self.node_list[node] if not isinstance(node,ClusterNode) else node\n",
    "        if not leaves:\n",
    "            leaves = []\n",
    "        if node.is_leaf():\n",
    "            leaves.append(node)\n",
    "            return leaves\n",
    "        else:\n",
    "            leaves = self.get_leaves(node.left,leaves)\n",
    "            leaves = self.get_leaves(node.right,leaves)\n",
    "            return leaves\n",
    "            \n",
    "    def update_empirical(self,\n",
    "                          current:Union[ClusterNode,int], \n",
    "                          subroot:Union[ClusterNode,int],\n",
    "                          label:int):\n",
    "        \"\"\"\n",
    "        Update empricial count for a given label from current node u to a\n",
    "        subtree root node v.\n",
    "        Parameters\n",
    "        ----------\n",
    "        current : Union[ClusterNode,int]\n",
    "            The leaf node whose label gut queryed.\n",
    "        subroot : Union[ClusterNode,int]\n",
    "            The root node of the subtree pruning.\n",
    "        label : int\n",
    "            The label of current node.\n",
    "        Returns\n",
    "        -------\n",
    "        None.\n",
    "        \"\"\"\n",
    "        current = self.node_list[current] if not isinstance(current,ClusterNode) else current\n",
    "        subroot = self.node_list[subroot] if not isinstance(subroot,ClusterNode) else subroot\n",
    "        if not current.queryed:\n",
    "            current.queryed = True\n",
    "        while current and current.id <= subroot.id:\n",
    "            self.c[current.id][label]+=1\n",
    "            self.sampled[current.id] +=1\n",
    "            current = current.parent\n",
    "        self.p = self.c/self.sampled[:,None]\n",
    "    \n",
    "    def update_admissible(self,beta:float = 2.0):\n",
    "        \"\"\"\n",
    "        Update the admissible score and the upper and lower bound.\n",
    "        Parameters\n",
    "        ----------\n",
    "        beta : float, optional\n",
    "            The hyperparameter beta, larger the beta, higher chance to expand\n",
    "            more subtree along the tree. The default is 2.\n",
    "        Returns\n",
    "        -------\n",
    "        None.\n",
    "        \"\"\"\n",
    "        delta = 1/self.sampled[:,None]+np.sqrt(self.p*(1-self.p)/self.sampled[:,None])\n",
    "        p_LB = np.fmax(self.p-delta,0)\n",
    "        p_UB = np.fmin(self.p+delta,1)\n",
    "        for l in np.arange(self.n_class):\n",
    "            po_UB = np.delete(p_UB,l,axis = 1)\n",
    "            self.A[:,l] = np.all(p_LB[:,l][:,None]>beta*po_UB-beta+1,axis = 1)\n",
    "            # self.A[:,l] = p_LB[:,l]>1/3 #For 2 classes case.\n",
    "        e_tilde = 1-self.p\n",
    "        e_tilde[~self.A] = 1\n",
    "        self.e_tilde = e_tilde\n",
    "        self.p_LB = p_LB\n",
    "    \n",
    "    def best_pruning_and_labeling(self,\n",
    "                                  prunning:Iterable[Union[ClusterNode,int]],\n",
    "                                  beta:float = 2.0\n",
    "                                  )-> Tuple[np.ndarray,int]:\n",
    "        \"\"\"\n",
    "        Update admissible A and find the best prunning and the label for the \n",
    "        give non-leaf node.\n",
    "        Parameters\n",
    "        ----------\n",
    "        prunning : Iterable[Union[ClusterNode,int]]\n",
    "            The list of root of the selected subtree, the current \"prunning\".\n",
    "        Returns\n",
    "        -------\n",
    "        prunning_ : numpy.ndarray\n",
    "            A array given the best prunning node(s) given the subroot.\n",
    "        label : int\n",
    "            The major label of given subroot.\n",
    "        \"\"\"\n",
    "        e_tilde = self.e_tilde\n",
    "        prunning = [x.id if isinstance(x,ClusterNode) else x for x in prunning]\n",
    "        score = np.zeros(len(self.node_list))\n",
    "        new_prunnings = []\n",
    "        for idx, node in enumerate(self.node_list):\n",
    "            if node.is_leaf():\n",
    "                score[idx] = np.nanmin(e_tilde[idx])\n",
    "            else:\n",
    "                score_curr = np.nanmin(e_tilde[idx])\n",
    "                if np.any(self.A[idx,:]):\n",
    "                    left = node.left\n",
    "                    right = node.right\n",
    "                    score_desc = left.count/node.count * score[left.id]+\\\n",
    "                                 right.count/node.count * score[right.id]\n",
    "                    score[idx] = np.minimum(score_desc,score_curr)\n",
    "                else:\n",
    "                    score_desc = np.inf\n",
    "                    score[idx] = score_curr\n",
    "            if idx in prunning:\n",
    "                if node.is_leaf():\n",
    "                    label = np.nanargmin(e_tilde[idx])\n",
    "                    prunning_ = [idx]\n",
    "                else:\n",
    "                    label = np.nanargmin(e_tilde[idx]) if score_curr<score_desc else np.where(self.A[idx,:])[0][0]\n",
    "                    prunning_ = [idx] if score_curr<score_desc else [node.left.id,node.right.id]\n",
    "                for p in prunning_:\n",
    "                    self.major_label[p] = label\n",
    "                new_prunnings.extend(prunning_)\n",
    "        return new_prunnings\n",
    "    \n",
    "    def assign_labels(self, \n",
    "                       current:Union[ClusterNode,int], \n",
    "                       subroot:Union[ClusterNode,int]):\n",
    "        \"\"\"\n",
    "        Assign label to the current node according to the root of subtree.\n",
    "        Parameters\n",
    "        ----------\n",
    "        current : Union[ClusterNode,int]\n",
    "            The node assign labels begins at.\n",
    "        subroot : Union[ClusterNode,int]\n",
    "            The root of the subtree node.\n",
    "        Returns\n",
    "        -------\n",
    "        None.\n",
    "        \"\"\"\n",
    "        subroot = self.node_list[subroot] if not isinstance(subroot, ClusterNode) else subroot\n",
    "        current = self.node_list[current] if not isinstance(current, ClusterNode) else current\n",
    "        if current.is_leaf():\n",
    "            self.major_label[current.id] = self.major_label[subroot.id]\n",
    "        else:\n",
    "            self.assign_labels(current.left,subroot)\n",
    "            self.assign_labels(current.right,subroot)\n",
    "            \n",
    "    def active_sampling(self,prunning:List[int])->int:\n",
    "        \"\"\"\n",
    "        Active sampling of query prunning.\n",
    "        Parameters\n",
    "        ----------\n",
    "        prunning : List[int]\n",
    "            The current prunning of the tree.\n",
    "        Returns\n",
    "        -------\n",
    "        int\n",
    "            The node of prunning need to explore.\n",
    "        \"\"\"\n",
    "        p_LB = self.p_LB[prunning]\n",
    "        w = self.leaves_count[prunning]\n",
    "        L = self.major_label[prunning]\n",
    "        p_LB = p_LB[np.arange(len(p_LB)),L]\n",
    "        prob = w*(1-p_LB)\n",
    "        if np.sum(prob) == 0:\n",
    "            return choice(prunning)\n",
    "        prob = prob/prob.sum()\n",
    "        return choice(prunning,p = prob)"
   ]
  },
  {
   "cell_type": "code",
   "execution_count": 83,
   "id": "failing-attendance",
   "metadata": {},
   "outputs": [],
   "source": [
    "import copy\n",
    "import warnings\n",
    "import numpy as np \n",
    "import pandas as pd\n",
    "from typing import List\n",
    "import matplotlib.pyplot as plt\n",
    "from numpy.random import choice\n",
    "from scipy.cluster.hierarchy import linkage\n",
    "from sklearn.datasets import make_blobs\n",
    "from sklearn.model_selection import train_test_split\n",
    "from sklearn.ensemble import RandomForestClassifier\n",
    "from sklearn.ensemble import GradientBoostingClassifier\n",
    "from sklearn.linear_model import LogisticRegression\n",
    "from scipy.cluster.hierarchy import ClusterNode\n",
    "warnings.filterwarnings(\"ignore\")\n",
    "\n",
    "def load_data(seed:int = 2021,\n",
    "              filter_class:List[str] = None):\n",
    "    \"\"\"\n",
    "    Loads \"Protein Localizataion Prediction\" data. Computes linkage from hierarchical clustering.\n",
    "    Parameters\n",
    "    ----------\n",
    "    seed : int, optional\n",
    "        A random seed. The default is 2021.\n",
    "    filter_class : List[str], optional\n",
    "        The labels of the samples to be used. The default is None.\n",
    "    Returns\n",
    "    -------\n",
    "    X_train:  np.ndarray\n",
    "        A N-by-M matrix where N is the number of sample and M is the number of\n",
    "        features, used as training set.\n",
    "    y_train : np.ndarray\n",
    "        A length N vector, N is the number of samples. The label of the \n",
    "        training set.\n",
    "    X_test : np.ndarray\n",
    "        DESCRIPTION.\n",
    "    y_test : np.ndarray\n",
    "        DESCRIPTION.\n",
    "    Z : np.ndarray\n",
    "        A N-by-4 linkage matrix return by the scipy.cluster.hierarchy.linkage\n",
    "        method for the training dataset, where N is the number sample - 1.\n",
    "    class_n : int\n",
    "        Number of classes.\n",
    "    \"\"\"\n",
    "\n",
    "    df = pd.read_csv('data/Localization.csv')\n",
    "    class_n = len(np.unique(df.Label))\n",
    "    mask = df.Label ==0\n",
    "    if not filter_class:\n",
    "        filter_class = np.unique(df.Label)\n",
    "    for x in filter_class:\n",
    "        mask = mask | (df.Label==x)\n",
    "    df = df[mask]\n",
    "    X = df.iloc[:,:8].to_numpy()\n",
    "    y = df.Label.astype('category').cat.codes.to_numpy()\n",
    "    X, X_test, y, y_test = train_test_split(X,y,test_size = 0.2, random_state = seed)\n",
    "    Z = linkage(X,method='ward')\n",
    "\n",
    "    return X.astype(\"float\"), y, X_test, y_test, Z , class_n\n",
    "\n",
    "\n",
    "def compute_error(L:np.ndarray,labels:np.ndarray)->float:\n",
    "    \"\"\"\n",
    "    Compute the error between the major label and the true label.\n",
    "    Parameters\n",
    "    ----------\n",
    "    L : np.ndarray\n",
    "        labeling of leaf nodes.\n",
    "    labels : np.ndarray\n",
    "        true labels of each node.\n",
    "    Returns\n",
    "    -------\n",
    "    error : float\n",
    "        error of predictions.\n",
    "    \"\"\"\n",
    "\n",
    "    wrong = 0\n",
    "    wrong = (L[:len(labels)]!=labels).sum()\n",
    "    error = wrong/len(labels)\n",
    "    return error\n",
    "\n",
    "def prob_by_weight(nodes:List[int], count:List[int])->List[int]:\n",
    "    \"\"\"\n",
    "    Get the probability of the given nodes list according to their weight.\n",
    "    Parameters\n",
    "    ----------\n",
    "    nodes : List[int]\n",
    "        The nodes list.\n",
    "    count : List[int]\n",
    "        Leaves count of the whole tree.\n",
    "    Returns\n",
    "    -------\n",
    "    List[int]\n",
    "        Leaves count of the given node list.\n",
    "    \"\"\"\n",
    "    c = count[nodes]\n",
    "    return c/c.sum()\n",
    "\n",
    "def query_by_weight(prunning:List[int],leaves_count:List[int]):\n",
    "    prob = prob_by_weight(prunning, leaves_count)\n",
    "    return choice(prunning,p = prob)\n",
    "\n",
    "def DH_sampling(x_train:np.ndarray,\n",
    "                y_train:np.ndarray,\n",
    "                linkage:np.ndarray,\n",
    "                budget:int,\n",
    "                batch_size:int,\n",
    "                sampling_method:str = \"active\"):\n",
    "    \"\"\"\n",
    "    Conduct Hierchical sampling on the given dataset.\n",
    "    Parameters\n",
    "    ----------\n",
    "    x_train : np.ndarray\n",
    "        Training input.\n",
    "    y_train : np.ndarray\n",
    "        True label.\n",
    "    linkage: np.ndarray\n",
    "        The linkage matrix from scipy.cluster.hierarchy.linkage.\n",
    "    budget : int\n",
    "        Number of query.\n",
    "    batch_size : int\n",
    "        Query sample batch size.\n",
    "    sampling_method : str, optional\n",
    "        Sampling method, can be one of the following:\"naive\", \"active\". \n",
    "        The default is \"active\".\n",
    "    Returns\n",
    "    -------\n",
    "    queries : List\n",
    "        A list of actual query times.\n",
    "    error : List\n",
    "        A list of the label error rate.\n",
    "    \"\"\"\n",
    "    hs = HierarchicalSampling(linkage,x_train.shape[0],class_n)\n",
    "    P = np.array([hs.btree.id]) #The prunning.\n",
    "    error = []\n",
    "    query_time = 0\n",
    "    queries = []\n",
    "\n",
    "    for i in np.arange(budget):\n",
    "        for b in np.arange(batch_size):\n",
    "            \n",
    "            # Select a new node to expand by the weight.\n",
    "            if sampling_method == \"active\":\n",
    "                v = hs.active_sampling(P)\n",
    "            elif sampling_method == \"naive\":\n",
    "                v = query_by_weight(P,hs.leaves_count)\n",
    "                \n",
    "            # Pick a random leaf node from the subtree rooted at selected node.\n",
    "            leaves = hs.get_leaves(v)\n",
    "            leaf = np.random.choice(leaves)\n",
    "            if not leaf.queryed:\n",
    "                query_time+=1\n",
    "            label = y_train[leaf.id]\n",
    "            # update empirical counts and probabilityies for nodes on path\n",
    "            # from the selected leaf to the selected subtree root.\n",
    "            hs.update_empirical(leaf,v,label)\n",
    "        hs.update_admissible(BETA)\n",
    "        P = hs.best_pruning_and_labeling(P)\n",
    "        for p in P:\n",
    "            hs.assign_labels(p, p)\n",
    "        error.append(compute_error(hs.major_label,y_train))\n",
    "        queries.append(query_time) \n",
    "    return queries, error, hs,P"
   ]
  },
  {
   "cell_type": "code",
   "execution_count": 107,
   "id": "found-necessity",
   "metadata": {},
   "outputs": [],
   "source": [
    "X_train, y_train, X_test, y_test, Z = X_pool, y_pool, X_test, y_test, linkage(np.hstack([X_pool, X_test]),method='ward')\n",
    "class_n = len(np.unique(y_train))"
   ]
  },
  {
   "cell_type": "code",
   "execution_count": 108,
   "id": "returning-ontario",
   "metadata": {},
   "outputs": [],
   "source": [
    "from sklearn.preprocessing import LabelEncoder"
   ]
  },
  {
   "cell_type": "code",
   "execution_count": 109,
   "id": "agricultural-tiger",
   "metadata": {},
   "outputs": [],
   "source": [
    "trans = LabelEncoder()"
   ]
  },
  {
   "cell_type": "code",
   "execution_count": 112,
   "id": "urban-emission",
   "metadata": {},
   "outputs": [
    {
     "data": {
      "text/plain": [
       "LabelEncoder()"
      ]
     },
     "execution_count": 112,
     "metadata": {},
     "output_type": "execute_result"
    }
   ],
   "source": [
    "trans.fit(np.hstack([y_train, y_test]))"
   ]
  },
  {
   "cell_type": "code",
   "execution_count": 117,
   "id": "unexpected-works",
   "metadata": {},
   "outputs": [],
   "source": [
    "BUDGET = 200\n",
    "BATCH_SIZE = 60\n",
    "BETA = 2.0\n",
    "N_TRAILS = 1"
   ]
  },
  {
   "cell_type": "code",
   "execution_count": 114,
   "id": "demonstrated-diameter",
   "metadata": {},
   "outputs": [],
   "source": [
    "y_train = trans.transform(y_train)\n",
    "y_test = trans.transform(y_test)"
   ]
  },
  {
   "cell_type": "code",
   "execution_count": 118,
   "id": "welcome-brazil",
   "metadata": {},
   "outputs": [
    {
     "name": "stdout",
     "output_type": "stream",
     "text": [
      "Begin DH active sampling.\n",
      "Currently on trail 0\n"
     ]
    },
    {
     "ename": "TypeError",
     "evalue": "'AxesSubplot' object is not subscriptable",
     "output_type": "error",
     "traceback": [
      "\u001b[0;31m---------------------------------------------------------------------------\u001b[0m",
      "\u001b[0;31mTypeError\u001b[0m                                 Traceback (most recent call last)",
      "\u001b[0;32m<ipython-input-118-736989391dfb>\u001b[0m in \u001b[0;36m<module>\u001b[0;34m\u001b[0m\n\u001b[1;32m      8\u001b[0m     \u001b[0ml_active\u001b[0m\u001b[0;34m+=\u001b[0m\u001b[0merror\u001b[0m\u001b[0;34m\u001b[0m\u001b[0;34m\u001b[0m\u001b[0m\n\u001b[1;32m      9\u001b[0m \u001b[0ml_active\u001b[0m \u001b[0;34m=\u001b[0m \u001b[0ml_active\u001b[0m\u001b[0;34m/\u001b[0m\u001b[0mN_TRAILS\u001b[0m\u001b[0;34m\u001b[0m\u001b[0;34m\u001b[0m\u001b[0m\n\u001b[0;32m---> 10\u001b[0;31m \u001b[0maxs\u001b[0m\u001b[0;34m[\u001b[0m\u001b[0;36m0\u001b[0m\u001b[0;34m]\u001b[0m\u001b[0;34m.\u001b[0m\u001b[0mplot\u001b[0m\u001b[0;34m(\u001b[0m\u001b[0ml_active\u001b[0m\u001b[0;34m,\u001b[0m\u001b[0mlabel\u001b[0m \u001b[0;34m=\u001b[0m \u001b[0;34m\"Active sampling\"\u001b[0m\u001b[0;34m)\u001b[0m\u001b[0;34m\u001b[0m\u001b[0;34m\u001b[0m\u001b[0m\n\u001b[0m\u001b[1;32m     11\u001b[0m \u001b[0maxs\u001b[0m\u001b[0;34m[\u001b[0m\u001b[0;36m1\u001b[0m\u001b[0;34m]\u001b[0m\u001b[0;34m.\u001b[0m\u001b[0mplot\u001b[0m\u001b[0;34m(\u001b[0m\u001b[0mqueries\u001b[0m\u001b[0;34m,\u001b[0m \u001b[0;36m1\u001b[0m \u001b[0;34m-\u001b[0m \u001b[0mnp\u001b[0m\u001b[0;34m.\u001b[0m\u001b[0marray\u001b[0m\u001b[0;34m(\u001b[0m\u001b[0merror\u001b[0m\u001b[0;34m)\u001b[0m\u001b[0;34m,\u001b[0m \u001b[0mlabel\u001b[0m \u001b[0;34m=\u001b[0m \u001b[0;34m\"Naive sampling with real quiries.\"\u001b[0m\u001b[0;34m)\u001b[0m\u001b[0;34m\u001b[0m\u001b[0;34m\u001b[0m\u001b[0m\n\u001b[1;32m     12\u001b[0m \u001b[0mplt\u001b[0m\u001b[0;34m.\u001b[0m\u001b[0mlegend\u001b[0m\u001b[0;34m(\u001b[0m\u001b[0;34m)\u001b[0m\u001b[0;34m\u001b[0m\u001b[0;34m\u001b[0m\u001b[0m\n",
      "\u001b[0;31mTypeError\u001b[0m: 'AxesSubplot' object is not subscriptable"
     ]
    },
    {
     "data": {
      "image/png": "[encoded data removed]",
      "text/plain": [
       "<Figure size 432x288 with 1 Axes>"
      ]
     },
     "metadata": {
      "needs_background": "light"
     },
     "output_type": "display_data"
    }
   ],
   "source": [
    "figs,axs = plt.subplots()\n",
    "## active sampling\n",
    "l_active = np.zeros(BUDGET)\n",
    "print(\"Begin DH active sampling.\")\n",
    "for i in np.arange(N_TRAILS):\n",
    "    print(\"Currently on trail %d\"%(i))\n",
    "    queries,error,hs,P = DH_sampling(X_train,y_train,Z,BUDGET,BATCH_SIZE,sampling_method=\"active\")\n",
    "    l_active+=error\n",
    "l_active = l_active/N_TRAILS\n"
   ]
  },
  {
   "cell_type": "code",
   "execution_count": 122,
   "id": "favorite-cleveland",
   "metadata": {},
   "outputs": [
    {
     "data": {
      "text/plain": [
       "<matplotlib.legend.Legend at 0x2922bfb80>"
      ]
     },
     "execution_count": 122,
     "metadata": {},
     "output_type": "execute_result"
    },
    {
     "data": {
      "image/png": "[encoded data removed]",
      "text/plain": [
       "<Figure size 432x288 with 1 Axes>"
      ]
     },
     "metadata": {
      "needs_background": "light"
     },
     "output_type": "display_data"
    }
   ],
   "source": [
    "figs,axs = plt.subplots()\n",
    "axs.plot(1 - np.array(l_active),label = \"Active sampling\")\n",
    "axs.plot(queries, 1 - np.array(error), label = \"Naive sampling with real quiries.\")\n",
    "plt.legend()"
   ]
  },
  {
   "cell_type": "code",
   "execution_count": null,
   "id": "irish-prompt",
   "metadata": {},
   "outputs": [],
   "source": []
  }
 ],
 "metadata": {
  "kernelspec": {
   "display_name": "Python 3",
   "language": "python",
   "name": "python3"
  },
  "language_info": {
   "codemirror_mode": {
    "name": "ipython",
    "version": 3
   },
   "file_extension": ".py",
   "mimetype": "text/x-python",
   "name": "python",
   "nbconvert_exporter": "python",
   "pygments_lexer": "ipython3",
   "version": "3.9.2"
  }
 },
 "nbformat": 4,
 "nbformat_minor": 5
}