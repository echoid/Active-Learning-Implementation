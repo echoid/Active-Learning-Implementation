{
 "cells": [
  {
   "cell_type": "markdown",
   "id": "wooden-renaissance",
   "metadata": {},
   "source": [
    "# COMP90051 Project 2\n",
    "**Name:** *enter your name here*\n",
    "\n",
    "**Student ID:** *your id here*"
   ]
  },
  {
   "cell_type": "code",
   "execution_count": 66,
   "id": "iraqi-recommendation",
   "metadata": {},
   "outputs": [],
   "source": [
    "# You can add additional imports here\n",
    "import numpy as np\n",
    "from matplotlib import pyplot as plt\n",
    "import os\n",
    "import random\n",
    "from sklearn.model_selection import train_test_split\n",
    "from collections import defaultdict\n",
    "from sklearn.linear_model import LogisticRegression\n",
    "import matplotlib.pyplot as plt\n",
    "import random\n",
    "from tqdm import tqdm"
   ]
  },
  {
   "cell_type": "code",
   "execution_count": 2,
   "id": "9cc5192b",
   "metadata": {},
   "outputs": [],
   "source": [
    "import warnings\n",
    "warnings.filterwarnings('ignore')"
   ]
  },
  {
   "cell_type": "markdown",
   "id": "defined-great",
   "metadata": {},
   "source": [
    "## 0. Loading the dataset"
   ]
  },
  {
   "cell_type": "code",
   "execution_count": 3,
   "id": "concerned-vessel",
   "metadata": {},
   "outputs": [],
   "source": [
    "# do not edit this cell\n",
    "# load the data files (download from the LMS)\n",
    "embedded_images = np.load('images.npy')\n",
    "labels = np.load('labels.npy')\n",
    "\n",
    "# split into pool & testing\n",
    "X_pool, X_test, y_pool, y_test = train_test_split(embedded_images, labels, \n",
    "                                                  test_size=0.5, random_state=1234, shuffle=True)\n",
    "\n",
    "# sample a seed set\n",
    "np.random.seed(1234)\n",
    "label2id = defaultdict(list)\n",
    "for i, label in enumerate(y_pool):\n",
    "    label2id[label].append(i)\n",
    "seed_set = []\n",
    "for label, ids in label2id.items():\n",
    "    seed_set.extend(np.random.choice(ids, size=10, replace=False))"
   ]
  },
  {
   "cell_type": "code",
   "execution_count": 4,
   "id": "f606db20",
   "metadata": {},
   "outputs": [],
   "source": [
    "seed_pool = X_pool[seed_set]\n",
    "seed_pool_label = y_pool[seed_set]"
   ]
  },
  {
   "cell_type": "code",
   "execution_count": 5,
   "id": "fa28ac69",
   "metadata": {},
   "outputs": [],
   "source": [
    "unlabelled_set = [x for x in list(range(0,len(X_pool))) if x not in seed_set]\n",
    "\n",
    "unlabelled_pool = X_pool[unlabelled_set]\n",
    "unlabelled_label = y_pool[unlabelled_set]"
   ]
  },
  {
   "cell_type": "code",
   "execution_count": 6,
   "id": "cd6e14ab",
   "metadata": {},
   "outputs": [
    {
     "name": "stdout",
     "output_type": "stream",
     "text": [
      "[['Alphabet_of_the_Magi' '200']\n",
      " ['Anglo-Saxon_Futhorc' '302']\n",
      " ['Arcadian' '234']\n",
      " ['Armenian' '416']\n",
      " ['Asomtavruli_(Georgian)' '390']\n",
      " ['Balinese' '252']\n",
      " ['Bengali' '452']\n",
      " ['Blackfoot_(Canadian_Aboriginal_Syllabics)' '136']\n",
      " ['Braille' '263']\n",
      " ['Burmese_(Myanmar)' '338']\n",
      " ['Cyrillic' '331']\n",
      " ['Early_Aramaic' '226']\n",
      " ['Futurama' '265']\n",
      " ['Grantha' '454']\n",
      " ['Greek' '237']\n",
      " ['Gujarati' '473']\n",
      " ['Hebrew' '221']\n",
      " ['Inuktitut_(Canadian_Aboriginal_Syllabics)' '145']\n",
      " ['Japanese_(hiragana)' '507']\n",
      " ['Japanese_(katakana)' '480']\n",
      " ['Korean' '404']\n",
      " ['Latin' '292']\n",
      " ['Malay_(Jawi_-_Arabic)' '404']\n",
      " ['Mkhedruli_(Georgian)' '409']\n",
      " ['N_Ko' '331']\n",
      " ['Ojibwe_(Canadian_Aboriginal_Syllabics)' '128']\n",
      " ['Sanskrit' '410']\n",
      " ['Syriac_(Estrangelo)' '229']\n",
      " ['Tagalog' '162']\n",
      " ['Tifinagh' '549']]\n"
     ]
    }
   ],
   "source": [
    "unique, counts = np.unique(y_pool, return_counts=True)\n",
    "\n",
    "print(np.asarray((unique, counts)).T)"
   ]
  },
  {
   "cell_type": "markdown",
   "id": "naval-income",
   "metadata": {},
   "source": [
    "## 1. Applying logistic regression"
   ]
  },
  {
   "cell_type": "code",
   "execution_count": 7,
   "id": "0e4e1eaf",
   "metadata": {},
   "outputs": [],
   "source": [
    "def train_logistic_regression(X, y, **args):\n",
    "    \"\"\"\n",
    "    Train a logistic regression model on dataset (X, y) and return trained model.\n",
    "    X: matrix of real values, size n x d\n",
    "    y: vector of string labels, size n\n",
    "    args: optional arguments e.g., for hyper-parameters\n",
    "    \"\"\"\n",
    "    model = LogisticRegression(**args).fit(X,y)\n",
    "    return model"
   ]
  },
  {
   "cell_type": "code",
   "execution_count": 8,
   "id": "bored-alberta",
   "metadata": {},
   "outputs": [],
   "source": [
    "def evaluate_logistic_regression_accuracy(Xt, yt, model):\n",
    "    \"\"\"\n",
    "    Apply logistic regression prediction on dataset Xt and evaluate accuracy against yt,\n",
    "    returing the accuracy results as a scalar.\n",
    "    Xt: matrix of real values, size m x d\n",
    "    yt: vector of string labels, size m\n",
    "    \"\"\"\n",
    "    score = model.score(Xt,yt)\n",
    "\n",
    "    return score"
   ]
  },
  {
   "cell_type": "code",
   "execution_count": 9,
   "id": "whole-grenada",
   "metadata": {},
   "outputs": [],
   "source": [
    "# Train Models\n",
    "full_pool_LR= train_logistic_regression(X_pool,y_pool)\n",
    "seed_pool_LR= train_logistic_regression(seed_pool,seed_pool_label)"
   ]
  },
  {
   "cell_type": "code",
   "execution_count": 10,
   "id": "4e2f293e",
   "metadata": {},
   "outputs": [
    {
     "name": "stdout",
     "output_type": "stream",
     "text": [
      "Train Accuracy for full pool:  0.66701244813278\n",
      "Test Accuracy for full pool:  0.5640041493775934\n"
     ]
    }
   ],
   "source": [
    "full_pool_train_acc = evaluate_logistic_regression_accuracy(X_pool,y_pool,full_pool_LR)\n",
    "full_pool_test_acc = evaluate_logistic_regression_accuracy(X_test,y_test,full_pool_LR)\n",
    "\n",
    "print(\"Train Accuracy for full pool: \",full_pool_train_acc)\n",
    "print(\"Test Accuracy for full pool: \",full_pool_test_acc)"
   ]
  },
  {
   "cell_type": "code",
   "execution_count": 12,
   "id": "f8d2b179",
   "metadata": {},
   "outputs": [
    {
     "name": "stdout",
     "output_type": "stream",
     "text": [
      "Train Accuracy for seed pool:  1.0\n",
      "Test Accuracy for seed pool:  0.316804979253112\n"
     ]
    }
   ],
   "source": [
    "seed_pool_train_acc = evaluate_logistic_regression_accuracy(seed_pool,seed_pool_label,seed_pool_LR)\n",
    "seed_pool_test_acc = evaluate_logistic_regression_accuracy(X_test,y_test,seed_pool_LR)\n",
    "\n",
    "print(\"Train Accuracy for seed pool: \",seed_pool_train_acc)\n",
    "print(\"Test Accuracy for seed pool: \",seed_pool_test_acc)"
   ]
  },
  {
   "cell_type": "code",
   "execution_count": 13,
   "id": "8875d3b1",
   "metadata": {},
   "outputs": [
    {
     "data": {
      "image/png": "[encoded data removed]",
      "text/plain": [
       "<Figure size 648x432 with 1 Axes>"
      ]
     },
     "metadata": {
      "needs_background": "light"
     },
     "output_type": "display_data"
    }
   ],
   "source": [
    "N = 2\n",
    "ind = np.arange(N)  # the x locations for the groups\n",
    "width = 0.27       # the width of the bars\n",
    "\n",
    "fig = plt.figure(figsize = (9,6))\n",
    "ax = fig.add_subplot(111)\n",
    "\n",
    "train_vals = [full_pool_train_acc,seed_pool_train_acc]\n",
    "rects1 = ax.bar(ind, train_vals, width)\n",
    "test_vals = [full_pool_test_acc,seed_pool_test_acc]\n",
    "rects2 = ax.bar(ind+width, test_vals, width)\n",
    "\n",
    "ax.set_ylabel('Accuracy')\n",
    "ax.set_xticks(ind+width/2)\n",
    "ax.set_xticklabels( ('Full Pool', 'Seed Pool') )\n",
    "ax.legend( (rects1[0], rects2[0]), ('Train', 'Test'),loc = 1 )\n",
    "\n",
    "def autolabel(rects):\n",
    "    for rect in rects:\n",
    "        h = rect.get_height()\n",
    "        ax.text(rect.get_x()+rect.get_width()/2., 1.01*h, round(h,3),\n",
    "                ha='center', va='bottom')\n",
    "\n",
    "autolabel(rects1)\n",
    "autolabel(rects2)\n",
    "plt.title(\"Logistic Regression Accuracy\")\n",
    "\n",
    "\n",
    "plt.show()"
   ]
  },
  {
   "cell_type": "markdown",
   "id": "sweet-elephant",
   "metadata": {},
   "source": [
    "## 2. Active learning framework with Random selection"
   ]
  },
  {
   "cell_type": "code",
   "execution_count": 14,
   "id": "ignored-compromise",
   "metadata": {},
   "outputs": [],
   "source": [
    "def random_select(X, model):\n",
    "    \"\"\"\n",
    "    Given an unlabelled dataset X, a matrix of n x d, and a model (not used)\n",
    "    returns a vector of scores of length n. Each entry reflects the priority \n",
    "    of the corresponding instance. Higher means better.\n",
    "    \"\"\"\n",
    "    score = [random.uniform(0, 1) for i in range(len(X))]\n",
    "\n",
    "    return score"
   ]
  },
  {
   "cell_type": "code",
   "execution_count": 68,
   "id": "lyric-constraint",
   "metadata": {},
   "outputs": [],
   "source": [
    "def pool_based_active_learning(X_pool, y_pool, seed_ids,\n",
    "                               train_func, select_func,\n",
    "                               max_size, batch_size, **args):\n",
    "    \"\"\"\n",
    "    Perform an active learning simulation, which starts by training on a seed set,\n",
    "    then iteratively applies the selection function to rank instances in the pool,\n",
    "    selects the top few instances which are included into the training set and the\n",
    "    process repeats. \n",
    "        X_pool: matrix of n x d\n",
    "        y_pool: vector of string labels, size n\n",
    "        seed_ids: initial labelled set set, as a list of indices [0..n-1] into pool\n",
    "        train_func: function which given (X, y, optional args) returns a trained model\n",
    "        select_func: function which given (X, optional args) returns a sequence of scores\n",
    "        max_size: stopping condition for active learning, when labelled data reaches given size\n",
    "        batch_size: number of instances to be labelled in each iteration\n",
    "        args: optional arguments passed to training and selection function\n",
    "    returns the sequence of trained models \n",
    "    \"\"\"\n",
    "    \n",
    "    L_X = X_pool[seed_ids]\n",
    "    L_y = y_pool[seed_ids]\n",
    "    \n",
    "    modellist = []\n",
    "    \n",
    "    pbar = tqdm(total = (max_size-len(L_X))/batch_size)\n",
    "    \n",
    "    while len(L_X) <= max_size:\n",
    "        \n",
    "        U_ids = [x for x in list(range(0,len(X_pool))) if x not in seed_ids]\n",
    "        \n",
    "        U_X = X_pool[U_ids]\n",
    "        U_y = y_pool[U_ids]\n",
    "        \n",
    "        \n",
    "        model = train_logistic_regression(L_X,L_y,**args)\n",
    "        score = select_func(U_X,model)\n",
    "        \n",
    "        r = sorted(range(len(score)), key=lambda k: score[k],reverse=True)[:batch_size]\n",
    "        modellist.append([model,len(L_X)])\n",
    " \n",
    "        \n",
    "        L_X = np.append(L_X, U_X[r],axis = 0)\n",
    "        L_y = np.append(L_y, U_y[r],axis = 0)\n",
    "        \n",
    "\n",
    "        seed_ids = seed_ids + r\n",
    "        pbar.update(1)\n",
    "        \n",
    "    pbar.close()\n",
    "    \n",
    "    return modellist"
   ]
  },
  {
   "cell_type": "code",
   "execution_count": 69,
   "id": "technical-edgar",
   "metadata": {},
   "outputs": [
    {
     "name": "stderr",
     "output_type": "stream",
     "text": [
      "100%|██████████████████████████████████████████████████████████████████████████████████| 46/46 [00:48<00:00,  1.06s/it]\n"
     ]
    }
   ],
   "source": [
    "batch = 60\n",
    "max_size = 3000\n",
    "models_random = pool_based_active_learning(X_pool, y_pool, seed_set, \n",
    "                                    train_logistic_regression, random_select, \n",
    "                                    max_size, batch)"
   ]
  },
  {
   "cell_type": "code",
   "execution_count": 70,
   "id": "complicated-allergy",
   "metadata": {},
   "outputs": [],
   "source": [
    "accuracy = [evaluate_logistic_regression_accuracy(X_test,y_test,model[0]) for model in models_random]\n",
    "samples = [model[1] for model in models_random]"
   ]
  },
  {
   "cell_type": "code",
   "execution_count": 71,
   "id": "2f04fed9",
   "metadata": {},
   "outputs": [
    {
     "data": {
      "image/png": "[encoded data removed]",
      "text/plain": [
       "<Figure size 648x432 with 1 Axes>"
      ]
     },
     "metadata": {
      "needs_background": "light"
     },
     "output_type": "display_data"
    }
   ],
   "source": [
    "fig = plt.figure(figsize = (9,6))\n",
    "ax = fig.add_subplot(111)\n",
    "\n",
    "ax.plot(samples,accuracy,\"o-\")\n",
    "\n",
    "ax.set_ylabel('Accuracy')\n",
    "ax.set_xlabel('Number of training instances')\n",
    "plt.title(\"Logistic Regression with Random heuristic\")\n",
    "\n",
    "\n",
    "plt.show()"
   ]
  },
  {
   "cell_type": "code",
   "execution_count": 72,
   "id": "5ec45cef",
   "metadata": {},
   "outputs": [
    {
     "data": {
      "text/plain": [
       "0.4760373443983402"
      ]
     },
     "execution_count": 72,
     "metadata": {},
     "output_type": "execute_result"
    }
   ],
   "source": [
    "max(accuracy)"
   ]
  },
  {
   "cell_type": "markdown",
   "id": "numerical-novel",
   "metadata": {},
   "source": [
    "## 3. Uncertainty sampling"
   ]
  },
  {
   "cell_type": "code",
   "execution_count": 51,
   "id": "raised-mistress",
   "metadata": {},
   "outputs": [],
   "source": [
    "def logistic_regression_entropy_select(X, model, **args):\n",
    "    \"\"\"\n",
    "    Given an unlabelled dataset X, a matrix of n x d, and a discriminative model \n",
    "    P(y|x), returns a vector of n entropy values.\n",
    "    \"\"\"\n",
    "    \n",
    "    def ENTROPY(probs):\n",
    "        return -probs.dot(np.log2(probs))\n",
    "    \n",
    "    probs = model.predict_proba(X)\n",
    "    \n",
    "    result = np.apply_along_axis(ENTROPY, 1, probs)\n",
    "    \n",
    "    return result\n"
   ]
  },
  {
   "cell_type": "code",
   "execution_count": 59,
   "id": "affected-story",
   "metadata": {
    "scrolled": false
   },
   "outputs": [],
   "source": [
    "models_us = pool_based_active_learning(X_pool, y_pool, seed_set, \n",
    "                                 train_logistic_regression, \n",
    "                                 logistic_regression_entropy_select, \n",
    "                                 max_size, batch,max_iter = 1000)"
   ]
  },
  {
   "cell_type": "code",
   "execution_count": 60,
   "id": "optical-mount",
   "metadata": {},
   "outputs": [],
   "source": [
    "accuracy = [evaluate_logistic_regression_accuracy(X_test,y_test,model[0]) for model in models_us]\n",
    "samples = [model[1] for model in models_us]"
   ]
  },
  {
   "cell_type": "code",
   "execution_count": 61,
   "id": "8e379f04",
   "metadata": {},
   "outputs": [
    {
     "data": {
      "image/png": "[encoded data removed]",
      "text/plain": [
       "<Figure size 648x432 with 1 Axes>"
      ]
     },
     "metadata": {
      "needs_background": "light"
     },
     "output_type": "display_data"
    }
   ],
   "source": [
    "fig = plt.figure(figsize = (9,6))\n",
    "ax = fig.add_subplot(111)\n",
    "\n",
    "ax.plot(samples,accuracy,\"o-\")\n",
    "\n",
    "ax.set_ylabel('Test Accuracy')\n",
    "ax.set_xlabel('Number of training instances')\n",
    "plt.title(\"Logistic Regression with Uncertainty sampling\")\n",
    "\n",
    "\n",
    "plt.show()"
   ]
  },
  {
   "cell_type": "code",
   "execution_count": 62,
   "id": "65e4cf97",
   "metadata": {},
   "outputs": [
    {
     "data": {
      "text/plain": [
       "0.49201244813278006"
      ]
     },
     "execution_count": 62,
     "metadata": {},
     "output_type": "execute_result"
    }
   ],
   "source": [
    "max(accuracy)"
   ]
  },
  {
   "cell_type": "markdown",
   "id": "diverse-taxation",
   "metadata": {},
   "source": [
    "## 4. Query by committee"
   ]
  },
  {
   "cell_type": "code",
   "execution_count": null,
   "id": "handy-water",
   "metadata": {},
   "outputs": [],
   "source": [
    "# don't forget to provide function descriptive comments, like those provided in templates above\n",
    "\n",
    "def query_by_committee_vote_entropy(X, model, **args):\n",
    "    pass\n",
    "\n",
    "def query_by_committee_soft_vote_entropy(X, model, **args):\n",
    "    pass\n",
    "\n",
    "def query_by_committee_KL(X, model, **args):\n",
    "    pass"
   ]
  },
  {
   "cell_type": "code",
   "execution_count": null,
   "id": "continued-clothing",
   "metadata": {},
   "outputs": [],
   "source": [
    "def train_committee(X, y, **args):\n",
    "    pass"
   ]
  },
  {
   "cell_type": "code",
   "execution_count": null,
   "id": "south-smooth",
   "metadata": {},
   "outputs": [],
   "source": [
    "## your code here for training, evaluation, and plotting code"
   ]
  },
  {
   "cell_type": "markdown",
   "id": "suffering-airport",
   "metadata": {},
   "source": [
    "## 5. Hierarchical sampling"
   ]
  },
  {
   "cell_type": "code",
   "execution_count": null,
   "id": "adopted-taylor",
   "metadata": {},
   "outputs": [],
   "source": [
    "## your code"
   ]
  }
 ],
 "metadata": {
  "kernelspec": {
   "display_name": "Python 3",
   "language": "python",
   "name": "python3"
  },
  "language_info": {
   "codemirror_mode": {
    "name": "ipython",
    "version": 3
   },
   "file_extension": ".py",
   "mimetype": "text/x-python",
   "name": "python",
   "nbconvert_exporter": "python",
   "pygments_lexer": "ipython3",
   "version": "3.8.8"
  }
 },
 "nbformat": 4,
 "nbformat_minor": 5
}
