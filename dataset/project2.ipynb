{
 "cells": [
  {
   "cell_type": "markdown",
   "id": "wooden-renaissance",
   "metadata": {},
   "source": [
    "# COMP90051 Project 2\n",
    "**Name:** *enter your name here*\n",
    "\n",
    "**Student ID:** *your id here*"
   ]
  },
  {
   "cell_type": "code",
   "execution_count": 1,
   "id": "iraqi-recommendation",
   "metadata": {},
   "outputs": [],
   "source": [
    "# You can add additional imports here\n",
    "import numpy as np\n",
    "from matplotlib import pyplot as plt\n",
    "import os\n",
    "import random\n",
    "from sklearn.model_selection import train_test_split\n",
    "from collections import defaultdict\n",
    "from sklearn.linear_model import LogisticRegression\n",
    "import matplotlib.pyplot as plt\n",
    "import random"
   ]
  },
  {
   "cell_type": "markdown",
   "id": "defined-great",
   "metadata": {},
   "source": [
    "## 0. Loading the dataset"
   ]
  },
  {
   "cell_type": "code",
   "execution_count": 2,
   "id": "concerned-vessel",
   "metadata": {},
   "outputs": [],
   "source": [
    "# do not edit this cell\n",
    "# load the data files (download from the LMS)\n",
    "embedded_images = np.load('images.npy')\n",
    "labels = np.load('labels.npy')\n",
    "\n",
    "# split into pool & testing\n",
    "X_pool, X_test, y_pool, y_test = train_test_split(embedded_images, labels, \n",
    "                                                  test_size=0.5, random_state=1234, shuffle=True)\n",
    "\n",
    "# sample a seed set\n",
    "np.random.seed(1234)\n",
    "label2id = defaultdict(list)\n",
    "for i, label in enumerate(y_pool):\n",
    "    label2id[label].append(i)\n",
    "seed_set = []\n",
    "for label, ids in label2id.items():\n",
    "    seed_set.extend(np.random.choice(ids, size=10, replace=False))"
   ]
  },
  {
   "cell_type": "code",
   "execution_count": 3,
   "metadata": {},
   "outputs": [],
   "source": [
    "seed_pool = X_pool[seed_set]\n",
    "seed_pool_label = y_pool[seed_set]"
   ]
  },
  {
   "cell_type": "code",
   "execution_count": 4,
   "metadata": {},
   "outputs": [],
   "source": [
    "unlabelled_set = [x for x in list(range(0,len(X_pool))) if x not in seed_set]\n",
    "\n",
    "unlabelled_pool = X_pool[unlabelled_set]\n",
    "unlabelled_label = y_pool[unlabelled_set]"
   ]
  },
  {
   "cell_type": "code",
   "execution_count": 5,
   "metadata": {},
   "outputs": [
    {
     "output_type": "stream",
     "name": "stdout",
     "text": [
      "[['Alphabet_of_the_Magi' '200']\n ['Anglo-Saxon_Futhorc' '302']\n ['Arcadian' '234']\n ['Armenian' '416']\n ['Asomtavruli_(Georgian)' '390']\n ['Balinese' '252']\n ['Bengali' '452']\n ['Blackfoot_(Canadian_Aboriginal_Syllabics)' '136']\n ['Braille' '263']\n ['Burmese_(Myanmar)' '338']\n ['Cyrillic' '331']\n ['Early_Aramaic' '226']\n ['Futurama' '265']\n ['Grantha' '454']\n ['Greek' '237']\n ['Gujarati' '473']\n ['Hebrew' '221']\n ['Inuktitut_(Canadian_Aboriginal_Syllabics)' '145']\n ['Japanese_(hiragana)' '507']\n ['Japanese_(katakana)' '480']\n ['Korean' '404']\n ['Latin' '292']\n ['Malay_(Jawi_-_Arabic)' '404']\n ['Mkhedruli_(Georgian)' '409']\n ['N_Ko' '331']\n ['Ojibwe_(Canadian_Aboriginal_Syllabics)' '128']\n ['Sanskrit' '410']\n ['Syriac_(Estrangelo)' '229']\n ['Tagalog' '162']\n ['Tifinagh' '549']]\n"
     ]
    }
   ],
   "source": [
    "unique, counts = np.unique(y_pool, return_counts=True)\n",
    "\n",
    "print(np.asarray((unique, counts)).T)"
   ]
  },
  {
   "cell_type": "markdown",
   "id": "naval-income",
   "metadata": {},
   "source": [
    "## 1. Applying logistic regression"
   ]
  },
  {
   "cell_type": "code",
   "execution_count": 6,
   "metadata": {},
   "outputs": [],
   "source": [
    "def train_logistic_regression(X, y, **args):\n",
    "    \"\"\"\n",
    "    Train a logistic regression model on dataset (X, y) and return trained model.\n",
    "    X: matrix of real values, size n x d\n",
    "    y: vector of string labels, size n\n",
    "    args: optional arguments e.g., for hyper-parameters\n",
    "    \"\"\"\n",
    "    model = LogisticRegression(**args).fit(X,y)\n",
    "    return model"
   ]
  },
  {
   "cell_type": "code",
   "execution_count": 7,
   "id": "bored-alberta",
   "metadata": {},
   "outputs": [],
   "source": [
    "def evaluate_logistic_regression_accuracy(Xt, yt, model):\n",
    "    \"\"\"\n",
    "    Apply logistic regression prediction on dataset Xt and evaluate accuracy against yt,\n",
    "    returing the accuracy results as a scalar.\n",
    "    Xt: matrix of real values, size m x d\n",
    "    yt: vector of string labels, size m\n",
    "    \"\"\"\n",
    "    score = model.score(Xt,yt)\n",
    "\n",
    "    return score"
   ]
  },
  {
   "cell_type": "code",
   "execution_count": 8,
   "id": "whole-grenada",
   "metadata": {},
   "outputs": [],
   "source": [
    "# Train Models\n",
    "full_pool_LR= train_logistic_regression(X_pool,y_pool, max_iter = 10000)\n",
    "seet_pool_LR= train_logistic_regression(seed_pool,seed_pool_label, max_iter = 10000)"
   ]
  },
  {
   "cell_type": "code",
   "execution_count": 9,
   "metadata": {},
   "outputs": [
    {
     "output_type": "stream",
     "name": "stdout",
     "text": [
      "Train Accuracy for full pool:  0.904356846473029\nTest Accuracy for full pool:  0.5835062240663901\n"
     ]
    }
   ],
   "source": [
    "full_pool_train_acc = evaluate_logistic_regression_accuracy(X_pool,y_pool,full_pool_LR)\n",
    "full_pool_test_acc = evaluate_logistic_regression_accuracy(X_test,y_test,full_pool_LR)\n",
    "\n",
    "print(\"Train Accuracy for full pool: \",full_pool_train_acc)\n",
    "print(\"Test Accuracy for full pool: \",full_pool_test_acc)"
   ]
  },
  {
   "cell_type": "code",
   "execution_count": 12,
   "metadata": {},
   "outputs": [
    {
     "output_type": "stream",
     "name": "stdout",
     "text": [
      "Train Accuracy for seed pool:  1.0\nTest Accuracy for seed pool:  0.3146265560165975\n"
     ]
    }
   ],
   "source": [
    "seed_pool_train_acc = evaluate_logistic_regression_accuracy(seed_pool,seed_pool_label,seet_pool_LR)\n",
    "seed_pool_test_acc = evaluate_logistic_regression_accuracy(X_test,y_test,seet_pool_LR)\n",
    "\n",
    "print(\"Train Accuracy for seed pool: \",seed_pool_train_acc)\n",
    "print(\"Test Accuracy for seed pool: \",seed_pool_test_acc)"
   ]
  },
  {
   "cell_type": "code",
   "execution_count": 13,
   "metadata": {},
   "outputs": [
    {
     "output_type": "display_data",
     "data": {
      "text/plain": "<Figure size 648x432 with 1 Axes>",
      "image/svg+xml": "<?xml version=\"1.0\" encoding=\"utf-8\" standalone=\"no\"?>\r\n<!DOCTYPE svg PUBLIC \"-//W3C//DTD SVG 1.1//EN\"\r\n  \"http://www.w3.org/Graphics/SVG/1.1/DTD/svg11.dtd\">\r\n<svg height=\"372.35625pt\" version=\"1.1\" viewBox=\"0 0 553.18125 372.35625\" width=\"553.18125pt\" xmlns=\"http://www.w3.org/2000/svg\" xmlns:xlink=\"http://www.w3.org/1999/xlink\">\r\n <metadata>\r\n  <rdf:RDF xmlns:cc=\"http://creativecommons.org/ns#\" xmlns:dc=\"http://purl.org/dc/elements/1.1/\" xmlns:rdf=\"http://www.w3.org/1999/02/22-rdf-syntax-ns#\">\r\n   <cc:Work>\r\n    <dc:type rdf:resource=\"http://purl.org/dc/dcmitype/StillImage\"/>\r\n    <dc:date>2021-05-14T21:09:59.155865</dc:date>\r\n    <dc:format>image/svg+xml</dc:format>\r\n    <dc:creator>\r\n     <cc:Agent>\r\n      <dc:title>Matplotlib v3.4.1, https://matplotlib.org/</dc:title>\r\n     </cc:Agent>\r\n    </dc:creator>\r\n   </cc:Work>\r\n  </rdf:RDF>\r\n </metadata>\r\n <defs>\r\n  <style type=\"text/css\">*{stroke-linecap:butt;stroke-linejoin:round;}</style>\r\n </defs>\r\n <g id=\"figure_1\">\r\n  <g id=\"patch_1\">\r\n   <path d=\"M 0 372.35625 \r\nL 553.18125 372.35625 \r\nL 553.18125 0 \r\nL 0 0 \r\nz\r\n\" style=\"fill:none;\"/>\r\n  </g>\r\n  <g id=\"axes_1\">\r\n   <g id=\"patch_2\">\r\n    <path d=\"M 43.78125 348.478125 \r\nL 545.98125 348.478125 \r\nL 545.98125 22.318125 \r\nL 43.78125 22.318125 \r\nz\r\n\" style=\"fill:#ffffff;\"/>\r\n   </g>\r\n   <g id=\"patch_3\">\r\n    <path clip-path=\"url(#pbf6c5aa33f)\" d=\"M 66.608523 348.478125 \r\nL 146.652206 348.478125 \r\nL 146.652206 67.55905 \r\nL 66.608523 67.55905 \r\nz\r\n\" style=\"fill:#1f77b4;\"/>\r\n   </g>\r\n   <g id=\"patch_4\">\r\n    <path clip-path=\"url(#pbf6c5aa33f)\" d=\"M 363.06661 348.478125 \r\nL 443.110294 348.478125 \r\nL 443.110294 37.849554 \r\nL 363.06661 37.849554 \r\nz\r\n\" style=\"fill:#1f77b4;\"/>\r\n   </g>\r\n   <g id=\"patch_5\">\r\n    <path clip-path=\"url(#pbf6c5aa33f)\" d=\"M 146.652206 348.478125 \r\nL 226.69589 348.478125 \r\nL 226.69589 167.22442 \r\nL 146.652206 167.22442 \r\nz\r\n\" style=\"fill:#ff7f0e;\"/>\r\n   </g>\r\n   <g id=\"patch_6\">\r\n    <path clip-path=\"url(#pbf6c5aa33f)\" d=\"M 443.110294 348.478125 \r\nL 523.153977 348.478125 \r\nL 523.153977 250.746127 \r\nL 443.110294 250.746127 \r\nz\r\n\" style=\"fill:#ff7f0e;\"/>\r\n   </g>\r\n   <g id=\"matplotlib.axis_1\">\r\n    <g id=\"xtick_1\">\r\n     <g id=\"line2d_1\">\r\n      <defs>\r\n       <path d=\"M 0 0 \r\nL 0 3.5 \r\n\" id=\"m4f601c7e42\" style=\"stroke:#000000;stroke-width:0.8;\"/>\r\n      </defs>\r\n      <g>\r\n       <use style=\"stroke:#000000;stroke-width:0.8;\" x=\"146.652206\" xlink:href=\"#m4f601c7e42\" y=\"348.478125\"/>\r\n      </g>\r\n     </g>\r\n     <g id=\"text_1\">\r\n      <!-- Full Pool -->\r\n      <g transform=\"translate(126.174081 363.076563)scale(0.1 -0.1)\">\r\n       <defs>\r\n        <path d=\"M 628 4666 \r\nL 3309 4666 \r\nL 3309 4134 \r\nL 1259 4134 \r\nL 1259 2759 \r\nL 3109 2759 \r\nL 3109 2228 \r\nL 1259 2228 \r\nL 1259 0 \r\nL 628 0 \r\nL 628 4666 \r\nz\r\n\" id=\"DejaVuSans-46\" transform=\"scale(0.015625)\"/>\r\n        <path d=\"M 544 1381 \r\nL 544 3500 \r\nL 1119 3500 \r\nL 1119 1403 \r\nQ 1119 906 1312 657 \r\nQ 1506 409 1894 409 \r\nQ 2359 409 2629 706 \r\nQ 2900 1003 2900 1516 \r\nL 2900 3500 \r\nL 3475 3500 \r\nL 3475 0 \r\nL 2900 0 \r\nL 2900 538 \r\nQ 2691 219 2414 64 \r\nQ 2138 -91 1772 -91 \r\nQ 1169 -91 856 284 \r\nQ 544 659 544 1381 \r\nz\r\nM 1991 3584 \r\nL 1991 3584 \r\nz\r\n\" id=\"DejaVuSans-75\" transform=\"scale(0.015625)\"/>\r\n        <path d=\"M 603 4863 \r\nL 1178 4863 \r\nL 1178 0 \r\nL 603 0 \r\nL 603 4863 \r\nz\r\n\" id=\"DejaVuSans-6c\" transform=\"scale(0.015625)\"/>\r\n        <path id=\"DejaVuSans-20\" transform=\"scale(0.015625)\"/>\r\n        <path d=\"M 1259 4147 \r\nL 1259 2394 \r\nL 2053 2394 \r\nQ 2494 2394 2734 2622 \r\nQ 2975 2850 2975 3272 \r\nQ 2975 3691 2734 3919 \r\nQ 2494 4147 2053 4147 \r\nL 1259 4147 \r\nz\r\nM 628 4666 \r\nL 2053 4666 \r\nQ 2838 4666 3239 4311 \r\nQ 3641 3956 3641 3272 \r\nQ 3641 2581 3239 2228 \r\nQ 2838 1875 2053 1875 \r\nL 1259 1875 \r\nL 1259 0 \r\nL 628 0 \r\nL 628 4666 \r\nz\r\n\" id=\"DejaVuSans-50\" transform=\"scale(0.015625)\"/>\r\n        <path d=\"M 1959 3097 \r\nQ 1497 3097 1228 2736 \r\nQ 959 2375 959 1747 \r\nQ 959 1119 1226 758 \r\nQ 1494 397 1959 397 \r\nQ 2419 397 2687 759 \r\nQ 2956 1122 2956 1747 \r\nQ 2956 2369 2687 2733 \r\nQ 2419 3097 1959 3097 \r\nz\r\nM 1959 3584 \r\nQ 2709 3584 3137 3096 \r\nQ 3566 2609 3566 1747 \r\nQ 3566 888 3137 398 \r\nQ 2709 -91 1959 -91 \r\nQ 1206 -91 779 398 \r\nQ 353 888 353 1747 \r\nQ 353 2609 779 3096 \r\nQ 1206 3584 1959 3584 \r\nz\r\n\" id=\"DejaVuSans-6f\" transform=\"scale(0.015625)\"/>\r\n       </defs>\r\n       <use xlink:href=\"#DejaVuSans-46\"/>\r\n       <use x=\"52.019531\" xlink:href=\"#DejaVuSans-75\"/>\r\n       <use x=\"115.398438\" xlink:href=\"#DejaVuSans-6c\"/>\r\n       <use x=\"143.181641\" xlink:href=\"#DejaVuSans-6c\"/>\r\n       <use x=\"170.964844\" xlink:href=\"#DejaVuSans-20\"/>\r\n       <use x=\"202.751953\" xlink:href=\"#DejaVuSans-50\"/>\r\n       <use x=\"259.429688\" xlink:href=\"#DejaVuSans-6f\"/>\r\n       <use x=\"320.611328\" xlink:href=\"#DejaVuSans-6f\"/>\r\n       <use x=\"381.792969\" xlink:href=\"#DejaVuSans-6c\"/>\r\n      </g>\r\n     </g>\r\n    </g>\r\n    <g id=\"xtick_2\">\r\n     <g id=\"line2d_2\">\r\n      <g>\r\n       <use style=\"stroke:#000000;stroke-width:0.8;\" x=\"443.110294\" xlink:href=\"#m4f601c7e42\" y=\"348.478125\"/>\r\n      </g>\r\n     </g>\r\n     <g id=\"text_2\">\r\n      <!-- Seed Pool -->\r\n      <g transform=\"translate(418.678262 363.076563)scale(0.1 -0.1)\">\r\n       <defs>\r\n        <path d=\"M 3425 4513 \r\nL 3425 3897 \r\nQ 3066 4069 2747 4153 \r\nQ 2428 4238 2131 4238 \r\nQ 1616 4238 1336 4038 \r\nQ 1056 3838 1056 3469 \r\nQ 1056 3159 1242 3001 \r\nQ 1428 2844 1947 2747 \r\nL 2328 2669 \r\nQ 3034 2534 3370 2195 \r\nQ 3706 1856 3706 1288 \r\nQ 3706 609 3251 259 \r\nQ 2797 -91 1919 -91 \r\nQ 1588 -91 1214 -16 \r\nQ 841 59 441 206 \r\nL 441 856 \r\nQ 825 641 1194 531 \r\nQ 1563 422 1919 422 \r\nQ 2459 422 2753 634 \r\nQ 3047 847 3047 1241 \r\nQ 3047 1584 2836 1778 \r\nQ 2625 1972 2144 2069 \r\nL 1759 2144 \r\nQ 1053 2284 737 2584 \r\nQ 422 2884 422 3419 \r\nQ 422 4038 858 4394 \r\nQ 1294 4750 2059 4750 \r\nQ 2388 4750 2728 4690 \r\nQ 3069 4631 3425 4513 \r\nz\r\n\" id=\"DejaVuSans-53\" transform=\"scale(0.015625)\"/>\r\n        <path d=\"M 3597 1894 \r\nL 3597 1613 \r\nL 953 1613 \r\nQ 991 1019 1311 708 \r\nQ 1631 397 2203 397 \r\nQ 2534 397 2845 478 \r\nQ 3156 559 3463 722 \r\nL 3463 178 \r\nQ 3153 47 2828 -22 \r\nQ 2503 -91 2169 -91 \r\nQ 1331 -91 842 396 \r\nQ 353 884 353 1716 \r\nQ 353 2575 817 3079 \r\nQ 1281 3584 2069 3584 \r\nQ 2775 3584 3186 3129 \r\nQ 3597 2675 3597 1894 \r\nz\r\nM 3022 2063 \r\nQ 3016 2534 2758 2815 \r\nQ 2500 3097 2075 3097 \r\nQ 1594 3097 1305 2825 \r\nQ 1016 2553 972 2059 \r\nL 3022 2063 \r\nz\r\n\" id=\"DejaVuSans-65\" transform=\"scale(0.015625)\"/>\r\n        <path d=\"M 2906 2969 \r\nL 2906 4863 \r\nL 3481 4863 \r\nL 3481 0 \r\nL 2906 0 \r\nL 2906 525 \r\nQ 2725 213 2448 61 \r\nQ 2172 -91 1784 -91 \r\nQ 1150 -91 751 415 \r\nQ 353 922 353 1747 \r\nQ 353 2572 751 3078 \r\nQ 1150 3584 1784 3584 \r\nQ 2172 3584 2448 3432 \r\nQ 2725 3281 2906 2969 \r\nz\r\nM 947 1747 \r\nQ 947 1113 1208 752 \r\nQ 1469 391 1925 391 \r\nQ 2381 391 2643 752 \r\nQ 2906 1113 2906 1747 \r\nQ 2906 2381 2643 2742 \r\nQ 2381 3103 1925 3103 \r\nQ 1469 3103 1208 2742 \r\nQ 947 2381 947 1747 \r\nz\r\n\" id=\"DejaVuSans-64\" transform=\"scale(0.015625)\"/>\r\n       </defs>\r\n       <use xlink:href=\"#DejaVuSans-53\"/>\r\n       <use x=\"63.476562\" xlink:href=\"#DejaVuSans-65\"/>\r\n       <use x=\"125\" xlink:href=\"#DejaVuSans-65\"/>\r\n       <use x=\"186.523438\" xlink:href=\"#DejaVuSans-64\"/>\r\n       <use x=\"250\" xlink:href=\"#DejaVuSans-20\"/>\r\n       <use x=\"281.787109\" xlink:href=\"#DejaVuSans-50\"/>\r\n       <use x=\"338.464844\" xlink:href=\"#DejaVuSans-6f\"/>\r\n       <use x=\"399.646484\" xlink:href=\"#DejaVuSans-6f\"/>\r\n       <use x=\"460.828125\" xlink:href=\"#DejaVuSans-6c\"/>\r\n      </g>\r\n     </g>\r\n    </g>\r\n   </g>\r\n   <g id=\"matplotlib.axis_2\">\r\n    <g id=\"ytick_1\">\r\n     <g id=\"line2d_3\">\r\n      <defs>\r\n       <path d=\"M 0 0 \r\nL -3.5 0 \r\n\" id=\"mbc47e80cc4\" style=\"stroke:#000000;stroke-width:0.8;\"/>\r\n      </defs>\r\n      <g>\r\n       <use style=\"stroke:#000000;stroke-width:0.8;\" x=\"43.78125\" xlink:href=\"#mbc47e80cc4\" y=\"348.478125\"/>\r\n      </g>\r\n     </g>\r\n     <g id=\"text_3\">\r\n      <!-- 0.0 -->\r\n      <g transform=\"translate(20.878125 352.277344)scale(0.1 -0.1)\">\r\n       <defs>\r\n        <path d=\"M 2034 4250 \r\nQ 1547 4250 1301 3770 \r\nQ 1056 3291 1056 2328 \r\nQ 1056 1369 1301 889 \r\nQ 1547 409 2034 409 \r\nQ 2525 409 2770 889 \r\nQ 3016 1369 3016 2328 \r\nQ 3016 3291 2770 3770 \r\nQ 2525 4250 2034 4250 \r\nz\r\nM 2034 4750 \r\nQ 2819 4750 3233 4129 \r\nQ 3647 3509 3647 2328 \r\nQ 3647 1150 3233 529 \r\nQ 2819 -91 2034 -91 \r\nQ 1250 -91 836 529 \r\nQ 422 1150 422 2328 \r\nQ 422 3509 836 4129 \r\nQ 1250 4750 2034 4750 \r\nz\r\n\" id=\"DejaVuSans-30\" transform=\"scale(0.015625)\"/>\r\n        <path d=\"M 684 794 \r\nL 1344 794 \r\nL 1344 0 \r\nL 684 0 \r\nL 684 794 \r\nz\r\n\" id=\"DejaVuSans-2e\" transform=\"scale(0.015625)\"/>\r\n       </defs>\r\n       <use xlink:href=\"#DejaVuSans-30\"/>\r\n       <use x=\"63.623047\" xlink:href=\"#DejaVuSans-2e\"/>\r\n       <use x=\"95.410156\" xlink:href=\"#DejaVuSans-30\"/>\r\n      </g>\r\n     </g>\r\n    </g>\r\n    <g id=\"ytick_2\">\r\n     <g id=\"line2d_4\">\r\n      <g>\r\n       <use style=\"stroke:#000000;stroke-width:0.8;\" x=\"43.78125\" xlink:href=\"#mbc47e80cc4\" y=\"286.352411\"/>\r\n      </g>\r\n     </g>\r\n     <g id=\"text_4\">\r\n      <!-- 0.2 -->\r\n      <g transform=\"translate(20.878125 290.151629)scale(0.1 -0.1)\">\r\n       <defs>\r\n        <path d=\"M 1228 531 \r\nL 3431 531 \r\nL 3431 0 \r\nL 469 0 \r\nL 469 531 \r\nQ 828 903 1448 1529 \r\nQ 2069 2156 2228 2338 \r\nQ 2531 2678 2651 2914 \r\nQ 2772 3150 2772 3378 \r\nQ 2772 3750 2511 3984 \r\nQ 2250 4219 1831 4219 \r\nQ 1534 4219 1204 4116 \r\nQ 875 4013 500 3803 \r\nL 500 4441 \r\nQ 881 4594 1212 4672 \r\nQ 1544 4750 1819 4750 \r\nQ 2544 4750 2975 4387 \r\nQ 3406 4025 3406 3419 \r\nQ 3406 3131 3298 2873 \r\nQ 3191 2616 2906 2266 \r\nQ 2828 2175 2409 1742 \r\nQ 1991 1309 1228 531 \r\nz\r\n\" id=\"DejaVuSans-32\" transform=\"scale(0.015625)\"/>\r\n       </defs>\r\n       <use xlink:href=\"#DejaVuSans-30\"/>\r\n       <use x=\"63.623047\" xlink:href=\"#DejaVuSans-2e\"/>\r\n       <use x=\"95.410156\" xlink:href=\"#DejaVuSans-32\"/>\r\n      </g>\r\n     </g>\r\n    </g>\r\n    <g id=\"ytick_3\">\r\n     <g id=\"line2d_5\">\r\n      <g>\r\n       <use style=\"stroke:#000000;stroke-width:0.8;\" x=\"43.78125\" xlink:href=\"#mbc47e80cc4\" y=\"224.226696\"/>\r\n      </g>\r\n     </g>\r\n     <g id=\"text_5\">\r\n      <!-- 0.4 -->\r\n      <g transform=\"translate(20.878125 228.025915)scale(0.1 -0.1)\">\r\n       <defs>\r\n        <path d=\"M 2419 4116 \r\nL 825 1625 \r\nL 2419 1625 \r\nL 2419 4116 \r\nz\r\nM 2253 4666 \r\nL 3047 4666 \r\nL 3047 1625 \r\nL 3713 1625 \r\nL 3713 1100 \r\nL 3047 1100 \r\nL 3047 0 \r\nL 2419 0 \r\nL 2419 1100 \r\nL 313 1100 \r\nL 313 1709 \r\nL 2253 4666 \r\nz\r\n\" id=\"DejaVuSans-34\" transform=\"scale(0.015625)\"/>\r\n       </defs>\r\n       <use xlink:href=\"#DejaVuSans-30\"/>\r\n       <use x=\"63.623047\" xlink:href=\"#DejaVuSans-2e\"/>\r\n       <use x=\"95.410156\" xlink:href=\"#DejaVuSans-34\"/>\r\n      </g>\r\n     </g>\r\n    </g>\r\n    <g id=\"ytick_4\">\r\n     <g id=\"line2d_6\">\r\n      <g>\r\n       <use style=\"stroke:#000000;stroke-width:0.8;\" x=\"43.78125\" xlink:href=\"#mbc47e80cc4\" y=\"162.100982\"/>\r\n      </g>\r\n     </g>\r\n     <g id=\"text_6\">\r\n      <!-- 0.6 -->\r\n      <g transform=\"translate(20.878125 165.900201)scale(0.1 -0.1)\">\r\n       <defs>\r\n        <path d=\"M 2113 2584 \r\nQ 1688 2584 1439 2293 \r\nQ 1191 2003 1191 1497 \r\nQ 1191 994 1439 701 \r\nQ 1688 409 2113 409 \r\nQ 2538 409 2786 701 \r\nQ 3034 994 3034 1497 \r\nQ 3034 2003 2786 2293 \r\nQ 2538 2584 2113 2584 \r\nz\r\nM 3366 4563 \r\nL 3366 3988 \r\nQ 3128 4100 2886 4159 \r\nQ 2644 4219 2406 4219 \r\nQ 1781 4219 1451 3797 \r\nQ 1122 3375 1075 2522 \r\nQ 1259 2794 1537 2939 \r\nQ 1816 3084 2150 3084 \r\nQ 2853 3084 3261 2657 \r\nQ 3669 2231 3669 1497 \r\nQ 3669 778 3244 343 \r\nQ 2819 -91 2113 -91 \r\nQ 1303 -91 875 529 \r\nQ 447 1150 447 2328 \r\nQ 447 3434 972 4092 \r\nQ 1497 4750 2381 4750 \r\nQ 2619 4750 2861 4703 \r\nQ 3103 4656 3366 4563 \r\nz\r\n\" id=\"DejaVuSans-36\" transform=\"scale(0.015625)\"/>\r\n       </defs>\r\n       <use xlink:href=\"#DejaVuSans-30\"/>\r\n       <use x=\"63.623047\" xlink:href=\"#DejaVuSans-2e\"/>\r\n       <use x=\"95.410156\" xlink:href=\"#DejaVuSans-36\"/>\r\n      </g>\r\n     </g>\r\n    </g>\r\n    <g id=\"ytick_5\">\r\n     <g id=\"line2d_7\">\r\n      <g>\r\n       <use style=\"stroke:#000000;stroke-width:0.8;\" x=\"43.78125\" xlink:href=\"#mbc47e80cc4\" y=\"99.975268\"/>\r\n      </g>\r\n     </g>\r\n     <g id=\"text_7\">\r\n      <!-- 0.8 -->\r\n      <g transform=\"translate(20.878125 103.774487)scale(0.1 -0.1)\">\r\n       <defs>\r\n        <path d=\"M 2034 2216 \r\nQ 1584 2216 1326 1975 \r\nQ 1069 1734 1069 1313 \r\nQ 1069 891 1326 650 \r\nQ 1584 409 2034 409 \r\nQ 2484 409 2743 651 \r\nQ 3003 894 3003 1313 \r\nQ 3003 1734 2745 1975 \r\nQ 2488 2216 2034 2216 \r\nz\r\nM 1403 2484 \r\nQ 997 2584 770 2862 \r\nQ 544 3141 544 3541 \r\nQ 544 4100 942 4425 \r\nQ 1341 4750 2034 4750 \r\nQ 2731 4750 3128 4425 \r\nQ 3525 4100 3525 3541 \r\nQ 3525 3141 3298 2862 \r\nQ 3072 2584 2669 2484 \r\nQ 3125 2378 3379 2068 \r\nQ 3634 1759 3634 1313 \r\nQ 3634 634 3220 271 \r\nQ 2806 -91 2034 -91 \r\nQ 1263 -91 848 271 \r\nQ 434 634 434 1313 \r\nQ 434 1759 690 2068 \r\nQ 947 2378 1403 2484 \r\nz\r\nM 1172 3481 \r\nQ 1172 3119 1398 2916 \r\nQ 1625 2713 2034 2713 \r\nQ 2441 2713 2670 2916 \r\nQ 2900 3119 2900 3481 \r\nQ 2900 3844 2670 4047 \r\nQ 2441 4250 2034 4250 \r\nQ 1625 4250 1398 4047 \r\nQ 1172 3844 1172 3481 \r\nz\r\n\" id=\"DejaVuSans-38\" transform=\"scale(0.015625)\"/>\r\n       </defs>\r\n       <use xlink:href=\"#DejaVuSans-30\"/>\r\n       <use x=\"63.623047\" xlink:href=\"#DejaVuSans-2e\"/>\r\n       <use x=\"95.410156\" xlink:href=\"#DejaVuSans-38\"/>\r\n      </g>\r\n     </g>\r\n    </g>\r\n    <g id=\"ytick_6\">\r\n     <g id=\"line2d_8\">\r\n      <g>\r\n       <use style=\"stroke:#000000;stroke-width:0.8;\" x=\"43.78125\" xlink:href=\"#mbc47e80cc4\" y=\"37.849554\"/>\r\n      </g>\r\n     </g>\r\n     <g id=\"text_8\">\r\n      <!-- 1.0 -->\r\n      <g transform=\"translate(20.878125 41.648772)scale(0.1 -0.1)\">\r\n       <defs>\r\n        <path d=\"M 794 531 \r\nL 1825 531 \r\nL 1825 4091 \r\nL 703 3866 \r\nL 703 4441 \r\nL 1819 4666 \r\nL 2450 4666 \r\nL 2450 531 \r\nL 3481 531 \r\nL 3481 0 \r\nL 794 0 \r\nL 794 531 \r\nz\r\n\" id=\"DejaVuSans-31\" transform=\"scale(0.015625)\"/>\r\n       </defs>\r\n       <use xlink:href=\"#DejaVuSans-31\"/>\r\n       <use x=\"63.623047\" xlink:href=\"#DejaVuSans-2e\"/>\r\n       <use x=\"95.410156\" xlink:href=\"#DejaVuSans-30\"/>\r\n      </g>\r\n     </g>\r\n    </g>\r\n    <g id=\"text_9\">\r\n     <!-- Accuracy -->\r\n     <g transform=\"translate(14.798438 208.22625)rotate(-90)scale(0.1 -0.1)\">\r\n      <defs>\r\n       <path d=\"M 2188 4044 \r\nL 1331 1722 \r\nL 3047 1722 \r\nL 2188 4044 \r\nz\r\nM 1831 4666 \r\nL 2547 4666 \r\nL 4325 0 \r\nL 3669 0 \r\nL 3244 1197 \r\nL 1141 1197 \r\nL 716 0 \r\nL 50 0 \r\nL 1831 4666 \r\nz\r\n\" id=\"DejaVuSans-41\" transform=\"scale(0.015625)\"/>\r\n       <path d=\"M 3122 3366 \r\nL 3122 2828 \r\nQ 2878 2963 2633 3030 \r\nQ 2388 3097 2138 3097 \r\nQ 1578 3097 1268 2742 \r\nQ 959 2388 959 1747 \r\nQ 959 1106 1268 751 \r\nQ 1578 397 2138 397 \r\nQ 2388 397 2633 464 \r\nQ 2878 531 3122 666 \r\nL 3122 134 \r\nQ 2881 22 2623 -34 \r\nQ 2366 -91 2075 -91 \r\nQ 1284 -91 818 406 \r\nQ 353 903 353 1747 \r\nQ 353 2603 823 3093 \r\nQ 1294 3584 2113 3584 \r\nQ 2378 3584 2631 3529 \r\nQ 2884 3475 3122 3366 \r\nz\r\n\" id=\"DejaVuSans-63\" transform=\"scale(0.015625)\"/>\r\n       <path d=\"M 2631 2963 \r\nQ 2534 3019 2420 3045 \r\nQ 2306 3072 2169 3072 \r\nQ 1681 3072 1420 2755 \r\nQ 1159 2438 1159 1844 \r\nL 1159 0 \r\nL 581 0 \r\nL 581 3500 \r\nL 1159 3500 \r\nL 1159 2956 \r\nQ 1341 3275 1631 3429 \r\nQ 1922 3584 2338 3584 \r\nQ 2397 3584 2469 3576 \r\nQ 2541 3569 2628 3553 \r\nL 2631 2963 \r\nz\r\n\" id=\"DejaVuSans-72\" transform=\"scale(0.015625)\"/>\r\n       <path d=\"M 2194 1759 \r\nQ 1497 1759 1228 1600 \r\nQ 959 1441 959 1056 \r\nQ 959 750 1161 570 \r\nQ 1363 391 1709 391 \r\nQ 2188 391 2477 730 \r\nQ 2766 1069 2766 1631 \r\nL 2766 1759 \r\nL 2194 1759 \r\nz\r\nM 3341 1997 \r\nL 3341 0 \r\nL 2766 0 \r\nL 2766 531 \r\nQ 2569 213 2275 61 \r\nQ 1981 -91 1556 -91 \r\nQ 1019 -91 701 211 \r\nQ 384 513 384 1019 \r\nQ 384 1609 779 1909 \r\nQ 1175 2209 1959 2209 \r\nL 2766 2209 \r\nL 2766 2266 \r\nQ 2766 2663 2505 2880 \r\nQ 2244 3097 1772 3097 \r\nQ 1472 3097 1187 3025 \r\nQ 903 2953 641 2809 \r\nL 641 3341 \r\nQ 956 3463 1253 3523 \r\nQ 1550 3584 1831 3584 \r\nQ 2591 3584 2966 3190 \r\nQ 3341 2797 3341 1997 \r\nz\r\n\" id=\"DejaVuSans-61\" transform=\"scale(0.015625)\"/>\r\n       <path d=\"M 2059 -325 \r\nQ 1816 -950 1584 -1140 \r\nQ 1353 -1331 966 -1331 \r\nL 506 -1331 \r\nL 506 -850 \r\nL 844 -850 \r\nQ 1081 -850 1212 -737 \r\nQ 1344 -625 1503 -206 \r\nL 1606 56 \r\nL 191 3500 \r\nL 800 3500 \r\nL 1894 763 \r\nL 2988 3500 \r\nL 3597 3500 \r\nL 2059 -325 \r\nz\r\n\" id=\"DejaVuSans-79\" transform=\"scale(0.015625)\"/>\r\n      </defs>\r\n      <use xlink:href=\"#DejaVuSans-41\"/>\r\n      <use x=\"66.658203\" xlink:href=\"#DejaVuSans-63\"/>\r\n      <use x=\"121.638672\" xlink:href=\"#DejaVuSans-63\"/>\r\n      <use x=\"176.619141\" xlink:href=\"#DejaVuSans-75\"/>\r\n      <use x=\"239.998047\" xlink:href=\"#DejaVuSans-72\"/>\r\n      <use x=\"281.111328\" xlink:href=\"#DejaVuSans-61\"/>\r\n      <use x=\"342.390625\" xlink:href=\"#DejaVuSans-63\"/>\r\n      <use x=\"397.371094\" xlink:href=\"#DejaVuSans-79\"/>\r\n     </g>\r\n    </g>\r\n   </g>\r\n   <g id=\"patch_7\">\r\n    <path d=\"M 43.78125 348.478125 \r\nL 43.78125 22.318125 \r\n\" style=\"fill:none;stroke:#000000;stroke-linecap:square;stroke-linejoin:miter;stroke-width:0.8;\"/>\r\n   </g>\r\n   <g id=\"patch_8\">\r\n    <path d=\"M 545.98125 348.478125 \r\nL 545.98125 22.318125 \r\n\" style=\"fill:none;stroke:#000000;stroke-linecap:square;stroke-linejoin:miter;stroke-width:0.8;\"/>\r\n   </g>\r\n   <g id=\"patch_9\">\r\n    <path d=\"M 43.78125 348.478125 \r\nL 545.98125 348.478125 \r\n\" style=\"fill:none;stroke:#000000;stroke-linecap:square;stroke-linejoin:miter;stroke-width:0.8;\"/>\r\n   </g>\r\n   <g id=\"patch_10\">\r\n    <path d=\"M 43.78125 22.318125 \r\nL 545.98125 22.318125 \r\n\" style=\"fill:none;stroke:#000000;stroke-linecap:square;stroke-linejoin:miter;stroke-width:0.8;\"/>\r\n   </g>\r\n   <g id=\"text_10\">\r\n    <!-- 0.904 -->\r\n    <g transform=\"translate(92.316302 62.670171)scale(0.1 -0.1)\">\r\n     <defs>\r\n      <path d=\"M 703 97 \r\nL 703 672 \r\nQ 941 559 1184 500 \r\nQ 1428 441 1663 441 \r\nQ 2288 441 2617 861 \r\nQ 2947 1281 2994 2138 \r\nQ 2813 1869 2534 1725 \r\nQ 2256 1581 1919 1581 \r\nQ 1219 1581 811 2004 \r\nQ 403 2428 403 3163 \r\nQ 403 3881 828 4315 \r\nQ 1253 4750 1959 4750 \r\nQ 2769 4750 3195 4129 \r\nQ 3622 3509 3622 2328 \r\nQ 3622 1225 3098 567 \r\nQ 2575 -91 1691 -91 \r\nQ 1453 -91 1209 -44 \r\nQ 966 3 703 97 \r\nz\r\nM 1959 2075 \r\nQ 2384 2075 2632 2365 \r\nQ 2881 2656 2881 3163 \r\nQ 2881 3666 2632 3958 \r\nQ 2384 4250 1959 4250 \r\nQ 1534 4250 1286 3958 \r\nQ 1038 3666 1038 3163 \r\nQ 1038 2656 1286 2365 \r\nQ 1534 2075 1959 2075 \r\nz\r\n\" id=\"DejaVuSans-39\" transform=\"scale(0.015625)\"/>\r\n     </defs>\r\n     <use xlink:href=\"#DejaVuSans-30\"/>\r\n     <use x=\"63.623047\" xlink:href=\"#DejaVuSans-2e\"/>\r\n     <use x=\"95.410156\" xlink:href=\"#DejaVuSans-39\"/>\r\n     <use x=\"159.033203\" xlink:href=\"#DejaVuSans-30\"/>\r\n     <use x=\"222.65625\" xlink:href=\"#DejaVuSans-34\"/>\r\n    </g>\r\n   </g>\r\n   <g id=\"text_11\">\r\n    <!-- 1.0 -->\r\n    <g transform=\"translate(395.136889 32.66358)scale(0.1 -0.1)\">\r\n     <use xlink:href=\"#DejaVuSans-31\"/>\r\n     <use x=\"63.623047\" xlink:href=\"#DejaVuSans-2e\"/>\r\n     <use x=\"95.410156\" xlink:href=\"#DejaVuSans-30\"/>\r\n    </g>\r\n   </g>\r\n   <g id=\"text_12\">\r\n    <!-- 0.584 -->\r\n    <g transform=\"translate(172.359986 163.332196)scale(0.1 -0.1)\">\r\n     <defs>\r\n      <path d=\"M 691 4666 \r\nL 3169 4666 \r\nL 3169 4134 \r\nL 1269 4134 \r\nL 1269 2991 \r\nQ 1406 3038 1543 3061 \r\nQ 1681 3084 1819 3084 \r\nQ 2600 3084 3056 2656 \r\nQ 3513 2228 3513 1497 \r\nQ 3513 744 3044 326 \r\nQ 2575 -91 1722 -91 \r\nQ 1428 -91 1123 -41 \r\nQ 819 9 494 109 \r\nL 494 744 \r\nQ 775 591 1075 516 \r\nQ 1375 441 1709 441 \r\nQ 2250 441 2565 725 \r\nQ 2881 1009 2881 1497 \r\nQ 2881 1984 2565 2268 \r\nQ 2250 2553 1709 2553 \r\nQ 1456 2553 1204 2497 \r\nQ 953 2441 691 2322 \r\nL 691 4666 \r\nz\r\n\" id=\"DejaVuSans-35\" transform=\"scale(0.015625)\"/>\r\n     </defs>\r\n     <use xlink:href=\"#DejaVuSans-30\"/>\r\n     <use x=\"63.623047\" xlink:href=\"#DejaVuSans-2e\"/>\r\n     <use x=\"95.410156\" xlink:href=\"#DejaVuSans-35\"/>\r\n     <use x=\"159.033203\" xlink:href=\"#DejaVuSans-38\"/>\r\n     <use x=\"222.65625\" xlink:href=\"#DejaVuSans-34\"/>\r\n    </g>\r\n   </g>\r\n   <g id=\"text_13\">\r\n    <!-- 0.315 -->\r\n    <g transform=\"translate(468.818073 247.68912)scale(0.1 -0.1)\">\r\n     <defs>\r\n      <path d=\"M 2597 2516 \r\nQ 3050 2419 3304 2112 \r\nQ 3559 1806 3559 1356 \r\nQ 3559 666 3084 287 \r\nQ 2609 -91 1734 -91 \r\nQ 1441 -91 1130 -33 \r\nQ 819 25 488 141 \r\nL 488 750 \r\nQ 750 597 1062 519 \r\nQ 1375 441 1716 441 \r\nQ 2309 441 2620 675 \r\nQ 2931 909 2931 1356 \r\nQ 2931 1769 2642 2001 \r\nQ 2353 2234 1838 2234 \r\nL 1294 2234 \r\nL 1294 2753 \r\nL 1863 2753 \r\nQ 2328 2753 2575 2939 \r\nQ 2822 3125 2822 3475 \r\nQ 2822 3834 2567 4026 \r\nQ 2313 4219 1838 4219 \r\nQ 1578 4219 1281 4162 \r\nQ 984 4106 628 3988 \r\nL 628 4550 \r\nQ 988 4650 1302 4700 \r\nQ 1616 4750 1894 4750 \r\nQ 2613 4750 3031 4423 \r\nQ 3450 4097 3450 3541 \r\nQ 3450 3153 3228 2886 \r\nQ 3006 2619 2597 2516 \r\nz\r\n\" id=\"DejaVuSans-33\" transform=\"scale(0.015625)\"/>\r\n     </defs>\r\n     <use xlink:href=\"#DejaVuSans-30\"/>\r\n     <use x=\"63.623047\" xlink:href=\"#DejaVuSans-2e\"/>\r\n     <use x=\"95.410156\" xlink:href=\"#DejaVuSans-33\"/>\r\n     <use x=\"159.033203\" xlink:href=\"#DejaVuSans-31\"/>\r\n     <use x=\"222.65625\" xlink:href=\"#DejaVuSans-35\"/>\r\n    </g>\r\n   </g>\r\n   <g id=\"text_14\">\r\n    <!-- Logistic Regression Accuracy -->\r\n    <g transform=\"translate(208.029375 16.318125)scale(0.12 -0.12)\">\r\n     <defs>\r\n      <path d=\"M 628 4666 \r\nL 1259 4666 \r\nL 1259 531 \r\nL 3531 531 \r\nL 3531 0 \r\nL 628 0 \r\nL 628 4666 \r\nz\r\n\" id=\"DejaVuSans-4c\" transform=\"scale(0.015625)\"/>\r\n      <path d=\"M 2906 1791 \r\nQ 2906 2416 2648 2759 \r\nQ 2391 3103 1925 3103 \r\nQ 1463 3103 1205 2759 \r\nQ 947 2416 947 1791 \r\nQ 947 1169 1205 825 \r\nQ 1463 481 1925 481 \r\nQ 2391 481 2648 825 \r\nQ 2906 1169 2906 1791 \r\nz\r\nM 3481 434 \r\nQ 3481 -459 3084 -895 \r\nQ 2688 -1331 1869 -1331 \r\nQ 1566 -1331 1297 -1286 \r\nQ 1028 -1241 775 -1147 \r\nL 775 -588 \r\nQ 1028 -725 1275 -790 \r\nQ 1522 -856 1778 -856 \r\nQ 2344 -856 2625 -561 \r\nQ 2906 -266 2906 331 \r\nL 2906 616 \r\nQ 2728 306 2450 153 \r\nQ 2172 0 1784 0 \r\nQ 1141 0 747 490 \r\nQ 353 981 353 1791 \r\nQ 353 2603 747 3093 \r\nQ 1141 3584 1784 3584 \r\nQ 2172 3584 2450 3431 \r\nQ 2728 3278 2906 2969 \r\nL 2906 3500 \r\nL 3481 3500 \r\nL 3481 434 \r\nz\r\n\" id=\"DejaVuSans-67\" transform=\"scale(0.015625)\"/>\r\n      <path d=\"M 603 3500 \r\nL 1178 3500 \r\nL 1178 0 \r\nL 603 0 \r\nL 603 3500 \r\nz\r\nM 603 4863 \r\nL 1178 4863 \r\nL 1178 4134 \r\nL 603 4134 \r\nL 603 4863 \r\nz\r\n\" id=\"DejaVuSans-69\" transform=\"scale(0.015625)\"/>\r\n      <path d=\"M 2834 3397 \r\nL 2834 2853 \r\nQ 2591 2978 2328 3040 \r\nQ 2066 3103 1784 3103 \r\nQ 1356 3103 1142 2972 \r\nQ 928 2841 928 2578 \r\nQ 928 2378 1081 2264 \r\nQ 1234 2150 1697 2047 \r\nL 1894 2003 \r\nQ 2506 1872 2764 1633 \r\nQ 3022 1394 3022 966 \r\nQ 3022 478 2636 193 \r\nQ 2250 -91 1575 -91 \r\nQ 1294 -91 989 -36 \r\nQ 684 19 347 128 \r\nL 347 722 \r\nQ 666 556 975 473 \r\nQ 1284 391 1588 391 \r\nQ 1994 391 2212 530 \r\nQ 2431 669 2431 922 \r\nQ 2431 1156 2273 1281 \r\nQ 2116 1406 1581 1522 \r\nL 1381 1569 \r\nQ 847 1681 609 1914 \r\nQ 372 2147 372 2553 \r\nQ 372 3047 722 3315 \r\nQ 1072 3584 1716 3584 \r\nQ 2034 3584 2315 3537 \r\nQ 2597 3491 2834 3397 \r\nz\r\n\" id=\"DejaVuSans-73\" transform=\"scale(0.015625)\"/>\r\n      <path d=\"M 1172 4494 \r\nL 1172 3500 \r\nL 2356 3500 \r\nL 2356 3053 \r\nL 1172 3053 \r\nL 1172 1153 \r\nQ 1172 725 1289 603 \r\nQ 1406 481 1766 481 \r\nL 2356 481 \r\nL 2356 0 \r\nL 1766 0 \r\nQ 1100 0 847 248 \r\nQ 594 497 594 1153 \r\nL 594 3053 \r\nL 172 3053 \r\nL 172 3500 \r\nL 594 3500 \r\nL 594 4494 \r\nL 1172 4494 \r\nz\r\n\" id=\"DejaVuSans-74\" transform=\"scale(0.015625)\"/>\r\n      <path d=\"M 2841 2188 \r\nQ 3044 2119 3236 1894 \r\nQ 3428 1669 3622 1275 \r\nL 4263 0 \r\nL 3584 0 \r\nL 2988 1197 \r\nQ 2756 1666 2539 1819 \r\nQ 2322 1972 1947 1972 \r\nL 1259 1972 \r\nL 1259 0 \r\nL 628 0 \r\nL 628 4666 \r\nL 2053 4666 \r\nQ 2853 4666 3247 4331 \r\nQ 3641 3997 3641 3322 \r\nQ 3641 2881 3436 2590 \r\nQ 3231 2300 2841 2188 \r\nz\r\nM 1259 4147 \r\nL 1259 2491 \r\nL 2053 2491 \r\nQ 2509 2491 2742 2702 \r\nQ 2975 2913 2975 3322 \r\nQ 2975 3731 2742 3939 \r\nQ 2509 4147 2053 4147 \r\nL 1259 4147 \r\nz\r\n\" id=\"DejaVuSans-52\" transform=\"scale(0.015625)\"/>\r\n      <path d=\"M 3513 2113 \r\nL 3513 0 \r\nL 2938 0 \r\nL 2938 2094 \r\nQ 2938 2591 2744 2837 \r\nQ 2550 3084 2163 3084 \r\nQ 1697 3084 1428 2787 \r\nQ 1159 2491 1159 1978 \r\nL 1159 0 \r\nL 581 0 \r\nL 581 3500 \r\nL 1159 3500 \r\nL 1159 2956 \r\nQ 1366 3272 1645 3428 \r\nQ 1925 3584 2291 3584 \r\nQ 2894 3584 3203 3211 \r\nQ 3513 2838 3513 2113 \r\nz\r\n\" id=\"DejaVuSans-6e\" transform=\"scale(0.015625)\"/>\r\n     </defs>\r\n     <use xlink:href=\"#DejaVuSans-4c\"/>\r\n     <use x=\"53.962891\" xlink:href=\"#DejaVuSans-6f\"/>\r\n     <use x=\"115.144531\" xlink:href=\"#DejaVuSans-67\"/>\r\n     <use x=\"178.621094\" xlink:href=\"#DejaVuSans-69\"/>\r\n     <use x=\"206.404297\" xlink:href=\"#DejaVuSans-73\"/>\r\n     <use x=\"258.503906\" xlink:href=\"#DejaVuSans-74\"/>\r\n     <use x=\"297.712891\" xlink:href=\"#DejaVuSans-69\"/>\r\n     <use x=\"325.496094\" xlink:href=\"#DejaVuSans-63\"/>\r\n     <use x=\"380.476562\" xlink:href=\"#DejaVuSans-20\"/>\r\n     <use x=\"412.263672\" xlink:href=\"#DejaVuSans-52\"/>\r\n     <use x=\"477.246094\" xlink:href=\"#DejaVuSans-65\"/>\r\n     <use x=\"538.769531\" xlink:href=\"#DejaVuSans-67\"/>\r\n     <use x=\"602.246094\" xlink:href=\"#DejaVuSans-72\"/>\r\n     <use x=\"641.109375\" xlink:href=\"#DejaVuSans-65\"/>\r\n     <use x=\"702.632812\" xlink:href=\"#DejaVuSans-73\"/>\r\n     <use x=\"754.732422\" xlink:href=\"#DejaVuSans-73\"/>\r\n     <use x=\"806.832031\" xlink:href=\"#DejaVuSans-69\"/>\r\n     <use x=\"834.615234\" xlink:href=\"#DejaVuSans-6f\"/>\r\n     <use x=\"895.796875\" xlink:href=\"#DejaVuSans-6e\"/>\r\n     <use x=\"959.175781\" xlink:href=\"#DejaVuSans-20\"/>\r\n     <use x=\"990.962891\" xlink:href=\"#DejaVuSans-41\"/>\r\n     <use x=\"1057.621094\" xlink:href=\"#DejaVuSans-63\"/>\r\n     <use x=\"1112.601562\" xlink:href=\"#DejaVuSans-63\"/>\r\n     <use x=\"1167.582031\" xlink:href=\"#DejaVuSans-75\"/>\r\n     <use x=\"1230.960938\" xlink:href=\"#DejaVuSans-72\"/>\r\n     <use x=\"1272.074219\" xlink:href=\"#DejaVuSans-61\"/>\r\n     <use x=\"1333.353516\" xlink:href=\"#DejaVuSans-63\"/>\r\n     <use x=\"1388.333984\" xlink:href=\"#DejaVuSans-79\"/>\r\n    </g>\r\n   </g>\r\n   <g id=\"legend_1\">\r\n    <g id=\"patch_11\">\r\n     <path d=\"M 482.99375 59.674375 \r\nL 538.98125 59.674375 \r\nQ 540.98125 59.674375 540.98125 57.674375 \r\nL 540.98125 29.318125 \r\nQ 540.98125 27.318125 538.98125 27.318125 \r\nL 482.99375 27.318125 \r\nQ 480.99375 27.318125 480.99375 29.318125 \r\nL 480.99375 57.674375 \r\nQ 480.99375 59.674375 482.99375 59.674375 \r\nz\r\n\" style=\"fill:#ffffff;opacity:0.8;stroke:#cccccc;stroke-linejoin:miter;\"/>\r\n    </g>\r\n    <g id=\"patch_12\">\r\n     <path d=\"M 484.99375 38.916562 \r\nL 504.99375 38.916562 \r\nL 504.99375 31.916562 \r\nL 484.99375 31.916562 \r\nz\r\n\" style=\"fill:#1f77b4;\"/>\r\n    </g>\r\n    <g id=\"text_15\">\r\n     <!-- Train -->\r\n     <g transform=\"translate(512.99375 38.916562)scale(0.1 -0.1)\">\r\n      <defs>\r\n       <path d=\"M -19 4666 \r\nL 3928 4666 \r\nL 3928 4134 \r\nL 2272 4134 \r\nL 2272 0 \r\nL 1638 0 \r\nL 1638 4134 \r\nL -19 4134 \r\nL -19 4666 \r\nz\r\n\" id=\"DejaVuSans-54\" transform=\"scale(0.015625)\"/>\r\n      </defs>\r\n      <use xlink:href=\"#DejaVuSans-54\"/>\r\n      <use x=\"46.333984\" xlink:href=\"#DejaVuSans-72\"/>\r\n      <use x=\"87.447266\" xlink:href=\"#DejaVuSans-61\"/>\r\n      <use x=\"148.726562\" xlink:href=\"#DejaVuSans-69\"/>\r\n      <use x=\"176.509766\" xlink:href=\"#DejaVuSans-6e\"/>\r\n     </g>\r\n    </g>\r\n    <g id=\"patch_13\">\r\n     <path d=\"M 484.99375 53.594688 \r\nL 504.99375 53.594688 \r\nL 504.99375 46.594688 \r\nL 484.99375 46.594688 \r\nz\r\n\" style=\"fill:#ff7f0e;\"/>\r\n    </g>\r\n    <g id=\"text_16\">\r\n     <!-- Test -->\r\n     <g transform=\"translate(512.99375 53.594688)scale(0.1 -0.1)\">\r\n      <use xlink:href=\"#DejaVuSans-54\"/>\r\n      <use x=\"44.083984\" xlink:href=\"#DejaVuSans-65\"/>\r\n      <use x=\"105.607422\" xlink:href=\"#DejaVuSans-73\"/>\r\n      <use x=\"157.707031\" xlink:href=\"#DejaVuSans-74\"/>\r\n     </g>\r\n    </g>\r\n   </g>\r\n  </g>\r\n </g>\r\n <defs>\r\n  <clipPath id=\"pbf6c5aa33f\">\r\n   <rect height=\"326.16\" width=\"502.2\" x=\"43.78125\" y=\"22.318125\"/>\r\n  </clipPath>\r\n </defs>\r\n</svg>\r\n",
      "image/png": "[encoded data removed]"
     },
     "metadata": {
      "needs_background": "light"
     }
    }
   ],
   "source": [
    "N = 2\n",
    "ind = np.arange(N)  # the x locations for the groups\n",
    "width = 0.27       # the width of the bars\n",
    "\n",
    "fig = plt.figure(figsize = (9,6))\n",
    "ax = fig.add_subplot(111)\n",
    "\n",
    "train_vals = [full_pool_train_acc,seed_pool_train_acc]\n",
    "rects1 = ax.bar(ind, train_vals, width)\n",
    "test_vals = [full_pool_test_acc,seed_pool_test_acc]\n",
    "rects2 = ax.bar(ind+width, test_vals, width)\n",
    "\n",
    "ax.set_ylabel('Accuracy')\n",
    "ax.set_xticks(ind+width/2)\n",
    "ax.set_xticklabels( ('Full Pool', 'Seed Pool') )\n",
    "ax.legend( (rects1[0], rects2[0]), ('Train', 'Test'),loc = 1 )\n",
    "\n",
    "def autolabel(rects):\n",
    "    for rect in rects:\n",
    "        h = rect.get_height()\n",
    "        ax.text(rect.get_x()+rect.get_width()/2., 1.01*h, round(h,3),\n",
    "                ha='center', va='bottom')\n",
    "\n",
    "autolabel(rects1)\n",
    "autolabel(rects2)\n",
    "plt.title(\"Logistic Regression Accuracy\")\n",
    "\n",
    "\n",
    "plt.show()"
   ]
  },
  {
   "cell_type": "markdown",
   "id": "sweet-elephant",
   "metadata": {},
   "source": [
    "## 2. Active learning framework with Random selection"
   ]
  },
  {
   "cell_type": "code",
   "execution_count": 18,
   "id": "ignored-compromise",
   "metadata": {},
   "outputs": [],
   "source": [
    "def random_select(X, model):\n",
    "    \"\"\"\n",
    "    Given an unlabelled dataset X, a matrix of n x d, and a model (not used)\n",
    "    returns a vector of scores of length n. Each entry reflects the priority \n",
    "    of the corresponding instance. Higher means better.\n",
    "    \"\"\"\n",
    "\n",
    "    #score = model.predict_proba(X)\n",
    "    #score = np.amax(result, axis=1)\n",
    "    \n",
    "    # score_list = []\n",
    "    # for index in range(len(index_set)):\n",
    "    #     score_list.append([score[index],index_set[index]])    \n",
    "\n",
    "    # score_list = sorted(score_list)\n",
    "\n",
    "    score = [random.uniform(0, 1) for i in range(len(X))]\n",
    "\n",
    "    return score"
   ]
  },
  {
   "cell_type": "code",
   "execution_count": 25,
   "id": "lyric-constraint",
   "metadata": {},
   "outputs": [],
   "source": [
    "def pool_based_active_learning(X_pool, y_pool, seed_ids,\n",
    "                               train_func, select_func,\n",
    "                               max_size, batch_size, **args):\n",
    "    \"\"\"\n",
    "    Perform an active learning simulation, which starts by training on a seed set,\n",
    "    then iteratively applies the selection function to rank instances in the pool,\n",
    "    selects the top few instances which are included into the training set and the\n",
    "    process repeats. \n",
    "        X_pool: matrix of n x d\n",
    "        y_pool: vector of string labels, size n\n",
    "        seed_ids: initial labelled set set, as a list of indices [0..n-1] into pool\n",
    "        train_func: function which given (X, y, optional args) returns a trained model\n",
    "        select_func: function which given (X, optional args) returns a sequence of scores\n",
    "        max_size: stopping condition for active learning, when labelled data reaches given size\n",
    "        batch_size: number of instances to be labelled in each iteration\n",
    "        args: optional arguments passed to training and selection function\n",
    "    returns the sequence of trained models \n",
    "    \"\"\"\n",
    "\n",
    "    while len(X_pool) <= max_size:\n",
    "        print(\"lala\")\n",
    "        model = train_logistic_regression(X_pool,y_pool,**args)\n",
    "        score = random_select(X_pool,model)\n",
    "        r = sorted(range(len(score)), key=lambda k: score[k])[:batch_size]\n",
    "\n",
    "        print(r)\n",
    "        break\n",
    "\n",
    "\n",
    "    # fill in"
   ]
  },
  {
   "cell_type": "code",
   "execution_count": 23,
   "id": "technical-edgar",
   "metadata": {},
   "outputs": [],
   "source": [
    "batch = 60\n",
    "max_size = 3000\n",
    "models_random = pool_based_active_learning(X_pool, y_pool, seed_set, \n",
    "                                    train_logistic_regression, random_select, \n",
    "                                    max_size, batch)"
   ]
  },
  {
   "cell_type": "code",
   "execution_count": 26,
   "metadata": {},
   "outputs": [
    {
     "output_type": "stream",
     "name": "stdout",
     "text": [
      "lala\n"
     ]
    }
   ],
   "source": [
    "pool_based_active_learning(X_pool, y_pool, seed_set, \n",
    "                                    train_logistic_regression, random_select, \n",
    "                                    max_size, batch)"
   ]
  },
  {
   "cell_type": "code",
   "execution_count": null,
   "id": "complicated-allergy",
   "metadata": {},
   "outputs": [],
   "source": [
    "## your code here for evaluation of accuracy and plotting of results"
   ]
  },
  {
   "cell_type": "code",
   "execution_count": 183,
   "metadata": {},
   "outputs": [],
   "source": [
    " = random_select(unlabelled_pool,seet_pool_LR)\n",
    "r = sorted(range(len(score)), key=lambda k: score[k])"
   ]
  },
  {
   "cell_type": "code",
   "execution_count": 186,
   "metadata": {},
   "outputs": [
    {
     "output_type": "execute_result",
     "data": {
      "text/plain": [
       "array(['Early_Aramaic', 'Braille', 'Futurama', ..., 'Bengali',\n",
       "       'Blackfoot_(Canadian_Aboriginal_Syllabics)',\n",
       "       'Inuktitut_(Canadian_Aboriginal_Syllabics)'], dtype='<U41')"
      ]
     },
     "metadata": {},
     "execution_count": 186
    }
   ],
   "source": [
    "y_pool[r]"
   ]
  },
  {
   "cell_type": "code",
   "execution_count": 174,
   "metadata": {},
   "outputs": [],
   "source": []
  },
  {
   "cell_type": "code",
   "execution_count": 141,
   "metadata": {},
   "outputs": [],
   "source": []
  },
  {
   "cell_type": "code",
   "execution_count": 148,
   "metadata": {},
   "outputs": [],
   "source": []
  },
  {
   "cell_type": "code",
   "execution_count": 169,
   "metadata": {},
   "outputs": [
    {
     "output_type": "execute_result",
     "data": {
      "text/plain": [
       "[0.21314927456950716,\n",
       " 0.30640583871585025,\n",
       " 0.9287116929936873,\n",
       " 0.7457951618789109,\n",
       " 0.9763717338139811,\n",
       " 0.9914591728068555,\n",
       " 0.43978118577905534,\n",
       " 0.36501902616468185,\n",
       " 0.005482874112722302,\n",
       " 0.27931738156441477,\n",
       " 0.699554266357252,\n",
       " 0.017709628803846744,\n",
       " 0.025067300151153216,\n",
       " 0.5661317180854885,\n",
       " 0.7291547051244205,\n",
       " 0.2615681604245145,\n",
       " 0.14554950125098798,\n",
       " 0.8167704998396103,\n",
       " 0.18536471906998098,\n",
       " 0.15699066925630045,\n",
       " 0.4981455477441191,\n",
       " 0.617062048724146,\n",
       " 0.6242277613645614,\n",
       " 0.8699565249386196,\n",
       " 0.40434124496789414,\n",
       " 0.41230326646813964,\n",
       " 0.7883016999450153,\n",
       " 0.45025405844265065,\n",
       " 0.46850473350210664,\n",
       " 0.7995389196337707,\n",
       " 0.004313236755276062,\n",
       " 0.14620099656046126,\n",
       " 0.5388158106654507,\n",
       " 0.7941643473997365,\n",
       " 0.6982769083247605,\n",
       " 0.030655064117281472,\n",
       " 0.44250938857852395,\n",
       " 0.0534742979902636,\n",
       " 0.796283903924101,\n",
       " 0.4277495947150206,\n",
       " 0.5340291253183601,\n",
       " 0.9347756967428138,\n",
       " 0.8287737491914574,\n",
       " 0.23490187687520014,\n",
       " 0.43351383623516726,\n",
       " 0.3157531986624934,\n",
       " 0.44094896487483626,\n",
       " 0.32304071631333586,\n",
       " 0.5686332297645842,\n",
       " 0.7744409045169041,\n",
       " 0.31268224084628526,\n",
       " 0.5695141055598694,\n",
       " 0.5630410908372381,\n",
       " 0.4919420341801142,\n",
       " 0.6626245902301111,\n",
       " 0.48520738715881806,\n",
       " 0.36528977269106166,\n",
       " 0.35239548036298096,\n",
       " 0.4831241936906686,\n",
       " 0.41186030537452156,\n",
       " 0.12323645816683193,\n",
       " 0.1746244460183144,\n",
       " 0.960302014397665,\n",
       " 0.41803877531013656,\n",
       " 0.5272719202352433,\n",
       " 0.315745048444915,\n",
       " 0.22906191668825837,\n",
       " 0.1559163197720027,\n",
       " 0.24681317326878094,\n",
       " 0.9606282800876326,\n",
       " 0.412556084525471,\n",
       " 0.10518559798136462,\n",
       " 0.457097536809862,\n",
       " 0.3681760817695606,\n",
       " 0.2822303828165408,\n",
       " 0.5646572717223914,\n",
       " 0.4937793254920374,\n",
       " 0.6045246466221689,\n",
       " 0.21894208708952823,\n",
       " 0.924995185961779,\n",
       " 0.871876536831539,\n",
       " 0.16862857824034028,\n",
       " 0.13514213972028744,\n",
       " 0.8373605693189152,\n",
       " 0.8659974433637103,\n",
       " 0.2972374862891398,\n",
       " 0.021351726058006948,\n",
       " 0.7932894519000215,\n",
       " 0.5035546524945743,\n",
       " 0.981031664207872,\n",
       " 0.49600204854275,\n",
       " 0.20759650873037594,\n",
       " 0.8501861250339008,\n",
       " 0.396731910352664,\n",
       " 0.4371296118181057,\n",
       " 0.10930698798569127,\n",
       " 0.5578925001691457,\n",
       " 0.5779693695872056,\n",
       " 0.4929772164303483,\n",
       " 0.6297355516267752,\n",
       " 0.3398411012301349,\n",
       " 0.8054301360972287,\n",
       " 0.1030206838848613,\n",
       " 0.029448346230851463,\n",
       " 0.25540652074894343,\n",
       " 0.9313105790886193,\n",
       " 0.04749123791035259,\n",
       " 0.8484897685115335,\n",
       " 0.30033079615904956,\n",
       " 0.0059407031064718785,\n",
       " 0.5672025162182046,\n",
       " 0.31570928193732994,\n",
       " 0.09173905272797256,\n",
       " 0.9244548246545872,\n",
       " 0.43063975358749085,\n",
       " 0.19469683662820736,\n",
       " 0.5009100288926039,\n",
       " 0.2569703101790406,\n",
       " 0.8663616932198847,\n",
       " 0.6367861843435025,\n",
       " 0.3090412832296644,\n",
       " 0.32448573828212557,\n",
       " 0.8387639097736946,\n",
       " 0.16355369084088067,\n",
       " 0.6333290306919593,\n",
       " 0.28092792238459097,\n",
       " 0.3888747603155637,\n",
       " 0.07201028630338524,\n",
       " 0.37755000374704395,\n",
       " 0.07691207358254093,\n",
       " 0.3895681938931216,\n",
       " 0.6621676000187025,\n",
       " 0.3680690890058739,\n",
       " 0.34439973464626916,\n",
       " 0.5152438192099941,\n",
       " 0.1673304060533013,\n",
       " 0.8461602837568377,\n",
       " 0.6044703398259204,\n",
       " 0.4146530244284907,\n",
       " 0.34925033889949786,\n",
       " 0.6132111742643275,\n",
       " 0.6928253001333697,\n",
       " 0.09562078358669246,\n",
       " 0.32262497405186175,\n",
       " 0.17058267621742673,\n",
       " 0.2630388950473378,\n",
       " 0.4643010005580751,\n",
       " 0.44135417364637985,\n",
       " 0.6038147528316912,\n",
       " 0.7858671146867703,\n",
       " 0.2554452591337888,\n",
       " 0.7250523875541776,\n",
       " 0.574522809504214,\n",
       " 0.5589157698589343,\n",
       " 0.6290727745539211,\n",
       " 0.5589557011030057,\n",
       " 0.4958681322847266,\n",
       " 0.8551124838577117,\n",
       " 0.23619452693154608,\n",
       " 0.4659455911328204,\n",
       " 0.3884898183840688,\n",
       " 0.09468446665913544,\n",
       " 0.9499458033052466,\n",
       " 0.7799946492820026,\n",
       " 0.9458661379338937,\n",
       " 0.6199923668756206,\n",
       " 0.42938346893728774,\n",
       " 0.20821092830907528,\n",
       " 0.11962415015579941,\n",
       " 0.0008704446209180094,\n",
       " 0.7962361754626114,\n",
       " 0.6883250301640778,\n",
       " 0.7821490825976377,\n",
       " 0.06460567042809906,\n",
       " 0.5407592396590907,\n",
       " 0.46463657829811356,\n",
       " 0.37829526043910655,\n",
       " 0.831877949303878,\n",
       " 0.03729308401700204,\n",
       " 0.17215892802574717,\n",
       " 0.7708362485817695,\n",
       " 0.7020815725025292,\n",
       " 0.27340819164891583,\n",
       " 0.14464936177810017,\n",
       " 0.006922601139470408,\n",
       " 0.7380386137484988,\n",
       " 0.4628862502361947,\n",
       " 0.6745302076582361,\n",
       " 0.4964753085576248,\n",
       " 0.4707989551292363,\n",
       " 0.5959644454775082,\n",
       " 0.5218759913589969,\n",
       " 0.657756141759328,\n",
       " 0.061936919213057995,\n",
       " 0.4782666717424908,\n",
       " 0.983130434517084,\n",
       " 0.8016541058586018,\n",
       " 0.17298673458487568,\n",
       " 0.4118555384829393,\n",
       " 0.4409414308650109,\n",
       " 0.7737403201445294,\n",
       " 0.6577427943849639,\n",
       " 0.4773751869535484,\n",
       " 0.9545049387915892,\n",
       " 0.33913455117162106,\n",
       " 0.26707399499920614,\n",
       " 0.08050583635301711,\n",
       " 0.8298652429862715,\n",
       " 0.13553194425680914,\n",
       " 0.17066899918298484,\n",
       " 0.7312675190302762,\n",
       " 0.10002338813059519,\n",
       " 0.389590784229902,\n",
       " 0.6247029415773544,\n",
       " 0.8439809798100504,\n",
       " 0.20993107584082438,\n",
       " 0.3687886855423551,\n",
       " 0.15996544375127486,\n",
       " 0.8677758942982037,\n",
       " 0.29185870922658075,\n",
       " 0.686864055749989,\n",
       " 0.6580124971934344,\n",
       " 0.1348880097804367,\n",
       " 0.9548619705917573,\n",
       " 1.3264933987899852e-05,\n",
       " 0.5334496885641615,\n",
       " 0.3213525831742401,\n",
       " 0.06581450432721181,\n",
       " 0.6303057471269219,\n",
       " 0.03252981123226428,\n",
       " 0.6991043398110552,\n",
       " 0.9000535270350157,\n",
       " 0.3340609220896962,\n",
       " 0.6448430658073174,\n",
       " 0.6644151423960123,\n",
       " 0.3975231241161291,\n",
       " 0.21686329376357616,\n",
       " 0.9870285103483952,\n",
       " 0.8192140255229323,\n",
       " 0.695621022260803,\n",
       " 0.9518991366359645,\n",
       " 0.02416921302617392,\n",
       " 0.18970088213607306,\n",
       " 0.9578431186820227,\n",
       " 0.47157629687246216,\n",
       " 0.30660416865933027,\n",
       " 0.8568204406608925,\n",
       " 0.9083217285625872,\n",
       " 0.765678213429534,\n",
       " 0.8134601050476621,\n",
       " 0.5025645879816122,\n",
       " 0.8339591308315012,\n",
       " 0.13771404474515891,\n",
       " 0.705795737952858,\n",
       " 0.08944134424844707,\n",
       " 0.5624214843928436,\n",
       " 0.5355348627931283,\n",
       " 0.9618200546278064,\n",
       " 0.031807750021142334,\n",
       " 0.7620343481453471,\n",
       " 0.7656394636605813,\n",
       " 0.059949569533402136,\n",
       " 0.1466367585453927,\n",
       " 0.6323584081609346,\n",
       " 0.09994472043805003,\n",
       " 0.15463700800181013,\n",
       " 0.5598683159433293,\n",
       " 0.40632899141449996,\n",
       " 0.12553604098313687,\n",
       " 0.5893464113194632,\n",
       " 0.39178318563655656,\n",
       " 0.52254687806744,\n",
       " 0.9484931972605729,\n",
       " 0.31464273866182235,\n",
       " 0.5250768990287767,\n",
       " 0.31692009895474793,\n",
       " 0.7415518380161522,\n",
       " 0.2660024254506016,\n",
       " 0.034888185884607625,\n",
       " 0.757748251294017,\n",
       " 0.1423855071334199,\n",
       " 0.9949633462599766,\n",
       " 0.2795780994785344,\n",
       " 0.11875344631236617,\n",
       " 0.10961622095134327,\n",
       " 0.7042659738585887,\n",
       " 0.9067484993485283,\n",
       " 0.3892161722099944,\n",
       " 0.9731810088223575,\n",
       " 0.8547985283620284,\n",
       " 0.27606613818624304,\n",
       " 0.3903714780497086,\n",
       " 0.791259635141625,\n",
       " 0.49753019639968266,\n",
       " 0.3856960415294899,\n",
       " 0.9199819178065661,\n",
       " 0.9403618081830241,\n",
       " 0.730775160922298,\n",
       " 0.8826550809780146,\n",
       " 0.4347607082053434]"
      ]
     },
     "metadata": {},
     "execution_count": 169
    }
   ],
   "source": [
    "random_select(seed_pool, seet_pool_LR)\n"
   ]
  },
  {
   "cell_type": "markdown",
   "id": "numerical-novel",
   "metadata": {},
   "source": [
    "## 3. Uncertainty sampling"
   ]
  },
  {
   "cell_type": "code",
   "execution_count": null,
   "id": "raised-mistress",
   "metadata": {},
   "outputs": [],
   "source": [
    "def logistic_regression_entropy_select(X, model, **args):\n",
    "    \"\"\"\n",
    "    Given an unlabelled dataset X, a matrix of n x d, and a discriminative model \n",
    "    P(y|x), returns a vector of n entropy values.\n",
    "    \"\"\"\n",
    "    # fill in\n",
    "    pass"
   ]
  },
  {
   "cell_type": "code",
   "execution_count": null,
   "id": "affected-story",
   "metadata": {
    "scrolled": false
   },
   "outputs": [],
   "source": [
    "models_us = pool_based_active_learning(X_pool, y_pool, seed_set, \n",
    "                                 train_logistic_regression, \n",
    "                                 logistic_regression_entropy_select, \n",
    "                                 max_size, batch)"
   ]
  },
  {
   "cell_type": "code",
   "execution_count": null,
   "id": "optical-mount",
   "metadata": {},
   "outputs": [],
   "source": [
    "## your code here for evaluation of accuracy and plotting of results"
   ]
  },
  {
   "cell_type": "markdown",
   "id": "diverse-taxation",
   "metadata": {},
   "source": [
    "## 4. Query by committee"
   ]
  },
  {
   "cell_type": "code",
   "execution_count": null,
   "id": "handy-water",
   "metadata": {},
   "outputs": [],
   "source": [
    "# don't forget to provide function descriptive comments, like those provided in templates above\n",
    "\n",
    "def query_by_committee_vote_entropy(X, model, **args):\n",
    "    pass\n",
    "\n",
    "def query_by_committee_soft_vote_entropy(X, model, **args):\n",
    "    pass\n",
    "\n",
    "def query_by_committee_KL(X, model, **args):\n",
    "    pass"
   ]
  },
  {
   "cell_type": "code",
   "execution_count": null,
   "id": "continued-clothing",
   "metadata": {},
   "outputs": [],
   "source": [
    "def train_committee(X, y, **args):\n",
    "    pass"
   ]
  },
  {
   "cell_type": "code",
   "execution_count": null,
   "id": "south-smooth",
   "metadata": {},
   "outputs": [],
   "source": [
    "## your code here for training, evaluation, and plotting code"
   ]
  },
  {
   "cell_type": "markdown",
   "id": "suffering-airport",
   "metadata": {},
   "source": [
    "## 5. Hierarchical sampling"
   ]
  },
  {
   "cell_type": "code",
   "execution_count": 1,
   "id": "adopted-taylor",
   "metadata": {},
   "outputs": [],
   "source": [
    "## your code"
   ]
  }
 ],
 "metadata": {
  "kernelspec": {
   "name": "python394jvsc74a57bd0df642eef7b43fe7a4a517bca7a97690968a466268416ac555ac71584a4a4c66c",
   "display_name": "Python 3.9.4 64-bit"
  },
  "language_info": {
   "codemirror_mode": {
    "name": "ipython",
    "version": 3
   },
   "file_extension": ".py",
   "mimetype": "text/x-python",
   "name": "python",
   "nbconvert_exporter": "python",
   "pygments_lexer": "ipython3",
   "version": "3.9.4"
  }
 },
 "nbformat": 4,
 "nbformat_minor": 5
}