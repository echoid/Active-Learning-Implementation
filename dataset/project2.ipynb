{
 "cells": [
  {
   "cell_type": "markdown",
   "id": "wooden-renaissance",
   "metadata": {},
   "source": [
    "# COMP90051 Project 2\n",
    "**Name:** *enter your name here*\n",
    "\n",
    "**Student ID:** *your id here*"
   ]
  },
  {
   "cell_type": "code",
   "execution_count": 170,
   "id": "iraqi-recommendation",
   "metadata": {},
   "outputs": [],
   "source": [
    "# You can add additional imports here\n",
    "import numpy as np\n",
    "from matplotlib import pyplot as plt\n",
    "import os\n",
    "import random\n",
    "from sklearn.model_selection import train_test_split\n",
    "from collections import defaultdict\n",
    "from sklearn.linear_model import LogisticRegression\n",
    "from sklearn.ensemble import BaggingClassifier\n",
    "import matplotlib.pyplot as plt\n",
    "import random\n",
    "from tqdm import tqdm\n",
    "import collections"
   ]
  },
  {
   "cell_type": "code",
   "execution_count": 2,
   "id": "9cc5192b",
   "metadata": {},
   "outputs": [],
   "source": [
    "import warnings\n",
    "warnings.filterwarnings('ignore')"
   ]
  },
  {
   "cell_type": "markdown",
   "id": "defined-great",
   "metadata": {},
   "source": [
    "## 0. Loading the dataset"
   ]
  },
  {
   "cell_type": "code",
   "execution_count": 3,
   "id": "concerned-vessel",
   "metadata": {},
   "outputs": [],
   "source": [
    "# do not edit this cell\n",
    "# load the data files (download from the LMS)\n",
    "embedded_images = np.load('images.npy')\n",
    "labels = np.load('labels.npy')\n",
    "\n",
    "# split into pool & testing\n",
    "X_pool, X_test, y_pool, y_test = train_test_split(embedded_images, labels, \n",
    "                                                  test_size=0.5, random_state=1234, shuffle=True)\n",
    "\n",
    "# sample a seed set\n",
    "np.random.seed(1234)\n",
    "label2id = defaultdict(list)\n",
    "for i, label in enumerate(y_pool):\n",
    "    label2id[label].append(i)\n",
    "seed_set = []\n",
    "for label, ids in label2id.items():\n",
    "    seed_set.extend(np.random.choice(ids, size=10, replace=False))"
   ]
  },
  {
   "cell_type": "code",
   "execution_count": 4,
   "id": "f606db20",
   "metadata": {},
   "outputs": [],
   "source": [
    "seed_pool = X_pool[seed_set]\n",
    "seed_pool_label = y_pool[seed_set]"
   ]
  },
  {
   "cell_type": "code",
   "execution_count": 5,
   "id": "fa28ac69",
   "metadata": {},
   "outputs": [],
   "source": [
    "unlabelled_set = [x for x in list(range(0,len(X_pool))) if x not in seed_set]\n",
    "\n",
    "unlabelled_pool = X_pool[unlabelled_set]\n",
    "unlabelled_label = y_pool[unlabelled_set]"
   ]
  },
  {
   "cell_type": "code",
   "execution_count": null,
   "id": "cd6e14ab",
   "metadata": {},
   "outputs": [],
   "source": [
    "unique, counts = np.unique(y_pool, return_counts=True)\n",
    "\n",
    "print(np.asarray((unique, counts)).T)"
   ]
  },
  {
   "cell_type": "markdown",
   "id": "naval-income",
   "metadata": {},
   "source": [
    "## 1. Applying logistic regression"
   ]
  },
  {
   "cell_type": "code",
   "execution_count": 6,
   "id": "0e4e1eaf",
   "metadata": {},
   "outputs": [],
   "source": [
    "def train_logistic_regression(X, y, **args):\n",
    "    \"\"\"\n",
    "    Train a logistic regression model on dataset (X, y) and return trained model.\n",
    "    X: matrix of real values, size n x d\n",
    "    y: vector of string labels, size n\n",
    "    args: optional arguments e.g., for hyper-parameters\n",
    "    \"\"\"\n",
    "    model = LogisticRegression(**args).fit(X,y)\n",
    "    return model"
   ]
  },
  {
   "cell_type": "code",
   "execution_count": 7,
   "id": "bored-alberta",
   "metadata": {},
   "outputs": [],
   "source": [
    "def evaluate_logistic_regression_accuracy(Xt, yt, model):\n",
    "    \"\"\"\n",
    "    Apply logistic regression prediction on dataset Xt and evaluate accuracy against yt,\n",
    "    returing the accuracy results as a scalar.\n",
    "    Xt: matrix of real values, size m x d\n",
    "    yt: vector of string labels, size m\n",
    "    \"\"\"\n",
    "    score = model.score(Xt,yt)\n",
    "\n",
    "    return score"
   ]
  },
  {
   "cell_type": "code",
   "execution_count": null,
   "id": "whole-grenada",
   "metadata": {},
   "outputs": [],
   "source": [
    "# Train Models\n",
    "full_pool_LR= train_logistic_regression(X_pool,y_pool)\n",
    "seed_pool_LR= train_logistic_regression(seed_pool,seed_pool_label)"
   ]
  },
  {
   "cell_type": "code",
   "execution_count": null,
   "id": "4e2f293e",
   "metadata": {},
   "outputs": [],
   "source": [
    "full_pool_train_acc = evaluate_logistic_regression_accuracy(X_pool,y_pool,full_pool_LR)\n",
    "full_pool_test_acc = evaluate_logistic_regression_accuracy(X_test,y_test,full_pool_LR)\n",
    "\n",
    "print(\"Train Accuracy for full pool: \",full_pool_train_acc)\n",
    "print(\"Test Accuracy for full pool: \",full_pool_test_acc)"
   ]
  },
  {
   "cell_type": "code",
   "execution_count": null,
   "id": "f8d2b179",
   "metadata": {},
   "outputs": [],
   "source": [
    "seed_pool_train_acc = evaluate_logistic_regression_accuracy(seed_pool,seed_pool_label,seed_pool_LR)\n",
    "seed_pool_test_acc = evaluate_logistic_regression_accuracy(X_test,y_test,seed_pool_LR)\n",
    "\n",
    "print(\"Train Accuracy for seed pool: \",seed_pool_train_acc)\n",
    "print(\"Test Accuracy for seed pool: \",seed_pool_test_acc)"
   ]
  },
  {
   "cell_type": "code",
   "execution_count": null,
   "id": "8875d3b1",
   "metadata": {},
   "outputs": [],
   "source": [
    "N = 2\n",
    "ind = np.arange(N)  # the x locations for the groups\n",
    "width = 0.27       # the width of the bars\n",
    "\n",
    "fig = plt.figure(figsize = (9,6))\n",
    "ax = fig.add_subplot(111)\n",
    "\n",
    "train_vals = [full_pool_train_acc,seed_pool_train_acc]\n",
    "rects1 = ax.bar(ind, train_vals, width)\n",
    "test_vals = [full_pool_test_acc,seed_pool_test_acc]\n",
    "rects2 = ax.bar(ind+width, test_vals, width)\n",
    "\n",
    "ax.set_ylabel('Accuracy')\n",
    "ax.set_xticks(ind+width/2)\n",
    "ax.set_xticklabels( ('Full Pool', 'Seed Pool') )\n",
    "ax.legend( (rects1[0], rects2[0]), ('Train', 'Test'),loc = 1 )\n",
    "\n",
    "def autolabel(rects):\n",
    "    for rect in rects:\n",
    "        h = rect.get_height()\n",
    "        ax.text(rect.get_x()+rect.get_width()/2., 1.01*h, round(h,3),\n",
    "                ha='center', va='bottom')\n",
    "\n",
    "autolabel(rects1)\n",
    "autolabel(rects2)\n",
    "plt.title(\"Logistic Regression Accuracy\")\n",
    "\n",
    "\n",
    "plt.show()"
   ]
  },
  {
   "cell_type": "markdown",
   "id": "sweet-elephant",
   "metadata": {},
   "source": [
    "## 2. Active learning framework with Random selection"
   ]
  },
  {
   "cell_type": "code",
   "execution_count": 8,
   "id": "ignored-compromise",
   "metadata": {},
   "outputs": [],
   "source": [
    "def random_select(X, model):\n",
    "    \"\"\"\n",
    "    Given an unlabelled dataset X, a matrix of n x d, and a model (not used)\n",
    "    returns a vector of scores of length n. Each entry reflects the priority \n",
    "    of the corresponding instance. Higher means better.\n",
    "    \"\"\"\n",
    "    score = [random.uniform(0, 1) for i in range(len(X))]\n",
    "\n",
    "    return score"
   ]
  },
  {
   "cell_type": "code",
   "execution_count": 21,
   "id": "lyric-constraint",
   "metadata": {},
   "outputs": [],
   "source": [
    "def pool_based_active_learning(X_pool, y_pool, seed_ids,\n",
    "                               train_func, select_func,\n",
    "                               max_size, batch_size, **args):\n",
    "    \"\"\"\n",
    "    Perform an active learning simulation, which starts by training on a seed set,\n",
    "    then iteratively applies the selection function to rank instances in the pool,\n",
    "    selects the top few instances which are included into the training set and the\n",
    "    process repeats. \n",
    "        X_pool: matrix of n x d\n",
    "        y_pool: vector of string labels, size n\n",
    "        seed_ids: initial labelled set set, as a list of indices [0..n-1] into pool\n",
    "        train_func: function which given (X, y, optional args) returns a trained model\n",
    "        select_func: function which given (X, optional args) returns a sequence of scores\n",
    "        max_size: stopping condition for active learning, when labelled data reaches given size\n",
    "        batch_size: number of instances to be labelled in each iteration\n",
    "        args: optional arguments passed to training and selection function\n",
    "    returns the sequence of trained models \n",
    "    \"\"\"\n",
    "    \n",
    "    L_X = X_pool[seed_ids]\n",
    "    L_y = y_pool[seed_ids]\n",
    "    \n",
    "    modellist = []\n",
    "    \n",
    "    pbar = tqdm(total = (max_size-len(L_X))/batch_size)\n",
    "    \n",
    "    while len(L_X) <= max_size:\n",
    "\n",
    "        \n",
    "        U_ids = [x for x in list(range(0,len(X_pool))) if x not in seed_ids]\n",
    "        \n",
    "        U_X = X_pool[U_ids]\n",
    "        U_y = y_pool[U_ids]\n",
    "        \n",
    "        \n",
    "        model = train_func(L_X,L_y,**args)\n",
    "        score = select_func(U_X,model)\n",
    "        \n",
    "        r = sorted(range(len(score)), key=lambda k: score[k],reverse=True)[:batch_size]\n",
    "\n",
    "\n",
    "        try:\n",
    "            modellist.append([model[1],len(L_X)])\n",
    "\n",
    "        except:\n",
    "            modellist.append([model,len(L_X)])\n",
    " \n",
    "        \n",
    "        \n",
    "        L_X = np.append(L_X, U_X[r],axis = 0)\n",
    "        L_y = np.append(L_y, U_y[r],axis = 0)\n",
    "        \n",
    "\n",
    "        seed_ids = seed_ids + r\n",
    "        pbar.update(1)\n",
    "        \n",
    "    pbar.close()\n",
    "    \n",
    "    return modellist"
   ]
  },
  {
   "cell_type": "code",
   "execution_count": 22,
   "id": "technical-edgar",
   "metadata": {},
   "outputs": [
    {
     "output_type": "stream",
     "name": "stderr",
     "text": [
      "103%|██████████| 12/11.666666666666666 [00:10<00:00,  1.16it/s]\n"
     ]
    }
   ],
   "source": [
    "batch = 60\n",
    "max_size = 1000\n",
    "models_random = pool_based_active_learning(X_pool, y_pool, seed_set, \n",
    "                                    train_logistic_regression, random_select, \n",
    "                                    max_size, batch,max_iter = 100)"
   ]
  },
  {
   "cell_type": "code",
   "execution_count": null,
   "id": "complicated-allergy",
   "metadata": {},
   "outputs": [],
   "source": [
    "accuracy = [evaluate_logistic_regression_accuracy(X_test,y_test,model[0]) for model in models_random]\n",
    "samples = [model[1] for model in models_random]"
   ]
  },
  {
   "cell_type": "code",
   "execution_count": null,
   "id": "2f04fed9",
   "metadata": {},
   "outputs": [],
   "source": [
    "fig = plt.figure(figsize = (9,6))\n",
    "ax = fig.add_subplot(111)\n",
    "\n",
    "ax.plot(samples,accuracy,\"o-\")\n",
    "\n",
    "ax.set_ylabel('Accuracy')\n",
    "ax.set_xlabel('Number of training instances')\n",
    "plt.title(\"Logistic Regression with Random heuristic\")\n",
    "\n",
    "\n",
    "plt.show()"
   ]
  },
  {
   "cell_type": "markdown",
   "id": "numerical-novel",
   "metadata": {},
   "source": [
    "## 3. Uncertainty sampling"
   ]
  },
  {
   "cell_type": "code",
   "execution_count": 90,
   "id": "raised-mistress",
   "metadata": {},
   "outputs": [],
   "source": [
    "def ENTROPY(probs):\n",
    "    return -probs.dot(np.log2(probs))\n",
    "\n",
    "def logistic_regression_entropy_select(X, model, **args):\n",
    "    \"\"\"\n",
    "    Given an unlabelled dataset X, a matrix of n x d, and a discriminative model \n",
    "    P(y|x), returns a vector of n entropy values.\n",
    "    \"\"\"\n",
    "\n",
    "    \n",
    "    probs = model.predict_proba(X)\n",
    "    \n",
    "    result = np.apply_along_axis(ENTROPY, 1, probs)\n",
    "    \n",
    "    return result\n"
   ]
  },
  {
   "cell_type": "code",
   "execution_count": null,
   "id": "affected-story",
   "metadata": {
    "scrolled": false
   },
   "outputs": [],
   "source": [
    "models_us = pool_based_active_learning(X_pool, y_pool, seed_set, \n",
    "                                 train_logistic_regression, \n",
    "                                 logistic_regression_entropy_select, \n",
    "                                 max_size, batch,max_iter = 100)"
   ]
  },
  {
   "cell_type": "code",
   "execution_count": null,
   "id": "optical-mount",
   "metadata": {},
   "outputs": [],
   "source": [
    "accuracy = [evaluate_logistic_regression_accuracy(X_test,y_test,model[0]) for model in models_us]\n",
    "samples = [model[1] for model in models_us]"
   ]
  },
  {
   "cell_type": "code",
   "execution_count": null,
   "id": "8e379f04",
   "metadata": {},
   "outputs": [],
   "source": [
    "fig = plt.figure(figsize = (9,6))\n",
    "ax = fig.add_subplot(111)\n",
    "\n",
    "ax.plot(samples,accuracy,\"o-\")\n",
    "\n",
    "ax.set_ylabel('Test Accuracy')\n",
    "ax.set_xlabel('Number of training instances')\n",
    "plt.title(\"Logistic Regression with Uncertainty sampling\")\n",
    "\n",
    "\n",
    "plt.show()"
   ]
  },
  {
   "cell_type": "code",
   "execution_count": null,
   "id": "65e4cf97",
   "metadata": {},
   "outputs": [],
   "source": [
    "max(accuracy)"
   ]
  },
  {
   "cell_type": "markdown",
   "id": "diverse-taxation",
   "metadata": {},
   "source": [
    "## 4. Query by committee"
   ]
  },
  {
   "cell_type": "code",
   "execution_count": 279,
   "id": "handy-water",
   "metadata": {},
   "outputs": [],
   "source": [
    "# don't forget to provide function descriptive comments, like those provided in templates above\n",
    "\n",
    "def query_by_committee_vote_entropy(X, model, **args):\n",
    "\n",
    "    result = [clf.predict(X) for clf in model[0]]\n",
    "\n",
    "    n = len(model[0])\n",
    "\n",
    "    # prob_list = [(len(set(x))/n, 1- len(set(x))/n) for x in zip(*result)]\n",
    "\n",
    "    # vote_entropy = [sum([prob*np.log2(prob) for prob in instance])*(-1) for instance in prob_list]\n",
    "\n",
    "    # vote_entropy = [0 if np.isnan(x) else x for x in vote_entropy]\n",
    "\n",
    "    vote = [list(collections.Counter(x).values()) for x in zip(*result)]\n",
    "\n",
    "    vote_entropy = [sum([(freq/n)*np.log2(freq/n) for freq in instance])*(-1) for instance in vote]\n",
    "\n",
    "    return vote_entropy\n",
    "\n",
    "\n",
    "def query_by_committee_soft_vote_entropy(X, model, **args):\n",
    "    \n",
    "    result = [clf.predict_proba(X) for clf in model[0]]\n",
    "\n",
    "    n = len(model[0])\n",
    "\n",
    "    zipped = [x for x in zip(*result)]\n",
    "    prob_list = [(instance[1] + instance[0])/n for instance in zipped]\n",
    "\n",
    "    soft_vote_entropy = np.apply_along_axis(ENTROPY, 1, prob_list)\n",
    "\n",
    "    return soft_vote_entropy\n",
    "\n",
    "\n",
    "def query_by_committee_KL(X, model, **args):\n",
    "    result = [clf.predict_proba(X) for clf in model[0]]\n",
    "    n = len(model[0])\n",
    "\n",
    "    zipped = [x for x in zip(*result)]\n",
    "    committee = [(instance[1] + instance[0])/n for instance in zipped]\n",
    "\n",
    "    KL = [sum([sum(member*np.log2(member/committee[index])) for member in zipped[index]])/n  for index in range(len(X))]\n",
    "    #KL = [ sum([sum(commitee*np.log2(commitee/prob_list[instance])) for commitee in zipped[instance]])/n   for instance in range(len(result))]\n",
    "\n",
    "    return KL"
   ]
  },
  {
   "cell_type": "code",
   "execution_count": 42,
   "id": "continued-clothing",
   "metadata": {},
   "outputs": [],
   "source": [
    "def train_committee(X, y,ensemble_size = 2, **args):\n",
    "\n",
    "    random.seed(1)\n",
    "    index = range(len(X))\n",
    "\n",
    "    bagging_models = []\n",
    "    for i in range(ensemble_size):\n",
    "        bootstrap_index = random.choices(index, k = len(X))\n",
    "        bagging_models.append(train_logistic_regression(X[bootstrap_index],y[bootstrap_index],**args))\n",
    "    \n",
    "    lr_model = train_logistic_regression(X, y,**args)\n",
    "\n",
    "    return [bagging_models,lr_model]"
   ]
  },
  {
   "cell_type": "code",
   "execution_count": 211,
   "metadata": {},
   "outputs": [],
   "source": [
    "models = train_committee(seed_pool,seed_pool_label)"
   ]
  },
  {
   "cell_type": "code",
   "execution_count": 152,
   "metadata": {},
   "outputs": [
    {
     "output_type": "stream",
     "name": "stderr",
     "text": [
      "46it [02:17,  2.98s/it]\n",
      "46it [02:11,  2.86s/it]\n",
      "46it [02:10,  2.84s/it]\n"
     ]
    }
   ],
   "source": [
    "max_size = 3000\n",
    "\n",
    "models_ve = pool_based_active_learning(X_pool, y_pool, seed_set, \n",
    "                                 train_committee, \n",
    "                                 query_by_committee_vote_entropy, \n",
    "                                 max_size, batch, max_iter = 100)\n",
    "\n",
    "models_sve = pool_based_active_learning(X_pool, y_pool, seed_set, \n",
    "                                 train_committee, \n",
    "                                 query_by_committee_soft_vote_entropy, \n",
    "                                 max_size, batch, max_iter = 100)\n",
    "\n",
    "\n",
    "models_kl = pool_based_active_learning(X_pool, y_pool, seed_set, \n",
    "                                 train_committee, \n",
    "                                 query_by_committee_KL, \n",
    "                                 max_size, batch, max_iter = 100)"
   ]
  },
  {
   "cell_type": "code",
   "execution_count": 280,
   "metadata": {},
   "outputs": [
    {
     "output_type": "stream",
     "name": "stderr",
     "text": [
      "46it [02:21,  3.07s/it]\n"
     ]
    }
   ],
   "source": [
    "models_kl = pool_based_active_learning(X_pool, y_pool, seed_set, \n",
    "                                 train_committee, \n",
    "                                 query_by_committee_KL, \n",
    "                                 max_size, batch, max_iter = 100)"
   ]
  },
  {
   "cell_type": "code",
   "execution_count": 281,
   "metadata": {},
   "outputs": [],
   "source": [
    "#accuracy_ve = [evaluate_logistic_regression_accuracy(X_test,y_test,model[0]) for model in models_ve]\n",
    "#accuracy_sve = [evaluate_logistic_regression_accuracy(X_test,y_test,model[0]) for model in models_sve]\n",
    "accuracy_kl = [evaluate_logistic_regression_accuracy(X_test,y_test,model[0]) for model in models_kl]\n",
    "\n",
    "#samples = [model[1] for model in models_ve]"
   ]
  },
  {
   "cell_type": "code",
   "execution_count": 284,
   "metadata": {},
   "outputs": [
    {
     "output_type": "display_data",
     "data": {
      "text/plain": "<Figure size 648x432 with 1 Axes>",
      "image/svg+xml": "<?xml version=\"1.0\" encoding=\"utf-8\" standalone=\"no\"?>\r\n<!DOCTYPE svg PUBLIC \"-//W3C//DTD SVG 1.1//EN\"\r\n  \"http://www.w3.org/Graphics/SVG/1.1/DTD/svg11.dtd\">\r\n<svg height=\"386.034375pt\" version=\"1.1\" viewBox=\"0 0 559.54375 386.034375\" width=\"559.54375pt\" xmlns=\"http://www.w3.org/2000/svg\" xmlns:xlink=\"http://www.w3.org/1999/xlink\">\r\n <metadata>\r\n  <rdf:RDF xmlns:cc=\"http://creativecommons.org/ns#\" xmlns:dc=\"http://purl.org/dc/elements/1.1/\" xmlns:rdf=\"http://www.w3.org/1999/02/22-rdf-syntax-ns#\">\r\n   <cc:Work>\r\n    <dc:type rdf:resource=\"http://purl.org/dc/dcmitype/StillImage\"/>\r\n    <dc:date>2021-05-16T14:28:21.234433</dc:date>\r\n    <dc:format>image/svg+xml</dc:format>\r\n    <dc:creator>\r\n     <cc:Agent>\r\n      <dc:title>Matplotlib v3.4.1, https://matplotlib.org/</dc:title>\r\n     </cc:Agent>\r\n    </dc:creator>\r\n   </cc:Work>\r\n  </rdf:RDF>\r\n </metadata>\r\n <defs>\r\n  <style type=\"text/css\">*{stroke-linecap:butt;stroke-linejoin:round;}</style>\r\n </defs>\r\n <g id=\"figure_1\">\r\n  <g id=\"patch_1\">\r\n   <path d=\"M 0 386.034375 \r\nL 559.54375 386.034375 \r\nL 559.54375 0 \r\nL 0 0 \r\nz\r\n\" style=\"fill:none;\"/>\r\n  </g>\r\n  <g id=\"axes_1\">\r\n   <g id=\"patch_2\">\r\n    <path d=\"M 50.14375 348.478125 \r\nL 552.34375 348.478125 \r\nL 552.34375 22.318125 \r\nL 50.14375 22.318125 \r\nz\r\n\" style=\"fill:#ffffff;\"/>\r\n   </g>\r\n   <g id=\"matplotlib.axis_1\">\r\n    <g id=\"xtick_1\">\r\n     <g id=\"line2d_1\">\r\n      <defs>\r\n       <path d=\"M 0 0 \r\nL 0 3.5 \r\n\" id=\"md14355bb1c\" style=\"stroke:#000000;stroke-width:0.8;\"/>\r\n      </defs>\r\n      <g>\r\n       <use style=\"stroke:#000000;stroke-width:0.8;\" x=\"106.789205\" xlink:href=\"#md14355bb1c\" y=\"348.478125\"/>\r\n      </g>\r\n     </g>\r\n     <g id=\"text_1\">\r\n      <!-- 500 -->\r\n      <g transform=\"translate(97.245455 363.076562)scale(0.1 -0.1)\">\r\n       <defs>\r\n        <path d=\"M 691 4666 \r\nL 3169 4666 \r\nL 3169 4134 \r\nL 1269 4134 \r\nL 1269 2991 \r\nQ 1406 3038 1543 3061 \r\nQ 1681 3084 1819 3084 \r\nQ 2600 3084 3056 2656 \r\nQ 3513 2228 3513 1497 \r\nQ 3513 744 3044 326 \r\nQ 2575 -91 1722 -91 \r\nQ 1428 -91 1123 -41 \r\nQ 819 9 494 109 \r\nL 494 744 \r\nQ 775 591 1075 516 \r\nQ 1375 441 1709 441 \r\nQ 2250 441 2565 725 \r\nQ 2881 1009 2881 1497 \r\nQ 2881 1984 2565 2268 \r\nQ 2250 2553 1709 2553 \r\nQ 1456 2553 1204 2497 \r\nQ 953 2441 691 2322 \r\nL 691 4666 \r\nz\r\n\" id=\"DejaVuSans-35\" transform=\"scale(0.015625)\"/>\r\n        <path d=\"M 2034 4250 \r\nQ 1547 4250 1301 3770 \r\nQ 1056 3291 1056 2328 \r\nQ 1056 1369 1301 889 \r\nQ 1547 409 2034 409 \r\nQ 2525 409 2770 889 \r\nQ 3016 1369 3016 2328 \r\nQ 3016 3291 2770 3770 \r\nQ 2525 4250 2034 4250 \r\nz\r\nM 2034 4750 \r\nQ 2819 4750 3233 4129 \r\nQ 3647 3509 3647 2328 \r\nQ 3647 1150 3233 529 \r\nQ 2819 -91 2034 -91 \r\nQ 1250 -91 836 529 \r\nQ 422 1150 422 2328 \r\nQ 422 3509 836 4129 \r\nQ 1250 4750 2034 4750 \r\nz\r\n\" id=\"DejaVuSans-30\" transform=\"scale(0.015625)\"/>\r\n       </defs>\r\n       <use xlink:href=\"#DejaVuSans-35\"/>\r\n       <use x=\"63.623047\" xlink:href=\"#DejaVuSans-30\"/>\r\n       <use x=\"127.246094\" xlink:href=\"#DejaVuSans-30\"/>\r\n      </g>\r\n     </g>\r\n    </g>\r\n    <g id=\"xtick_2\">\r\n     <g id=\"line2d_2\">\r\n      <g>\r\n       <use style=\"stroke:#000000;stroke-width:0.8;\" x=\"191.334659\" xlink:href=\"#md14355bb1c\" y=\"348.478125\"/>\r\n      </g>\r\n     </g>\r\n     <g id=\"text_2\">\r\n      <!-- 1000 -->\r\n      <g transform=\"translate(178.609659 363.076562)scale(0.1 -0.1)\">\r\n       <defs>\r\n        <path d=\"M 794 531 \r\nL 1825 531 \r\nL 1825 4091 \r\nL 703 3866 \r\nL 703 4441 \r\nL 1819 4666 \r\nL 2450 4666 \r\nL 2450 531 \r\nL 3481 531 \r\nL 3481 0 \r\nL 794 0 \r\nL 794 531 \r\nz\r\n\" id=\"DejaVuSans-31\" transform=\"scale(0.015625)\"/>\r\n       </defs>\r\n       <use xlink:href=\"#DejaVuSans-31\"/>\r\n       <use x=\"63.623047\" xlink:href=\"#DejaVuSans-30\"/>\r\n       <use x=\"127.246094\" xlink:href=\"#DejaVuSans-30\"/>\r\n       <use x=\"190.869141\" xlink:href=\"#DejaVuSans-30\"/>\r\n      </g>\r\n     </g>\r\n    </g>\r\n    <g id=\"xtick_3\">\r\n     <g id=\"line2d_3\">\r\n      <g>\r\n       <use style=\"stroke:#000000;stroke-width:0.8;\" x=\"275.880114\" xlink:href=\"#md14355bb1c\" y=\"348.478125\"/>\r\n      </g>\r\n     </g>\r\n     <g id=\"text_3\">\r\n      <!-- 1500 -->\r\n      <g transform=\"translate(263.155114 363.076562)scale(0.1 -0.1)\">\r\n       <use xlink:href=\"#DejaVuSans-31\"/>\r\n       <use x=\"63.623047\" xlink:href=\"#DejaVuSans-35\"/>\r\n       <use x=\"127.246094\" xlink:href=\"#DejaVuSans-30\"/>\r\n       <use x=\"190.869141\" xlink:href=\"#DejaVuSans-30\"/>\r\n      </g>\r\n     </g>\r\n    </g>\r\n    <g id=\"xtick_4\">\r\n     <g id=\"line2d_4\">\r\n      <g>\r\n       <use style=\"stroke:#000000;stroke-width:0.8;\" x=\"360.425568\" xlink:href=\"#md14355bb1c\" y=\"348.478125\"/>\r\n      </g>\r\n     </g>\r\n     <g id=\"text_4\">\r\n      <!-- 2000 -->\r\n      <g transform=\"translate(347.700568 363.076562)scale(0.1 -0.1)\">\r\n       <defs>\r\n        <path d=\"M 1228 531 \r\nL 3431 531 \r\nL 3431 0 \r\nL 469 0 \r\nL 469 531 \r\nQ 828 903 1448 1529 \r\nQ 2069 2156 2228 2338 \r\nQ 2531 2678 2651 2914 \r\nQ 2772 3150 2772 3378 \r\nQ 2772 3750 2511 3984 \r\nQ 2250 4219 1831 4219 \r\nQ 1534 4219 1204 4116 \r\nQ 875 4013 500 3803 \r\nL 500 4441 \r\nQ 881 4594 1212 4672 \r\nQ 1544 4750 1819 4750 \r\nQ 2544 4750 2975 4387 \r\nQ 3406 4025 3406 3419 \r\nQ 3406 3131 3298 2873 \r\nQ 3191 2616 2906 2266 \r\nQ 2828 2175 2409 1742 \r\nQ 1991 1309 1228 531 \r\nz\r\n\" id=\"DejaVuSans-32\" transform=\"scale(0.015625)\"/>\r\n       </defs>\r\n       <use xlink:href=\"#DejaVuSans-32\"/>\r\n       <use x=\"63.623047\" xlink:href=\"#DejaVuSans-30\"/>\r\n       <use x=\"127.246094\" xlink:href=\"#DejaVuSans-30\"/>\r\n       <use x=\"190.869141\" xlink:href=\"#DejaVuSans-30\"/>\r\n      </g>\r\n     </g>\r\n    </g>\r\n    <g id=\"xtick_5\">\r\n     <g id=\"line2d_5\">\r\n      <g>\r\n       <use style=\"stroke:#000000;stroke-width:0.8;\" x=\"444.971023\" xlink:href=\"#md14355bb1c\" y=\"348.478125\"/>\r\n      </g>\r\n     </g>\r\n     <g id=\"text_5\">\r\n      <!-- 2500 -->\r\n      <g transform=\"translate(432.246023 363.076562)scale(0.1 -0.1)\">\r\n       <use xlink:href=\"#DejaVuSans-32\"/>\r\n       <use x=\"63.623047\" xlink:href=\"#DejaVuSans-35\"/>\r\n       <use x=\"127.246094\" xlink:href=\"#DejaVuSans-30\"/>\r\n       <use x=\"190.869141\" xlink:href=\"#DejaVuSans-30\"/>\r\n      </g>\r\n     </g>\r\n    </g>\r\n    <g id=\"xtick_6\">\r\n     <g id=\"line2d_6\">\r\n      <g>\r\n       <use style=\"stroke:#000000;stroke-width:0.8;\" x=\"529.516477\" xlink:href=\"#md14355bb1c\" y=\"348.478125\"/>\r\n      </g>\r\n     </g>\r\n     <g id=\"text_6\">\r\n      <!-- 3000 -->\r\n      <g transform=\"translate(516.791477 363.076562)scale(0.1 -0.1)\">\r\n       <defs>\r\n        <path d=\"M 2597 2516 \r\nQ 3050 2419 3304 2112 \r\nQ 3559 1806 3559 1356 \r\nQ 3559 666 3084 287 \r\nQ 2609 -91 1734 -91 \r\nQ 1441 -91 1130 -33 \r\nQ 819 25 488 141 \r\nL 488 750 \r\nQ 750 597 1062 519 \r\nQ 1375 441 1716 441 \r\nQ 2309 441 2620 675 \r\nQ 2931 909 2931 1356 \r\nQ 2931 1769 2642 2001 \r\nQ 2353 2234 1838 2234 \r\nL 1294 2234 \r\nL 1294 2753 \r\nL 1863 2753 \r\nQ 2328 2753 2575 2939 \r\nQ 2822 3125 2822 3475 \r\nQ 2822 3834 2567 4026 \r\nQ 2313 4219 1838 4219 \r\nQ 1578 4219 1281 4162 \r\nQ 984 4106 628 3988 \r\nL 628 4550 \r\nQ 988 4650 1302 4700 \r\nQ 1616 4750 1894 4750 \r\nQ 2613 4750 3031 4423 \r\nQ 3450 4097 3450 3541 \r\nQ 3450 3153 3228 2886 \r\nQ 3006 2619 2597 2516 \r\nz\r\n\" id=\"DejaVuSans-33\" transform=\"scale(0.015625)\"/>\r\n       </defs>\r\n       <use xlink:href=\"#DejaVuSans-33\"/>\r\n       <use x=\"63.623047\" xlink:href=\"#DejaVuSans-30\"/>\r\n       <use x=\"127.246094\" xlink:href=\"#DejaVuSans-30\"/>\r\n       <use x=\"190.869141\" xlink:href=\"#DejaVuSans-30\"/>\r\n      </g>\r\n     </g>\r\n    </g>\r\n    <g id=\"text_7\">\r\n     <!-- Number of training instances -->\r\n     <g transform=\"translate(228.415625 376.754687)scale(0.1 -0.1)\">\r\n      <defs>\r\n       <path d=\"M 628 4666 \r\nL 1478 4666 \r\nL 3547 763 \r\nL 3547 4666 \r\nL 4159 4666 \r\nL 4159 0 \r\nL 3309 0 \r\nL 1241 3903 \r\nL 1241 0 \r\nL 628 0 \r\nL 628 4666 \r\nz\r\n\" id=\"DejaVuSans-4e\" transform=\"scale(0.015625)\"/>\r\n       <path d=\"M 544 1381 \r\nL 544 3500 \r\nL 1119 3500 \r\nL 1119 1403 \r\nQ 1119 906 1312 657 \r\nQ 1506 409 1894 409 \r\nQ 2359 409 2629 706 \r\nQ 2900 1003 2900 1516 \r\nL 2900 3500 \r\nL 3475 3500 \r\nL 3475 0 \r\nL 2900 0 \r\nL 2900 538 \r\nQ 2691 219 2414 64 \r\nQ 2138 -91 1772 -91 \r\nQ 1169 -91 856 284 \r\nQ 544 659 544 1381 \r\nz\r\nM 1991 3584 \r\nL 1991 3584 \r\nz\r\n\" id=\"DejaVuSans-75\" transform=\"scale(0.015625)\"/>\r\n       <path d=\"M 3328 2828 \r\nQ 3544 3216 3844 3400 \r\nQ 4144 3584 4550 3584 \r\nQ 5097 3584 5394 3201 \r\nQ 5691 2819 5691 2113 \r\nL 5691 0 \r\nL 5113 0 \r\nL 5113 2094 \r\nQ 5113 2597 4934 2840 \r\nQ 4756 3084 4391 3084 \r\nQ 3944 3084 3684 2787 \r\nQ 3425 2491 3425 1978 \r\nL 3425 0 \r\nL 2847 0 \r\nL 2847 2094 \r\nQ 2847 2600 2669 2842 \r\nQ 2491 3084 2119 3084 \r\nQ 1678 3084 1418 2786 \r\nQ 1159 2488 1159 1978 \r\nL 1159 0 \r\nL 581 0 \r\nL 581 3500 \r\nL 1159 3500 \r\nL 1159 2956 \r\nQ 1356 3278 1631 3431 \r\nQ 1906 3584 2284 3584 \r\nQ 2666 3584 2933 3390 \r\nQ 3200 3197 3328 2828 \r\nz\r\n\" id=\"DejaVuSans-6d\" transform=\"scale(0.015625)\"/>\r\n       <path d=\"M 3116 1747 \r\nQ 3116 2381 2855 2742 \r\nQ 2594 3103 2138 3103 \r\nQ 1681 3103 1420 2742 \r\nQ 1159 2381 1159 1747 \r\nQ 1159 1113 1420 752 \r\nQ 1681 391 2138 391 \r\nQ 2594 391 2855 752 \r\nQ 3116 1113 3116 1747 \r\nz\r\nM 1159 2969 \r\nQ 1341 3281 1617 3432 \r\nQ 1894 3584 2278 3584 \r\nQ 2916 3584 3314 3078 \r\nQ 3713 2572 3713 1747 \r\nQ 3713 922 3314 415 \r\nQ 2916 -91 2278 -91 \r\nQ 1894 -91 1617 61 \r\nQ 1341 213 1159 525 \r\nL 1159 0 \r\nL 581 0 \r\nL 581 4863 \r\nL 1159 4863 \r\nL 1159 2969 \r\nz\r\n\" id=\"DejaVuSans-62\" transform=\"scale(0.015625)\"/>\r\n       <path d=\"M 3597 1894 \r\nL 3597 1613 \r\nL 953 1613 \r\nQ 991 1019 1311 708 \r\nQ 1631 397 2203 397 \r\nQ 2534 397 2845 478 \r\nQ 3156 559 3463 722 \r\nL 3463 178 \r\nQ 3153 47 2828 -22 \r\nQ 2503 -91 2169 -91 \r\nQ 1331 -91 842 396 \r\nQ 353 884 353 1716 \r\nQ 353 2575 817 3079 \r\nQ 1281 3584 2069 3584 \r\nQ 2775 3584 3186 3129 \r\nQ 3597 2675 3597 1894 \r\nz\r\nM 3022 2063 \r\nQ 3016 2534 2758 2815 \r\nQ 2500 3097 2075 3097 \r\nQ 1594 3097 1305 2825 \r\nQ 1016 2553 972 2059 \r\nL 3022 2063 \r\nz\r\n\" id=\"DejaVuSans-65\" transform=\"scale(0.015625)\"/>\r\n       <path d=\"M 2631 2963 \r\nQ 2534 3019 2420 3045 \r\nQ 2306 3072 2169 3072 \r\nQ 1681 3072 1420 2755 \r\nQ 1159 2438 1159 1844 \r\nL 1159 0 \r\nL 581 0 \r\nL 581 3500 \r\nL 1159 3500 \r\nL 1159 2956 \r\nQ 1341 3275 1631 3429 \r\nQ 1922 3584 2338 3584 \r\nQ 2397 3584 2469 3576 \r\nQ 2541 3569 2628 3553 \r\nL 2631 2963 \r\nz\r\n\" id=\"DejaVuSans-72\" transform=\"scale(0.015625)\"/>\r\n       <path id=\"DejaVuSans-20\" transform=\"scale(0.015625)\"/>\r\n       <path d=\"M 1959 3097 \r\nQ 1497 3097 1228 2736 \r\nQ 959 2375 959 1747 \r\nQ 959 1119 1226 758 \r\nQ 1494 397 1959 397 \r\nQ 2419 397 2687 759 \r\nQ 2956 1122 2956 1747 \r\nQ 2956 2369 2687 2733 \r\nQ 2419 3097 1959 3097 \r\nz\r\nM 1959 3584 \r\nQ 2709 3584 3137 3096 \r\nQ 3566 2609 3566 1747 \r\nQ 3566 888 3137 398 \r\nQ 2709 -91 1959 -91 \r\nQ 1206 -91 779 398 \r\nQ 353 888 353 1747 \r\nQ 353 2609 779 3096 \r\nQ 1206 3584 1959 3584 \r\nz\r\n\" id=\"DejaVuSans-6f\" transform=\"scale(0.015625)\"/>\r\n       <path d=\"M 2375 4863 \r\nL 2375 4384 \r\nL 1825 4384 \r\nQ 1516 4384 1395 4259 \r\nQ 1275 4134 1275 3809 \r\nL 1275 3500 \r\nL 2222 3500 \r\nL 2222 3053 \r\nL 1275 3053 \r\nL 1275 0 \r\nL 697 0 \r\nL 697 3053 \r\nL 147 3053 \r\nL 147 3500 \r\nL 697 3500 \r\nL 697 3744 \r\nQ 697 4328 969 4595 \r\nQ 1241 4863 1831 4863 \r\nL 2375 4863 \r\nz\r\n\" id=\"DejaVuSans-66\" transform=\"scale(0.015625)\"/>\r\n       <path d=\"M 1172 4494 \r\nL 1172 3500 \r\nL 2356 3500 \r\nL 2356 3053 \r\nL 1172 3053 \r\nL 1172 1153 \r\nQ 1172 725 1289 603 \r\nQ 1406 481 1766 481 \r\nL 2356 481 \r\nL 2356 0 \r\nL 1766 0 \r\nQ 1100 0 847 248 \r\nQ 594 497 594 1153 \r\nL 594 3053 \r\nL 172 3053 \r\nL 172 3500 \r\nL 594 3500 \r\nL 594 4494 \r\nL 1172 4494 \r\nz\r\n\" id=\"DejaVuSans-74\" transform=\"scale(0.015625)\"/>\r\n       <path d=\"M 2194 1759 \r\nQ 1497 1759 1228 1600 \r\nQ 959 1441 959 1056 \r\nQ 959 750 1161 570 \r\nQ 1363 391 1709 391 \r\nQ 2188 391 2477 730 \r\nQ 2766 1069 2766 1631 \r\nL 2766 1759 \r\nL 2194 1759 \r\nz\r\nM 3341 1997 \r\nL 3341 0 \r\nL 2766 0 \r\nL 2766 531 \r\nQ 2569 213 2275 61 \r\nQ 1981 -91 1556 -91 \r\nQ 1019 -91 701 211 \r\nQ 384 513 384 1019 \r\nQ 384 1609 779 1909 \r\nQ 1175 2209 1959 2209 \r\nL 2766 2209 \r\nL 2766 2266 \r\nQ 2766 2663 2505 2880 \r\nQ 2244 3097 1772 3097 \r\nQ 1472 3097 1187 3025 \r\nQ 903 2953 641 2809 \r\nL 641 3341 \r\nQ 956 3463 1253 3523 \r\nQ 1550 3584 1831 3584 \r\nQ 2591 3584 2966 3190 \r\nQ 3341 2797 3341 1997 \r\nz\r\n\" id=\"DejaVuSans-61\" transform=\"scale(0.015625)\"/>\r\n       <path d=\"M 603 3500 \r\nL 1178 3500 \r\nL 1178 0 \r\nL 603 0 \r\nL 603 3500 \r\nz\r\nM 603 4863 \r\nL 1178 4863 \r\nL 1178 4134 \r\nL 603 4134 \r\nL 603 4863 \r\nz\r\n\" id=\"DejaVuSans-69\" transform=\"scale(0.015625)\"/>\r\n       <path d=\"M 3513 2113 \r\nL 3513 0 \r\nL 2938 0 \r\nL 2938 2094 \r\nQ 2938 2591 2744 2837 \r\nQ 2550 3084 2163 3084 \r\nQ 1697 3084 1428 2787 \r\nQ 1159 2491 1159 1978 \r\nL 1159 0 \r\nL 581 0 \r\nL 581 3500 \r\nL 1159 3500 \r\nL 1159 2956 \r\nQ 1366 3272 1645 3428 \r\nQ 1925 3584 2291 3584 \r\nQ 2894 3584 3203 3211 \r\nQ 3513 2838 3513 2113 \r\nz\r\n\" id=\"DejaVuSans-6e\" transform=\"scale(0.015625)\"/>\r\n       <path d=\"M 2906 1791 \r\nQ 2906 2416 2648 2759 \r\nQ 2391 3103 1925 3103 \r\nQ 1463 3103 1205 2759 \r\nQ 947 2416 947 1791 \r\nQ 947 1169 1205 825 \r\nQ 1463 481 1925 481 \r\nQ 2391 481 2648 825 \r\nQ 2906 1169 2906 1791 \r\nz\r\nM 3481 434 \r\nQ 3481 -459 3084 -895 \r\nQ 2688 -1331 1869 -1331 \r\nQ 1566 -1331 1297 -1286 \r\nQ 1028 -1241 775 -1147 \r\nL 775 -588 \r\nQ 1028 -725 1275 -790 \r\nQ 1522 -856 1778 -856 \r\nQ 2344 -856 2625 -561 \r\nQ 2906 -266 2906 331 \r\nL 2906 616 \r\nQ 2728 306 2450 153 \r\nQ 2172 0 1784 0 \r\nQ 1141 0 747 490 \r\nQ 353 981 353 1791 \r\nQ 353 2603 747 3093 \r\nQ 1141 3584 1784 3584 \r\nQ 2172 3584 2450 3431 \r\nQ 2728 3278 2906 2969 \r\nL 2906 3500 \r\nL 3481 3500 \r\nL 3481 434 \r\nz\r\n\" id=\"DejaVuSans-67\" transform=\"scale(0.015625)\"/>\r\n       <path d=\"M 2834 3397 \r\nL 2834 2853 \r\nQ 2591 2978 2328 3040 \r\nQ 2066 3103 1784 3103 \r\nQ 1356 3103 1142 2972 \r\nQ 928 2841 928 2578 \r\nQ 928 2378 1081 2264 \r\nQ 1234 2150 1697 2047 \r\nL 1894 2003 \r\nQ 2506 1872 2764 1633 \r\nQ 3022 1394 3022 966 \r\nQ 3022 478 2636 193 \r\nQ 2250 -91 1575 -91 \r\nQ 1294 -91 989 -36 \r\nQ 684 19 347 128 \r\nL 347 722 \r\nQ 666 556 975 473 \r\nQ 1284 391 1588 391 \r\nQ 1994 391 2212 530 \r\nQ 2431 669 2431 922 \r\nQ 2431 1156 2273 1281 \r\nQ 2116 1406 1581 1522 \r\nL 1381 1569 \r\nQ 847 1681 609 1914 \r\nQ 372 2147 372 2553 \r\nQ 372 3047 722 3315 \r\nQ 1072 3584 1716 3584 \r\nQ 2034 3584 2315 3537 \r\nQ 2597 3491 2834 3397 \r\nz\r\n\" id=\"DejaVuSans-73\" transform=\"scale(0.015625)\"/>\r\n       <path d=\"M 3122 3366 \r\nL 3122 2828 \r\nQ 2878 2963 2633 3030 \r\nQ 2388 3097 2138 3097 \r\nQ 1578 3097 1268 2742 \r\nQ 959 2388 959 1747 \r\nQ 959 1106 1268 751 \r\nQ 1578 397 2138 397 \r\nQ 2388 397 2633 464 \r\nQ 2878 531 3122 666 \r\nL 3122 134 \r\nQ 2881 22 2623 -34 \r\nQ 2366 -91 2075 -91 \r\nQ 1284 -91 818 406 \r\nQ 353 903 353 1747 \r\nQ 353 2603 823 3093 \r\nQ 1294 3584 2113 3584 \r\nQ 2378 3584 2631 3529 \r\nQ 2884 3475 3122 3366 \r\nz\r\n\" id=\"DejaVuSans-63\" transform=\"scale(0.015625)\"/>\r\n      </defs>\r\n      <use xlink:href=\"#DejaVuSans-4e\"/>\r\n      <use x=\"74.804688\" xlink:href=\"#DejaVuSans-75\"/>\r\n      <use x=\"138.183594\" xlink:href=\"#DejaVuSans-6d\"/>\r\n      <use x=\"235.595703\" xlink:href=\"#DejaVuSans-62\"/>\r\n      <use x=\"299.072266\" xlink:href=\"#DejaVuSans-65\"/>\r\n      <use x=\"360.595703\" xlink:href=\"#DejaVuSans-72\"/>\r\n      <use x=\"401.708984\" xlink:href=\"#DejaVuSans-20\"/>\r\n      <use x=\"433.496094\" xlink:href=\"#DejaVuSans-6f\"/>\r\n      <use x=\"494.677734\" xlink:href=\"#DejaVuSans-66\"/>\r\n      <use x=\"529.882812\" xlink:href=\"#DejaVuSans-20\"/>\r\n      <use x=\"561.669922\" xlink:href=\"#DejaVuSans-74\"/>\r\n      <use x=\"600.878906\" xlink:href=\"#DejaVuSans-72\"/>\r\n      <use x=\"641.992188\" xlink:href=\"#DejaVuSans-61\"/>\r\n      <use x=\"703.271484\" xlink:href=\"#DejaVuSans-69\"/>\r\n      <use x=\"731.054688\" xlink:href=\"#DejaVuSans-6e\"/>\r\n      <use x=\"794.433594\" xlink:href=\"#DejaVuSans-69\"/>\r\n      <use x=\"822.216797\" xlink:href=\"#DejaVuSans-6e\"/>\r\n      <use x=\"885.595703\" xlink:href=\"#DejaVuSans-67\"/>\r\n      <use x=\"949.072266\" xlink:href=\"#DejaVuSans-20\"/>\r\n      <use x=\"980.859375\" xlink:href=\"#DejaVuSans-69\"/>\r\n      <use x=\"1008.642578\" xlink:href=\"#DejaVuSans-6e\"/>\r\n      <use x=\"1072.021484\" xlink:href=\"#DejaVuSans-73\"/>\r\n      <use x=\"1124.121094\" xlink:href=\"#DejaVuSans-74\"/>\r\n      <use x=\"1163.330078\" xlink:href=\"#DejaVuSans-61\"/>\r\n      <use x=\"1224.609375\" xlink:href=\"#DejaVuSans-6e\"/>\r\n      <use x=\"1287.988281\" xlink:href=\"#DejaVuSans-63\"/>\r\n      <use x=\"1342.96875\" xlink:href=\"#DejaVuSans-65\"/>\r\n      <use x=\"1404.492188\" xlink:href=\"#DejaVuSans-73\"/>\r\n     </g>\r\n    </g>\r\n   </g>\r\n   <g id=\"matplotlib.axis_2\">\r\n    <g id=\"ytick_1\">\r\n     <g id=\"line2d_7\">\r\n      <defs>\r\n       <path d=\"M 0 0 \r\nL -3.5 0 \r\n\" id=\"m345280f96b\" style=\"stroke:#000000;stroke-width:0.8;\"/>\r\n      </defs>\r\n      <g>\r\n       <use style=\"stroke:#000000;stroke-width:0.8;\" x=\"50.14375\" xlink:href=\"#m345280f96b\" y=\"327.556222\"/>\r\n      </g>\r\n     </g>\r\n     <g id=\"text_8\">\r\n      <!-- 0.32 -->\r\n      <g transform=\"translate(20.878125 331.355441)scale(0.1 -0.1)\">\r\n       <defs>\r\n        <path d=\"M 684 794 \r\nL 1344 794 \r\nL 1344 0 \r\nL 684 0 \r\nL 684 794 \r\nz\r\n\" id=\"DejaVuSans-2e\" transform=\"scale(0.015625)\"/>\r\n       </defs>\r\n       <use xlink:href=\"#DejaVuSans-30\"/>\r\n       <use x=\"63.623047\" xlink:href=\"#DejaVuSans-2e\"/>\r\n       <use x=\"95.410156\" xlink:href=\"#DejaVuSans-33\"/>\r\n       <use x=\"159.033203\" xlink:href=\"#DejaVuSans-32\"/>\r\n      </g>\r\n     </g>\r\n    </g>\r\n    <g id=\"ytick_2\">\r\n     <g id=\"line2d_8\">\r\n      <g>\r\n       <use style=\"stroke:#000000;stroke-width:0.8;\" x=\"50.14375\" xlink:href=\"#m345280f96b\" y=\"289.394037\"/>\r\n      </g>\r\n     </g>\r\n     <g id=\"text_9\">\r\n      <!-- 0.34 -->\r\n      <g transform=\"translate(20.878125 293.193256)scale(0.1 -0.1)\">\r\n       <defs>\r\n        <path d=\"M 2419 4116 \r\nL 825 1625 \r\nL 2419 1625 \r\nL 2419 4116 \r\nz\r\nM 2253 4666 \r\nL 3047 4666 \r\nL 3047 1625 \r\nL 3713 1625 \r\nL 3713 1100 \r\nL 3047 1100 \r\nL 3047 0 \r\nL 2419 0 \r\nL 2419 1100 \r\nL 313 1100 \r\nL 313 1709 \r\nL 2253 4666 \r\nz\r\n\" id=\"DejaVuSans-34\" transform=\"scale(0.015625)\"/>\r\n       </defs>\r\n       <use xlink:href=\"#DejaVuSans-30\"/>\r\n       <use x=\"63.623047\" xlink:href=\"#DejaVuSans-2e\"/>\r\n       <use x=\"95.410156\" xlink:href=\"#DejaVuSans-33\"/>\r\n       <use x=\"159.033203\" xlink:href=\"#DejaVuSans-34\"/>\r\n      </g>\r\n     </g>\r\n    </g>\r\n    <g id=\"ytick_3\">\r\n     <g id=\"line2d_9\">\r\n      <g>\r\n       <use style=\"stroke:#000000;stroke-width:0.8;\" x=\"50.14375\" xlink:href=\"#m345280f96b\" y=\"251.231852\"/>\r\n      </g>\r\n     </g>\r\n     <g id=\"text_10\">\r\n      <!-- 0.36 -->\r\n      <g transform=\"translate(20.878125 255.031071)scale(0.1 -0.1)\">\r\n       <defs>\r\n        <path d=\"M 2113 2584 \r\nQ 1688 2584 1439 2293 \r\nQ 1191 2003 1191 1497 \r\nQ 1191 994 1439 701 \r\nQ 1688 409 2113 409 \r\nQ 2538 409 2786 701 \r\nQ 3034 994 3034 1497 \r\nQ 3034 2003 2786 2293 \r\nQ 2538 2584 2113 2584 \r\nz\r\nM 3366 4563 \r\nL 3366 3988 \r\nQ 3128 4100 2886 4159 \r\nQ 2644 4219 2406 4219 \r\nQ 1781 4219 1451 3797 \r\nQ 1122 3375 1075 2522 \r\nQ 1259 2794 1537 2939 \r\nQ 1816 3084 2150 3084 \r\nQ 2853 3084 3261 2657 \r\nQ 3669 2231 3669 1497 \r\nQ 3669 778 3244 343 \r\nQ 2819 -91 2113 -91 \r\nQ 1303 -91 875 529 \r\nQ 447 1150 447 2328 \r\nQ 447 3434 972 4092 \r\nQ 1497 4750 2381 4750 \r\nQ 2619 4750 2861 4703 \r\nQ 3103 4656 3366 4563 \r\nz\r\n\" id=\"DejaVuSans-36\" transform=\"scale(0.015625)\"/>\r\n       </defs>\r\n       <use xlink:href=\"#DejaVuSans-30\"/>\r\n       <use x=\"63.623047\" xlink:href=\"#DejaVuSans-2e\"/>\r\n       <use x=\"95.410156\" xlink:href=\"#DejaVuSans-33\"/>\r\n       <use x=\"159.033203\" xlink:href=\"#DejaVuSans-36\"/>\r\n      </g>\r\n     </g>\r\n    </g>\r\n    <g id=\"ytick_4\">\r\n     <g id=\"line2d_10\">\r\n      <g>\r\n       <use style=\"stroke:#000000;stroke-width:0.8;\" x=\"50.14375\" xlink:href=\"#m345280f96b\" y=\"213.069668\"/>\r\n      </g>\r\n     </g>\r\n     <g id=\"text_11\">\r\n      <!-- 0.38 -->\r\n      <g transform=\"translate(20.878125 216.868886)scale(0.1 -0.1)\">\r\n       <defs>\r\n        <path d=\"M 2034 2216 \r\nQ 1584 2216 1326 1975 \r\nQ 1069 1734 1069 1313 \r\nQ 1069 891 1326 650 \r\nQ 1584 409 2034 409 \r\nQ 2484 409 2743 651 \r\nQ 3003 894 3003 1313 \r\nQ 3003 1734 2745 1975 \r\nQ 2488 2216 2034 2216 \r\nz\r\nM 1403 2484 \r\nQ 997 2584 770 2862 \r\nQ 544 3141 544 3541 \r\nQ 544 4100 942 4425 \r\nQ 1341 4750 2034 4750 \r\nQ 2731 4750 3128 4425 \r\nQ 3525 4100 3525 3541 \r\nQ 3525 3141 3298 2862 \r\nQ 3072 2584 2669 2484 \r\nQ 3125 2378 3379 2068 \r\nQ 3634 1759 3634 1313 \r\nQ 3634 634 3220 271 \r\nQ 2806 -91 2034 -91 \r\nQ 1263 -91 848 271 \r\nQ 434 634 434 1313 \r\nQ 434 1759 690 2068 \r\nQ 947 2378 1403 2484 \r\nz\r\nM 1172 3481 \r\nQ 1172 3119 1398 2916 \r\nQ 1625 2713 2034 2713 \r\nQ 2441 2713 2670 2916 \r\nQ 2900 3119 2900 3481 \r\nQ 2900 3844 2670 4047 \r\nQ 2441 4250 2034 4250 \r\nQ 1625 4250 1398 4047 \r\nQ 1172 3844 1172 3481 \r\nz\r\n\" id=\"DejaVuSans-38\" transform=\"scale(0.015625)\"/>\r\n       </defs>\r\n       <use xlink:href=\"#DejaVuSans-30\"/>\r\n       <use x=\"63.623047\" xlink:href=\"#DejaVuSans-2e\"/>\r\n       <use x=\"95.410156\" xlink:href=\"#DejaVuSans-33\"/>\r\n       <use x=\"159.033203\" xlink:href=\"#DejaVuSans-38\"/>\r\n      </g>\r\n     </g>\r\n    </g>\r\n    <g id=\"ytick_5\">\r\n     <g id=\"line2d_11\">\r\n      <g>\r\n       <use style=\"stroke:#000000;stroke-width:0.8;\" x=\"50.14375\" xlink:href=\"#m345280f96b\" y=\"174.907483\"/>\r\n      </g>\r\n     </g>\r\n     <g id=\"text_12\">\r\n      <!-- 0.40 -->\r\n      <g transform=\"translate(20.878125 178.706702)scale(0.1 -0.1)\">\r\n       <use xlink:href=\"#DejaVuSans-30\"/>\r\n       <use x=\"63.623047\" xlink:href=\"#DejaVuSans-2e\"/>\r\n       <use x=\"95.410156\" xlink:href=\"#DejaVuSans-34\"/>\r\n       <use x=\"159.033203\" xlink:href=\"#DejaVuSans-30\"/>\r\n      </g>\r\n     </g>\r\n    </g>\r\n    <g id=\"ytick_6\">\r\n     <g id=\"line2d_12\">\r\n      <g>\r\n       <use style=\"stroke:#000000;stroke-width:0.8;\" x=\"50.14375\" xlink:href=\"#m345280f96b\" y=\"136.745298\"/>\r\n      </g>\r\n     </g>\r\n     <g id=\"text_13\">\r\n      <!-- 0.42 -->\r\n      <g transform=\"translate(20.878125 140.544517)scale(0.1 -0.1)\">\r\n       <use xlink:href=\"#DejaVuSans-30\"/>\r\n       <use x=\"63.623047\" xlink:href=\"#DejaVuSans-2e\"/>\r\n       <use x=\"95.410156\" xlink:href=\"#DejaVuSans-34\"/>\r\n       <use x=\"159.033203\" xlink:href=\"#DejaVuSans-32\"/>\r\n      </g>\r\n     </g>\r\n    </g>\r\n    <g id=\"ytick_7\">\r\n     <g id=\"line2d_13\">\r\n      <g>\r\n       <use style=\"stroke:#000000;stroke-width:0.8;\" x=\"50.14375\" xlink:href=\"#m345280f96b\" y=\"98.583113\"/>\r\n      </g>\r\n     </g>\r\n     <g id=\"text_14\">\r\n      <!-- 0.44 -->\r\n      <g transform=\"translate(20.878125 102.382332)scale(0.1 -0.1)\">\r\n       <use xlink:href=\"#DejaVuSans-30\"/>\r\n       <use x=\"63.623047\" xlink:href=\"#DejaVuSans-2e\"/>\r\n       <use x=\"95.410156\" xlink:href=\"#DejaVuSans-34\"/>\r\n       <use x=\"159.033203\" xlink:href=\"#DejaVuSans-34\"/>\r\n      </g>\r\n     </g>\r\n    </g>\r\n    <g id=\"ytick_8\">\r\n     <g id=\"line2d_14\">\r\n      <g>\r\n       <use style=\"stroke:#000000;stroke-width:0.8;\" x=\"50.14375\" xlink:href=\"#m345280f96b\" y=\"60.420929\"/>\r\n      </g>\r\n     </g>\r\n     <g id=\"text_15\">\r\n      <!-- 0.46 -->\r\n      <g transform=\"translate(20.878125 64.220147)scale(0.1 -0.1)\">\r\n       <use xlink:href=\"#DejaVuSans-30\"/>\r\n       <use x=\"63.623047\" xlink:href=\"#DejaVuSans-2e\"/>\r\n       <use x=\"95.410156\" xlink:href=\"#DejaVuSans-34\"/>\r\n       <use x=\"159.033203\" xlink:href=\"#DejaVuSans-36\"/>\r\n      </g>\r\n     </g>\r\n    </g>\r\n    <g id=\"text_16\">\r\n     <!-- Test Accuracy -->\r\n     <g transform=\"translate(14.798437 219.660625)rotate(-90)scale(0.1 -0.1)\">\r\n      <defs>\r\n       <path d=\"M -19 4666 \r\nL 3928 4666 \r\nL 3928 4134 \r\nL 2272 4134 \r\nL 2272 0 \r\nL 1638 0 \r\nL 1638 4134 \r\nL -19 4134 \r\nL -19 4666 \r\nz\r\n\" id=\"DejaVuSans-54\" transform=\"scale(0.015625)\"/>\r\n       <path d=\"M 2188 4044 \r\nL 1331 1722 \r\nL 3047 1722 \r\nL 2188 4044 \r\nz\r\nM 1831 4666 \r\nL 2547 4666 \r\nL 4325 0 \r\nL 3669 0 \r\nL 3244 1197 \r\nL 1141 1197 \r\nL 716 0 \r\nL 50 0 \r\nL 1831 4666 \r\nz\r\n\" id=\"DejaVuSans-41\" transform=\"scale(0.015625)\"/>\r\n       <path d=\"M 2059 -325 \r\nQ 1816 -950 1584 -1140 \r\nQ 1353 -1331 966 -1331 \r\nL 506 -1331 \r\nL 506 -850 \r\nL 844 -850 \r\nQ 1081 -850 1212 -737 \r\nQ 1344 -625 1503 -206 \r\nL 1606 56 \r\nL 191 3500 \r\nL 800 3500 \r\nL 1894 763 \r\nL 2988 3500 \r\nL 3597 3500 \r\nL 2059 -325 \r\nz\r\n\" id=\"DejaVuSans-79\" transform=\"scale(0.015625)\"/>\r\n      </defs>\r\n      <use xlink:href=\"#DejaVuSans-54\"/>\r\n      <use x=\"44.083984\" xlink:href=\"#DejaVuSans-65\"/>\r\n      <use x=\"105.607422\" xlink:href=\"#DejaVuSans-73\"/>\r\n      <use x=\"157.707031\" xlink:href=\"#DejaVuSans-74\"/>\r\n      <use x=\"196.916016\" xlink:href=\"#DejaVuSans-20\"/>\r\n      <use x=\"228.703125\" xlink:href=\"#DejaVuSans-41\"/>\r\n      <use x=\"295.361328\" xlink:href=\"#DejaVuSans-63\"/>\r\n      <use x=\"350.341797\" xlink:href=\"#DejaVuSans-63\"/>\r\n      <use x=\"405.322266\" xlink:href=\"#DejaVuSans-75\"/>\r\n      <use x=\"468.701172\" xlink:href=\"#DejaVuSans-72\"/>\r\n      <use x=\"509.814453\" xlink:href=\"#DejaVuSans-61\"/>\r\n      <use x=\"571.09375\" xlink:href=\"#DejaVuSans-63\"/>\r\n      <use x=\"626.074219\" xlink:href=\"#DejaVuSans-79\"/>\r\n     </g>\r\n    </g>\r\n   </g>\r\n   <g id=\"line2d_15\">\r\n    <path clip-path=\"url(#pdb6a8ea1b4)\" d=\"M 72.971023 333.65267 \r\nL 83.116477 306.337414 \r\nL 93.261932 276.053107 \r\nL 103.407386 260.811986 \r\nL 113.552841 252.498647 \r\nL 123.698295 241.810068 \r\nL 133.84375 242.799751 \r\nL 143.989205 242.997688 \r\nL 154.134659 242.601815 \r\nL 164.280114 235.476096 \r\nL 174.425568 219.443228 \r\nL 184.571023 229.735933 \r\nL 194.716477 224.985454 \r\nL 204.861932 223.204024 \r\nL 215.007386 212.713382 \r\nL 225.152841 211.327825 \r\nL 235.298295 203.608296 \r\nL 245.44375 203.212423 \r\nL 255.589205 197.47226 \r\nL 265.734659 198.264007 \r\nL 275.880114 193.315591 \r\nL 286.025568 196.28464 \r\nL 296.171023 196.87845 \r\nL 306.316477 194.701147 \r\nL 316.461932 191.732098 \r\nL 326.607386 187.575428 \r\nL 336.752841 185.200188 \r\nL 346.898295 182.824949 \r\nL 357.04375 183.814632 \r\nL 367.189205 182.429075 \r\nL 377.334659 178.074469 \r\nL 387.480114 180.053836 \r\nL 397.625568 178.470343 \r\nL 407.771023 181.043519 \r\nL 417.916477 179.064152 \r\nL 428.061932 176.886849 \r\nL 438.207386 171.146687 \r\nL 448.352841 183.814632 \r\nL 458.498295 172.928117 \r\nL 468.64375 171.344623 \r\nL 478.789205 169.563194 \r\nL 488.934659 156.301439 \r\nL 499.080114 164.020968 \r\nL 509.225568 166.000334 \r\nL 519.371023 154.717945 \r\nL 529.516477 154.520009 \r\n\" style=\"fill:none;stroke:#1f77b4;stroke-linecap:square;stroke-width:1.5;\"/>\r\n    <defs>\r\n     <path d=\"M -0 3 \r\nL 3 -3 \r\nL -3 -3 \r\nz\r\n\" id=\"m246d8460a6\" style=\"stroke:#1f77b4;stroke-linejoin:miter;\"/>\r\n    </defs>\r\n    <g clip-path=\"url(#pdb6a8ea1b4)\">\r\n     <use style=\"fill:#1f77b4;stroke:#1f77b4;stroke-linejoin:miter;\" x=\"72.971023\" xlink:href=\"#m246d8460a6\" y=\"333.65267\"/>\r\n     <use style=\"fill:#1f77b4;stroke:#1f77b4;stroke-linejoin:miter;\" x=\"83.116477\" xlink:href=\"#m246d8460a6\" y=\"306.337414\"/>\r\n     <use style=\"fill:#1f77b4;stroke:#1f77b4;stroke-linejoin:miter;\" x=\"93.261932\" xlink:href=\"#m246d8460a6\" y=\"276.053107\"/>\r\n     <use style=\"fill:#1f77b4;stroke:#1f77b4;stroke-linejoin:miter;\" x=\"103.407386\" xlink:href=\"#m246d8460a6\" y=\"260.811986\"/>\r\n     <use style=\"fill:#1f77b4;stroke:#1f77b4;stroke-linejoin:miter;\" x=\"113.552841\" xlink:href=\"#m246d8460a6\" y=\"252.498647\"/>\r\n     <use style=\"fill:#1f77b4;stroke:#1f77b4;stroke-linejoin:miter;\" x=\"123.698295\" xlink:href=\"#m246d8460a6\" y=\"241.810068\"/>\r\n     <use style=\"fill:#1f77b4;stroke:#1f77b4;stroke-linejoin:miter;\" x=\"133.84375\" xlink:href=\"#m246d8460a6\" y=\"242.799751\"/>\r\n     <use style=\"fill:#1f77b4;stroke:#1f77b4;stroke-linejoin:miter;\" x=\"143.989205\" xlink:href=\"#m246d8460a6\" y=\"242.997688\"/>\r\n     <use style=\"fill:#1f77b4;stroke:#1f77b4;stroke-linejoin:miter;\" x=\"154.134659\" xlink:href=\"#m246d8460a6\" y=\"242.601815\"/>\r\n     <use style=\"fill:#1f77b4;stroke:#1f77b4;stroke-linejoin:miter;\" x=\"164.280114\" xlink:href=\"#m246d8460a6\" y=\"235.476096\"/>\r\n     <use style=\"fill:#1f77b4;stroke:#1f77b4;stroke-linejoin:miter;\" x=\"174.425568\" xlink:href=\"#m246d8460a6\" y=\"219.443228\"/>\r\n     <use style=\"fill:#1f77b4;stroke:#1f77b4;stroke-linejoin:miter;\" x=\"184.571023\" xlink:href=\"#m246d8460a6\" y=\"229.735933\"/>\r\n     <use style=\"fill:#1f77b4;stroke:#1f77b4;stroke-linejoin:miter;\" x=\"194.716477\" xlink:href=\"#m246d8460a6\" y=\"224.985454\"/>\r\n     <use style=\"fill:#1f77b4;stroke:#1f77b4;stroke-linejoin:miter;\" x=\"204.861932\" xlink:href=\"#m246d8460a6\" y=\"223.204024\"/>\r\n     <use style=\"fill:#1f77b4;stroke:#1f77b4;stroke-linejoin:miter;\" x=\"215.007386\" xlink:href=\"#m246d8460a6\" y=\"212.713382\"/>\r\n     <use style=\"fill:#1f77b4;stroke:#1f77b4;stroke-linejoin:miter;\" x=\"225.152841\" xlink:href=\"#m246d8460a6\" y=\"211.327825\"/>\r\n     <use style=\"fill:#1f77b4;stroke:#1f77b4;stroke-linejoin:miter;\" x=\"235.298295\" xlink:href=\"#m246d8460a6\" y=\"203.608296\"/>\r\n     <use style=\"fill:#1f77b4;stroke:#1f77b4;stroke-linejoin:miter;\" x=\"245.44375\" xlink:href=\"#m246d8460a6\" y=\"203.212423\"/>\r\n     <use style=\"fill:#1f77b4;stroke:#1f77b4;stroke-linejoin:miter;\" x=\"255.589205\" xlink:href=\"#m246d8460a6\" y=\"197.47226\"/>\r\n     <use style=\"fill:#1f77b4;stroke:#1f77b4;stroke-linejoin:miter;\" x=\"265.734659\" xlink:href=\"#m246d8460a6\" y=\"198.264007\"/>\r\n     <use style=\"fill:#1f77b4;stroke:#1f77b4;stroke-linejoin:miter;\" x=\"275.880114\" xlink:href=\"#m246d8460a6\" y=\"193.315591\"/>\r\n     <use style=\"fill:#1f77b4;stroke:#1f77b4;stroke-linejoin:miter;\" x=\"286.025568\" xlink:href=\"#m246d8460a6\" y=\"196.28464\"/>\r\n     <use style=\"fill:#1f77b4;stroke:#1f77b4;stroke-linejoin:miter;\" x=\"296.171023\" xlink:href=\"#m246d8460a6\" y=\"196.87845\"/>\r\n     <use style=\"fill:#1f77b4;stroke:#1f77b4;stroke-linejoin:miter;\" x=\"306.316477\" xlink:href=\"#m246d8460a6\" y=\"194.701147\"/>\r\n     <use style=\"fill:#1f77b4;stroke:#1f77b4;stroke-linejoin:miter;\" x=\"316.461932\" xlink:href=\"#m246d8460a6\" y=\"191.732098\"/>\r\n     <use style=\"fill:#1f77b4;stroke:#1f77b4;stroke-linejoin:miter;\" x=\"326.607386\" xlink:href=\"#m246d8460a6\" y=\"187.575428\"/>\r\n     <use style=\"fill:#1f77b4;stroke:#1f77b4;stroke-linejoin:miter;\" x=\"336.752841\" xlink:href=\"#m246d8460a6\" y=\"185.200188\"/>\r\n     <use style=\"fill:#1f77b4;stroke:#1f77b4;stroke-linejoin:miter;\" x=\"346.898295\" xlink:href=\"#m246d8460a6\" y=\"182.824949\"/>\r\n     <use style=\"fill:#1f77b4;stroke:#1f77b4;stroke-linejoin:miter;\" x=\"357.04375\" xlink:href=\"#m246d8460a6\" y=\"183.814632\"/>\r\n     <use style=\"fill:#1f77b4;stroke:#1f77b4;stroke-linejoin:miter;\" x=\"367.189205\" xlink:href=\"#m246d8460a6\" y=\"182.429075\"/>\r\n     <use style=\"fill:#1f77b4;stroke:#1f77b4;stroke-linejoin:miter;\" x=\"377.334659\" xlink:href=\"#m246d8460a6\" y=\"178.074469\"/>\r\n     <use style=\"fill:#1f77b4;stroke:#1f77b4;stroke-linejoin:miter;\" x=\"387.480114\" xlink:href=\"#m246d8460a6\" y=\"180.053836\"/>\r\n     <use style=\"fill:#1f77b4;stroke:#1f77b4;stroke-linejoin:miter;\" x=\"397.625568\" xlink:href=\"#m246d8460a6\" y=\"178.470343\"/>\r\n     <use style=\"fill:#1f77b4;stroke:#1f77b4;stroke-linejoin:miter;\" x=\"407.771023\" xlink:href=\"#m246d8460a6\" y=\"181.043519\"/>\r\n     <use style=\"fill:#1f77b4;stroke:#1f77b4;stroke-linejoin:miter;\" x=\"417.916477\" xlink:href=\"#m246d8460a6\" y=\"179.064152\"/>\r\n     <use style=\"fill:#1f77b4;stroke:#1f77b4;stroke-linejoin:miter;\" x=\"428.061932\" xlink:href=\"#m246d8460a6\" y=\"176.886849\"/>\r\n     <use style=\"fill:#1f77b4;stroke:#1f77b4;stroke-linejoin:miter;\" x=\"438.207386\" xlink:href=\"#m246d8460a6\" y=\"171.146687\"/>\r\n     <use style=\"fill:#1f77b4;stroke:#1f77b4;stroke-linejoin:miter;\" x=\"448.352841\" xlink:href=\"#m246d8460a6\" y=\"183.814632\"/>\r\n     <use style=\"fill:#1f77b4;stroke:#1f77b4;stroke-linejoin:miter;\" x=\"458.498295\" xlink:href=\"#m246d8460a6\" y=\"172.928117\"/>\r\n     <use style=\"fill:#1f77b4;stroke:#1f77b4;stroke-linejoin:miter;\" x=\"468.64375\" xlink:href=\"#m246d8460a6\" y=\"171.344623\"/>\r\n     <use style=\"fill:#1f77b4;stroke:#1f77b4;stroke-linejoin:miter;\" x=\"478.789205\" xlink:href=\"#m246d8460a6\" y=\"169.563194\"/>\r\n     <use style=\"fill:#1f77b4;stroke:#1f77b4;stroke-linejoin:miter;\" x=\"488.934659\" xlink:href=\"#m246d8460a6\" y=\"156.301439\"/>\r\n     <use style=\"fill:#1f77b4;stroke:#1f77b4;stroke-linejoin:miter;\" x=\"499.080114\" xlink:href=\"#m246d8460a6\" y=\"164.020968\"/>\r\n     <use style=\"fill:#1f77b4;stroke:#1f77b4;stroke-linejoin:miter;\" x=\"509.225568\" xlink:href=\"#m246d8460a6\" y=\"166.000334\"/>\r\n     <use style=\"fill:#1f77b4;stroke:#1f77b4;stroke-linejoin:miter;\" x=\"519.371023\" xlink:href=\"#m246d8460a6\" y=\"154.717945\"/>\r\n     <use style=\"fill:#1f77b4;stroke:#1f77b4;stroke-linejoin:miter;\" x=\"529.516477\" xlink:href=\"#m246d8460a6\" y=\"154.520009\"/>\r\n    </g>\r\n   </g>\r\n   <g id=\"line2d_16\">\r\n    <path clip-path=\"url(#pdb6a8ea1b4)\" d=\"M 72.971023 333.65267 \r\nL 83.116477 301.586934 \r\nL 93.261932 298.024075 \r\nL 103.407386 285.94994 \r\nL 113.552841 268.531515 \r\nL 123.698295 242.997688 \r\nL 133.84375 229.735933 \r\nL 143.989205 205.983536 \r\nL 154.134659 193.909401 \r\nL 164.280114 190.940351 \r\nL 174.425568 188.169238 \r\nL 184.571023 170.552877 \r\nL 194.716477 160.853981 \r\nL 204.861932 151.748896 \r\nL 215.007386 134.528408 \r\nL 225.152841 135.320154 \r\nL 235.298295 139.872697 \r\nL 245.44375 113.74506 \r\nL 255.589205 112.161567 \r\nL 265.734659 116.516173 \r\nL 275.880114 107.609024 \r\nL 286.025568 97.514256 \r\nL 296.171023 93.159649 \r\nL 306.316477 88.40917 \r\nL 316.461932 89.794727 \r\nL 326.607386 71.386619 \r\nL 336.752841 72.574239 \r\nL 346.898295 75.939162 \r\nL 357.04375 78.710275 \r\nL 367.189205 70.792809 \r\nL 377.334659 69.011379 \r\nL 387.480114 64.85471 \r\nL 397.625568 66.834076 \r\nL 407.771023 62.677406 \r\nL 417.916477 61.29185 \r\nL 428.061932 56.145497 \r\nL 438.207386 46.050728 \r\nL 448.352841 44.665172 \r\nL 458.498295 43.279615 \r\nL 468.64375 47.238348 \r\nL 478.789205 43.477552 \r\nL 488.934659 46.446602 \r\nL 499.080114 39.914693 \r\nL 509.225568 45.258982 \r\nL 519.371023 37.14358 \r\nL 529.516477 43.279615 \r\n\" style=\"fill:none;stroke:#ff7f0e;stroke-linecap:square;stroke-width:1.5;\"/>\r\n    <defs>\r\n     <path d=\"M 0 3 \r\nC 0.795609 3 1.55874 2.683901 2.12132 2.12132 \r\nC 2.683901 1.55874 3 0.795609 3 0 \r\nC 3 -0.795609 2.683901 -1.55874 2.12132 -2.12132 \r\nC 1.55874 -2.683901 0.795609 -3 0 -3 \r\nC -0.795609 -3 -1.55874 -2.683901 -2.12132 -2.12132 \r\nC -2.683901 -1.55874 -3 -0.795609 -3 0 \r\nC -3 0.795609 -2.683901 1.55874 -2.12132 2.12132 \r\nC -1.55874 2.683901 -0.795609 3 0 3 \r\nz\r\n\" id=\"m9b82924578\" style=\"stroke:#ff7f0e;\"/>\r\n    </defs>\r\n    <g clip-path=\"url(#pdb6a8ea1b4)\">\r\n     <use style=\"fill:#ff7f0e;stroke:#ff7f0e;\" x=\"72.971023\" xlink:href=\"#m9b82924578\" y=\"333.65267\"/>\r\n     <use style=\"fill:#ff7f0e;stroke:#ff7f0e;\" x=\"83.116477\" xlink:href=\"#m9b82924578\" y=\"301.586934\"/>\r\n     <use style=\"fill:#ff7f0e;stroke:#ff7f0e;\" x=\"93.261932\" xlink:href=\"#m9b82924578\" y=\"298.024075\"/>\r\n     <use style=\"fill:#ff7f0e;stroke:#ff7f0e;\" x=\"103.407386\" xlink:href=\"#m9b82924578\" y=\"285.94994\"/>\r\n     <use style=\"fill:#ff7f0e;stroke:#ff7f0e;\" x=\"113.552841\" xlink:href=\"#m9b82924578\" y=\"268.531515\"/>\r\n     <use style=\"fill:#ff7f0e;stroke:#ff7f0e;\" x=\"123.698295\" xlink:href=\"#m9b82924578\" y=\"242.997688\"/>\r\n     <use style=\"fill:#ff7f0e;stroke:#ff7f0e;\" x=\"133.84375\" xlink:href=\"#m9b82924578\" y=\"229.735933\"/>\r\n     <use style=\"fill:#ff7f0e;stroke:#ff7f0e;\" x=\"143.989205\" xlink:href=\"#m9b82924578\" y=\"205.983536\"/>\r\n     <use style=\"fill:#ff7f0e;stroke:#ff7f0e;\" x=\"154.134659\" xlink:href=\"#m9b82924578\" y=\"193.909401\"/>\r\n     <use style=\"fill:#ff7f0e;stroke:#ff7f0e;\" x=\"164.280114\" xlink:href=\"#m9b82924578\" y=\"190.940351\"/>\r\n     <use style=\"fill:#ff7f0e;stroke:#ff7f0e;\" x=\"174.425568\" xlink:href=\"#m9b82924578\" y=\"188.169238\"/>\r\n     <use style=\"fill:#ff7f0e;stroke:#ff7f0e;\" x=\"184.571023\" xlink:href=\"#m9b82924578\" y=\"170.552877\"/>\r\n     <use style=\"fill:#ff7f0e;stroke:#ff7f0e;\" x=\"194.716477\" xlink:href=\"#m9b82924578\" y=\"160.853981\"/>\r\n     <use style=\"fill:#ff7f0e;stroke:#ff7f0e;\" x=\"204.861932\" xlink:href=\"#m9b82924578\" y=\"151.748896\"/>\r\n     <use style=\"fill:#ff7f0e;stroke:#ff7f0e;\" x=\"215.007386\" xlink:href=\"#m9b82924578\" y=\"134.528408\"/>\r\n     <use style=\"fill:#ff7f0e;stroke:#ff7f0e;\" x=\"225.152841\" xlink:href=\"#m9b82924578\" y=\"135.320154\"/>\r\n     <use style=\"fill:#ff7f0e;stroke:#ff7f0e;\" x=\"235.298295\" xlink:href=\"#m9b82924578\" y=\"139.872697\"/>\r\n     <use style=\"fill:#ff7f0e;stroke:#ff7f0e;\" x=\"245.44375\" xlink:href=\"#m9b82924578\" y=\"113.74506\"/>\r\n     <use style=\"fill:#ff7f0e;stroke:#ff7f0e;\" x=\"255.589205\" xlink:href=\"#m9b82924578\" y=\"112.161567\"/>\r\n     <use style=\"fill:#ff7f0e;stroke:#ff7f0e;\" x=\"265.734659\" xlink:href=\"#m9b82924578\" y=\"116.516173\"/>\r\n     <use style=\"fill:#ff7f0e;stroke:#ff7f0e;\" x=\"275.880114\" xlink:href=\"#m9b82924578\" y=\"107.609024\"/>\r\n     <use style=\"fill:#ff7f0e;stroke:#ff7f0e;\" x=\"286.025568\" xlink:href=\"#m9b82924578\" y=\"97.514256\"/>\r\n     <use style=\"fill:#ff7f0e;stroke:#ff7f0e;\" x=\"296.171023\" xlink:href=\"#m9b82924578\" y=\"93.159649\"/>\r\n     <use style=\"fill:#ff7f0e;stroke:#ff7f0e;\" x=\"306.316477\" xlink:href=\"#m9b82924578\" y=\"88.40917\"/>\r\n     <use style=\"fill:#ff7f0e;stroke:#ff7f0e;\" x=\"316.461932\" xlink:href=\"#m9b82924578\" y=\"89.794727\"/>\r\n     <use style=\"fill:#ff7f0e;stroke:#ff7f0e;\" x=\"326.607386\" xlink:href=\"#m9b82924578\" y=\"71.386619\"/>\r\n     <use style=\"fill:#ff7f0e;stroke:#ff7f0e;\" x=\"336.752841\" xlink:href=\"#m9b82924578\" y=\"72.574239\"/>\r\n     <use style=\"fill:#ff7f0e;stroke:#ff7f0e;\" x=\"346.898295\" xlink:href=\"#m9b82924578\" y=\"75.939162\"/>\r\n     <use style=\"fill:#ff7f0e;stroke:#ff7f0e;\" x=\"357.04375\" xlink:href=\"#m9b82924578\" y=\"78.710275\"/>\r\n     <use style=\"fill:#ff7f0e;stroke:#ff7f0e;\" x=\"367.189205\" xlink:href=\"#m9b82924578\" y=\"70.792809\"/>\r\n     <use style=\"fill:#ff7f0e;stroke:#ff7f0e;\" x=\"377.334659\" xlink:href=\"#m9b82924578\" y=\"69.011379\"/>\r\n     <use style=\"fill:#ff7f0e;stroke:#ff7f0e;\" x=\"387.480114\" xlink:href=\"#m9b82924578\" y=\"64.85471\"/>\r\n     <use style=\"fill:#ff7f0e;stroke:#ff7f0e;\" x=\"397.625568\" xlink:href=\"#m9b82924578\" y=\"66.834076\"/>\r\n     <use style=\"fill:#ff7f0e;stroke:#ff7f0e;\" x=\"407.771023\" xlink:href=\"#m9b82924578\" y=\"62.677406\"/>\r\n     <use style=\"fill:#ff7f0e;stroke:#ff7f0e;\" x=\"417.916477\" xlink:href=\"#m9b82924578\" y=\"61.29185\"/>\r\n     <use style=\"fill:#ff7f0e;stroke:#ff7f0e;\" x=\"428.061932\" xlink:href=\"#m9b82924578\" y=\"56.145497\"/>\r\n     <use style=\"fill:#ff7f0e;stroke:#ff7f0e;\" x=\"438.207386\" xlink:href=\"#m9b82924578\" y=\"46.050728\"/>\r\n     <use style=\"fill:#ff7f0e;stroke:#ff7f0e;\" x=\"448.352841\" xlink:href=\"#m9b82924578\" y=\"44.665172\"/>\r\n     <use style=\"fill:#ff7f0e;stroke:#ff7f0e;\" x=\"458.498295\" xlink:href=\"#m9b82924578\" y=\"43.279615\"/>\r\n     <use style=\"fill:#ff7f0e;stroke:#ff7f0e;\" x=\"468.64375\" xlink:href=\"#m9b82924578\" y=\"47.238348\"/>\r\n     <use style=\"fill:#ff7f0e;stroke:#ff7f0e;\" x=\"478.789205\" xlink:href=\"#m9b82924578\" y=\"43.477552\"/>\r\n     <use style=\"fill:#ff7f0e;stroke:#ff7f0e;\" x=\"488.934659\" xlink:href=\"#m9b82924578\" y=\"46.446602\"/>\r\n     <use style=\"fill:#ff7f0e;stroke:#ff7f0e;\" x=\"499.080114\" xlink:href=\"#m9b82924578\" y=\"39.914693\"/>\r\n     <use style=\"fill:#ff7f0e;stroke:#ff7f0e;\" x=\"509.225568\" xlink:href=\"#m9b82924578\" y=\"45.258982\"/>\r\n     <use style=\"fill:#ff7f0e;stroke:#ff7f0e;\" x=\"519.371023\" xlink:href=\"#m9b82924578\" y=\"37.14358\"/>\r\n     <use style=\"fill:#ff7f0e;stroke:#ff7f0e;\" x=\"529.516477\" xlink:href=\"#m9b82924578\" y=\"43.279615\"/>\r\n    </g>\r\n   </g>\r\n   <g id=\"line2d_17\">\r\n    <path clip-path=\"url(#pdb6a8ea1b4)\" d=\"M 72.971023 333.65267 \r\nL 83.116477 328.506318 \r\nL 93.261932 314.452816 \r\nL 103.407386 310.296147 \r\nL 113.552841 289.116926 \r\nL 123.698295 289.512799 \r\nL 133.84375 287.137559 \r\nL 143.989205 272.688184 \r\nL 154.134659 270.312945 \r\nL 164.280114 268.333578 \r\nL 174.425568 260.416113 \r\nL 184.571023 243.987371 \r\nL 194.716477 236.663715 \r\nL 204.861932 229.735933 \r\nL 215.007386 221.422594 \r\nL 225.152841 224.391644 \r\nL 235.298295 223.40196 \r\nL 245.44375 210.931952 \r\nL 255.589205 199.25369 \r\nL 265.734659 195.69083 \r\nL 275.880114 176.293039 \r\nL 286.025568 177.084786 \r\nL 296.171023 170.750813 \r\nL 306.316477 157.884932 \r\nL 316.461932 160.853981 \r\nL 326.607386 159.072552 \r\nL 336.752841 138.091267 \r\nL 346.898295 135.320154 \r\nL 357.04375 132.153168 \r\nL 367.189205 118.099666 \r\nL 377.334659 121.464589 \r\nL 387.480114 112.55744 \r\nL 397.625568 110.182201 \r\nL 407.771023 92.56584 \r\nL 417.916477 89.59679 \r\nL 428.061932 91.37822 \r\nL 438.207386 91.37822 \r\nL 448.352841 93.357586 \r\nL 458.498295 92.763776 \r\nL 468.64375 92.763776 \r\nL 478.789205 82.273134 \r\nL 488.934659 81.085514 \r\nL 499.080114 65.250583 \r\nL 509.225568 62.677406 \r\nL 519.371023 69.803126 \r\nL 529.516477 54.562004 \r\n\" style=\"fill:none;stroke:#2ca02c;stroke-linecap:square;stroke-width:1.5;\"/>\r\n    <defs>\r\n     <path d=\"M 0 3 \r\nC 0.795609 3 1.55874 2.683901 2.12132 2.12132 \r\nC 2.683901 1.55874 3 0.795609 3 0 \r\nC 3 -0.795609 2.683901 -1.55874 2.12132 -2.12132 \r\nC 1.55874 -2.683901 0.795609 -3 0 -3 \r\nC -0.795609 -3 -1.55874 -2.683901 -2.12132 -2.12132 \r\nC -2.683901 -1.55874 -3 -0.795609 -3 0 \r\nC -3 0.795609 -2.683901 1.55874 -2.12132 2.12132 \r\nC -1.55874 2.683901 -0.795609 3 0 3 \r\nz\r\n\" id=\"mbdefb9c8c8\" style=\"stroke:#2ca02c;\"/>\r\n    </defs>\r\n    <g clip-path=\"url(#pdb6a8ea1b4)\">\r\n     <use style=\"fill:#2ca02c;stroke:#2ca02c;\" x=\"72.971023\" xlink:href=\"#mbdefb9c8c8\" y=\"333.65267\"/>\r\n     <use style=\"fill:#2ca02c;stroke:#2ca02c;\" x=\"83.116477\" xlink:href=\"#mbdefb9c8c8\" y=\"328.506318\"/>\r\n     <use style=\"fill:#2ca02c;stroke:#2ca02c;\" x=\"93.261932\" xlink:href=\"#mbdefb9c8c8\" y=\"314.452816\"/>\r\n     <use style=\"fill:#2ca02c;stroke:#2ca02c;\" x=\"103.407386\" xlink:href=\"#mbdefb9c8c8\" y=\"310.296147\"/>\r\n     <use style=\"fill:#2ca02c;stroke:#2ca02c;\" x=\"113.552841\" xlink:href=\"#mbdefb9c8c8\" y=\"289.116926\"/>\r\n     <use style=\"fill:#2ca02c;stroke:#2ca02c;\" x=\"123.698295\" xlink:href=\"#mbdefb9c8c8\" y=\"289.512799\"/>\r\n     <use style=\"fill:#2ca02c;stroke:#2ca02c;\" x=\"133.84375\" xlink:href=\"#mbdefb9c8c8\" y=\"287.137559\"/>\r\n     <use style=\"fill:#2ca02c;stroke:#2ca02c;\" x=\"143.989205\" xlink:href=\"#mbdefb9c8c8\" y=\"272.688184\"/>\r\n     <use style=\"fill:#2ca02c;stroke:#2ca02c;\" x=\"154.134659\" xlink:href=\"#mbdefb9c8c8\" y=\"270.312945\"/>\r\n     <use style=\"fill:#2ca02c;stroke:#2ca02c;\" x=\"164.280114\" xlink:href=\"#mbdefb9c8c8\" y=\"268.333578\"/>\r\n     <use style=\"fill:#2ca02c;stroke:#2ca02c;\" x=\"174.425568\" xlink:href=\"#mbdefb9c8c8\" y=\"260.416113\"/>\r\n     <use style=\"fill:#2ca02c;stroke:#2ca02c;\" x=\"184.571023\" xlink:href=\"#mbdefb9c8c8\" y=\"243.987371\"/>\r\n     <use style=\"fill:#2ca02c;stroke:#2ca02c;\" x=\"194.716477\" xlink:href=\"#mbdefb9c8c8\" y=\"236.663715\"/>\r\n     <use style=\"fill:#2ca02c;stroke:#2ca02c;\" x=\"204.861932\" xlink:href=\"#mbdefb9c8c8\" y=\"229.735933\"/>\r\n     <use style=\"fill:#2ca02c;stroke:#2ca02c;\" x=\"215.007386\" xlink:href=\"#mbdefb9c8c8\" y=\"221.422594\"/>\r\n     <use style=\"fill:#2ca02c;stroke:#2ca02c;\" x=\"225.152841\" xlink:href=\"#mbdefb9c8c8\" y=\"224.391644\"/>\r\n     <use style=\"fill:#2ca02c;stroke:#2ca02c;\" x=\"235.298295\" xlink:href=\"#mbdefb9c8c8\" y=\"223.40196\"/>\r\n     <use style=\"fill:#2ca02c;stroke:#2ca02c;\" x=\"245.44375\" xlink:href=\"#mbdefb9c8c8\" y=\"210.931952\"/>\r\n     <use style=\"fill:#2ca02c;stroke:#2ca02c;\" x=\"255.589205\" xlink:href=\"#mbdefb9c8c8\" y=\"199.25369\"/>\r\n     <use style=\"fill:#2ca02c;stroke:#2ca02c;\" x=\"265.734659\" xlink:href=\"#mbdefb9c8c8\" y=\"195.69083\"/>\r\n     <use style=\"fill:#2ca02c;stroke:#2ca02c;\" x=\"275.880114\" xlink:href=\"#mbdefb9c8c8\" y=\"176.293039\"/>\r\n     <use style=\"fill:#2ca02c;stroke:#2ca02c;\" x=\"286.025568\" xlink:href=\"#mbdefb9c8c8\" y=\"177.084786\"/>\r\n     <use style=\"fill:#2ca02c;stroke:#2ca02c;\" x=\"296.171023\" xlink:href=\"#mbdefb9c8c8\" y=\"170.750813\"/>\r\n     <use style=\"fill:#2ca02c;stroke:#2ca02c;\" x=\"306.316477\" xlink:href=\"#mbdefb9c8c8\" y=\"157.884932\"/>\r\n     <use style=\"fill:#2ca02c;stroke:#2ca02c;\" x=\"316.461932\" xlink:href=\"#mbdefb9c8c8\" y=\"160.853981\"/>\r\n     <use style=\"fill:#2ca02c;stroke:#2ca02c;\" x=\"326.607386\" xlink:href=\"#mbdefb9c8c8\" y=\"159.072552\"/>\r\n     <use style=\"fill:#2ca02c;stroke:#2ca02c;\" x=\"336.752841\" xlink:href=\"#mbdefb9c8c8\" y=\"138.091267\"/>\r\n     <use style=\"fill:#2ca02c;stroke:#2ca02c;\" x=\"346.898295\" xlink:href=\"#mbdefb9c8c8\" y=\"135.320154\"/>\r\n     <use style=\"fill:#2ca02c;stroke:#2ca02c;\" x=\"357.04375\" xlink:href=\"#mbdefb9c8c8\" y=\"132.153168\"/>\r\n     <use style=\"fill:#2ca02c;stroke:#2ca02c;\" x=\"367.189205\" xlink:href=\"#mbdefb9c8c8\" y=\"118.099666\"/>\r\n     <use style=\"fill:#2ca02c;stroke:#2ca02c;\" x=\"377.334659\" xlink:href=\"#mbdefb9c8c8\" y=\"121.464589\"/>\r\n     <use style=\"fill:#2ca02c;stroke:#2ca02c;\" x=\"387.480114\" xlink:href=\"#mbdefb9c8c8\" y=\"112.55744\"/>\r\n     <use style=\"fill:#2ca02c;stroke:#2ca02c;\" x=\"397.625568\" xlink:href=\"#mbdefb9c8c8\" y=\"110.182201\"/>\r\n     <use style=\"fill:#2ca02c;stroke:#2ca02c;\" x=\"407.771023\" xlink:href=\"#mbdefb9c8c8\" y=\"92.56584\"/>\r\n     <use style=\"fill:#2ca02c;stroke:#2ca02c;\" x=\"417.916477\" xlink:href=\"#mbdefb9c8c8\" y=\"89.59679\"/>\r\n     <use style=\"fill:#2ca02c;stroke:#2ca02c;\" x=\"428.061932\" xlink:href=\"#mbdefb9c8c8\" y=\"91.37822\"/>\r\n     <use style=\"fill:#2ca02c;stroke:#2ca02c;\" x=\"438.207386\" xlink:href=\"#mbdefb9c8c8\" y=\"91.37822\"/>\r\n     <use style=\"fill:#2ca02c;stroke:#2ca02c;\" x=\"448.352841\" xlink:href=\"#mbdefb9c8c8\" y=\"93.357586\"/>\r\n     <use style=\"fill:#2ca02c;stroke:#2ca02c;\" x=\"458.498295\" xlink:href=\"#mbdefb9c8c8\" y=\"92.763776\"/>\r\n     <use style=\"fill:#2ca02c;stroke:#2ca02c;\" x=\"468.64375\" xlink:href=\"#mbdefb9c8c8\" y=\"92.763776\"/>\r\n     <use style=\"fill:#2ca02c;stroke:#2ca02c;\" x=\"478.789205\" xlink:href=\"#mbdefb9c8c8\" y=\"82.273134\"/>\r\n     <use style=\"fill:#2ca02c;stroke:#2ca02c;\" x=\"488.934659\" xlink:href=\"#mbdefb9c8c8\" y=\"81.085514\"/>\r\n     <use style=\"fill:#2ca02c;stroke:#2ca02c;\" x=\"499.080114\" xlink:href=\"#mbdefb9c8c8\" y=\"65.250583\"/>\r\n     <use style=\"fill:#2ca02c;stroke:#2ca02c;\" x=\"509.225568\" xlink:href=\"#mbdefb9c8c8\" y=\"62.677406\"/>\r\n     <use style=\"fill:#2ca02c;stroke:#2ca02c;\" x=\"519.371023\" xlink:href=\"#mbdefb9c8c8\" y=\"69.803126\"/>\r\n     <use style=\"fill:#2ca02c;stroke:#2ca02c;\" x=\"529.516477\" xlink:href=\"#mbdefb9c8c8\" y=\"54.562004\"/>\r\n    </g>\r\n   </g>\r\n   <g id=\"patch_3\">\r\n    <path d=\"M 50.14375 348.478125 \r\nL 50.14375 22.318125 \r\n\" style=\"fill:none;stroke:#000000;stroke-linecap:square;stroke-linejoin:miter;stroke-width:0.8;\"/>\r\n   </g>\r\n   <g id=\"patch_4\">\r\n    <path d=\"M 552.34375 348.478125 \r\nL 552.34375 22.318125 \r\n\" style=\"fill:none;stroke:#000000;stroke-linecap:square;stroke-linejoin:miter;stroke-width:0.8;\"/>\r\n   </g>\r\n   <g id=\"patch_5\">\r\n    <path d=\"M 50.14375 348.478125 \r\nL 552.34375 348.478125 \r\n\" style=\"fill:none;stroke:#000000;stroke-linecap:square;stroke-linejoin:miter;stroke-width:0.8;\"/>\r\n   </g>\r\n   <g id=\"patch_6\">\r\n    <path d=\"M 50.14375 22.318125 \r\nL 552.34375 22.318125 \r\n\" style=\"fill:none;stroke:#000000;stroke-linecap:square;stroke-linejoin:miter;stroke-width:0.8;\"/>\r\n   </g>\r\n   <g id=\"text_17\">\r\n    <!-- Logistic Regression with Query by committee -->\r\n    <g transform=\"translate(165.326875 16.318125)scale(0.12 -0.12)\">\r\n     <defs>\r\n      <path d=\"M 628 4666 \r\nL 1259 4666 \r\nL 1259 531 \r\nL 3531 531 \r\nL 3531 0 \r\nL 628 0 \r\nL 628 4666 \r\nz\r\n\" id=\"DejaVuSans-4c\" transform=\"scale(0.015625)\"/>\r\n      <path d=\"M 2841 2188 \r\nQ 3044 2119 3236 1894 \r\nQ 3428 1669 3622 1275 \r\nL 4263 0 \r\nL 3584 0 \r\nL 2988 1197 \r\nQ 2756 1666 2539 1819 \r\nQ 2322 1972 1947 1972 \r\nL 1259 1972 \r\nL 1259 0 \r\nL 628 0 \r\nL 628 4666 \r\nL 2053 4666 \r\nQ 2853 4666 3247 4331 \r\nQ 3641 3997 3641 3322 \r\nQ 3641 2881 3436 2590 \r\nQ 3231 2300 2841 2188 \r\nz\r\nM 1259 4147 \r\nL 1259 2491 \r\nL 2053 2491 \r\nQ 2509 2491 2742 2702 \r\nQ 2975 2913 2975 3322 \r\nQ 2975 3731 2742 3939 \r\nQ 2509 4147 2053 4147 \r\nL 1259 4147 \r\nz\r\n\" id=\"DejaVuSans-52\" transform=\"scale(0.015625)\"/>\r\n      <path d=\"M 269 3500 \r\nL 844 3500 \r\nL 1563 769 \r\nL 2278 3500 \r\nL 2956 3500 \r\nL 3675 769 \r\nL 4391 3500 \r\nL 4966 3500 \r\nL 4050 0 \r\nL 3372 0 \r\nL 2619 2869 \r\nL 1863 0 \r\nL 1184 0 \r\nL 269 3500 \r\nz\r\n\" id=\"DejaVuSans-77\" transform=\"scale(0.015625)\"/>\r\n      <path d=\"M 3513 2113 \r\nL 3513 0 \r\nL 2938 0 \r\nL 2938 2094 \r\nQ 2938 2591 2744 2837 \r\nQ 2550 3084 2163 3084 \r\nQ 1697 3084 1428 2787 \r\nQ 1159 2491 1159 1978 \r\nL 1159 0 \r\nL 581 0 \r\nL 581 4863 \r\nL 1159 4863 \r\nL 1159 2956 \r\nQ 1366 3272 1645 3428 \r\nQ 1925 3584 2291 3584 \r\nQ 2894 3584 3203 3211 \r\nQ 3513 2838 3513 2113 \r\nz\r\n\" id=\"DejaVuSans-68\" transform=\"scale(0.015625)\"/>\r\n      <path d=\"M 2522 4238 \r\nQ 1834 4238 1429 3725 \r\nQ 1025 3213 1025 2328 \r\nQ 1025 1447 1429 934 \r\nQ 1834 422 2522 422 \r\nQ 3209 422 3611 934 \r\nQ 4013 1447 4013 2328 \r\nQ 4013 3213 3611 3725 \r\nQ 3209 4238 2522 4238 \r\nz\r\nM 3406 84 \r\nL 4238 -825 \r\nL 3475 -825 \r\nL 2784 -78 \r\nQ 2681 -84 2626 -87 \r\nQ 2572 -91 2522 -91 \r\nQ 1538 -91 948 567 \r\nQ 359 1225 359 2328 \r\nQ 359 3434 948 4092 \r\nQ 1538 4750 2522 4750 \r\nQ 3503 4750 4090 4092 \r\nQ 4678 3434 4678 2328 \r\nQ 4678 1516 4351 937 \r\nQ 4025 359 3406 84 \r\nz\r\n\" id=\"DejaVuSans-51\" transform=\"scale(0.015625)\"/>\r\n     </defs>\r\n     <use xlink:href=\"#DejaVuSans-4c\"/>\r\n     <use x=\"53.962891\" xlink:href=\"#DejaVuSans-6f\"/>\r\n     <use x=\"115.144531\" xlink:href=\"#DejaVuSans-67\"/>\r\n     <use x=\"178.621094\" xlink:href=\"#DejaVuSans-69\"/>\r\n     <use x=\"206.404297\" xlink:href=\"#DejaVuSans-73\"/>\r\n     <use x=\"258.503906\" xlink:href=\"#DejaVuSans-74\"/>\r\n     <use x=\"297.712891\" xlink:href=\"#DejaVuSans-69\"/>\r\n     <use x=\"325.496094\" xlink:href=\"#DejaVuSans-63\"/>\r\n     <use x=\"380.476562\" xlink:href=\"#DejaVuSans-20\"/>\r\n     <use x=\"412.263672\" xlink:href=\"#DejaVuSans-52\"/>\r\n     <use x=\"477.246094\" xlink:href=\"#DejaVuSans-65\"/>\r\n     <use x=\"538.769531\" xlink:href=\"#DejaVuSans-67\"/>\r\n     <use x=\"602.246094\" xlink:href=\"#DejaVuSans-72\"/>\r\n     <use x=\"641.109375\" xlink:href=\"#DejaVuSans-65\"/>\r\n     <use x=\"702.632812\" xlink:href=\"#DejaVuSans-73\"/>\r\n     <use x=\"754.732422\" xlink:href=\"#DejaVuSans-73\"/>\r\n     <use x=\"806.832031\" xlink:href=\"#DejaVuSans-69\"/>\r\n     <use x=\"834.615234\" xlink:href=\"#DejaVuSans-6f\"/>\r\n     <use x=\"895.796875\" xlink:href=\"#DejaVuSans-6e\"/>\r\n     <use x=\"959.175781\" xlink:href=\"#DejaVuSans-20\"/>\r\n     <use x=\"990.962891\" xlink:href=\"#DejaVuSans-77\"/>\r\n     <use x=\"1072.75\" xlink:href=\"#DejaVuSans-69\"/>\r\n     <use x=\"1100.533203\" xlink:href=\"#DejaVuSans-74\"/>\r\n     <use x=\"1139.742188\" xlink:href=\"#DejaVuSans-68\"/>\r\n     <use x=\"1203.121094\" xlink:href=\"#DejaVuSans-20\"/>\r\n     <use x=\"1234.908203\" xlink:href=\"#DejaVuSans-51\"/>\r\n     <use x=\"1313.619141\" xlink:href=\"#DejaVuSans-75\"/>\r\n     <use x=\"1376.998047\" xlink:href=\"#DejaVuSans-65\"/>\r\n     <use x=\"1438.521484\" xlink:href=\"#DejaVuSans-72\"/>\r\n     <use x=\"1479.634766\" xlink:href=\"#DejaVuSans-79\"/>\r\n     <use x=\"1538.814453\" xlink:href=\"#DejaVuSans-20\"/>\r\n     <use x=\"1570.601562\" xlink:href=\"#DejaVuSans-62\"/>\r\n     <use x=\"1634.078125\" xlink:href=\"#DejaVuSans-79\"/>\r\n     <use x=\"1693.257812\" xlink:href=\"#DejaVuSans-20\"/>\r\n     <use x=\"1725.044922\" xlink:href=\"#DejaVuSans-63\"/>\r\n     <use x=\"1780.025391\" xlink:href=\"#DejaVuSans-6f\"/>\r\n     <use x=\"1841.207031\" xlink:href=\"#DejaVuSans-6d\"/>\r\n     <use x=\"1938.619141\" xlink:href=\"#DejaVuSans-6d\"/>\r\n     <use x=\"2036.03125\" xlink:href=\"#DejaVuSans-69\"/>\r\n     <use x=\"2063.814453\" xlink:href=\"#DejaVuSans-74\"/>\r\n     <use x=\"2103.023438\" xlink:href=\"#DejaVuSans-74\"/>\r\n     <use x=\"2142.232422\" xlink:href=\"#DejaVuSans-65\"/>\r\n     <use x=\"2203.755859\" xlink:href=\"#DejaVuSans-65\"/>\r\n    </g>\r\n   </g>\r\n   <g id=\"legend_1\">\r\n    <g id=\"patch_7\">\r\n     <path d=\"M 57.14375 74.3525 \r\nL 176.339063 74.3525 \r\nQ 178.339063 74.3525 178.339063 72.3525 \r\nL 178.339063 29.318125 \r\nQ 178.339063 27.318125 176.339063 27.318125 \r\nL 57.14375 27.318125 \r\nQ 55.14375 27.318125 55.14375 29.318125 \r\nL 55.14375 72.3525 \r\nQ 55.14375 74.3525 57.14375 74.3525 \r\nz\r\n\" style=\"fill:#ffffff;opacity:0.8;stroke:#cccccc;stroke-linejoin:miter;\"/>\r\n    </g>\r\n    <g id=\"line2d_18\">\r\n     <path d=\"M 59.14375 35.416562 \r\nL 79.14375 35.416562 \r\n\" style=\"fill:none;stroke:#1f77b4;stroke-linecap:square;stroke-width:1.5;\"/>\r\n    </g>\r\n    <g id=\"line2d_19\">\r\n     <g>\r\n      <use style=\"fill:#1f77b4;stroke:#1f77b4;stroke-linejoin:miter;\" x=\"69.14375\" xlink:href=\"#m246d8460a6\" y=\"35.416562\"/>\r\n     </g>\r\n    </g>\r\n    <g id=\"text_18\">\r\n     <!-- Vote Entropy -->\r\n     <g transform=\"translate(87.14375 38.916562)scale(0.1 -0.1)\">\r\n      <defs>\r\n       <path d=\"M 1831 0 \r\nL 50 4666 \r\nL 709 4666 \r\nL 2188 738 \r\nL 3669 4666 \r\nL 4325 4666 \r\nL 2547 0 \r\nL 1831 0 \r\nz\r\n\" id=\"DejaVuSans-56\" transform=\"scale(0.015625)\"/>\r\n       <path d=\"M 628 4666 \r\nL 3578 4666 \r\nL 3578 4134 \r\nL 1259 4134 \r\nL 1259 2753 \r\nL 3481 2753 \r\nL 3481 2222 \r\nL 1259 2222 \r\nL 1259 531 \r\nL 3634 531 \r\nL 3634 0 \r\nL 628 0 \r\nL 628 4666 \r\nz\r\n\" id=\"DejaVuSans-45\" transform=\"scale(0.015625)\"/>\r\n       <path d=\"M 1159 525 \r\nL 1159 -1331 \r\nL 581 -1331 \r\nL 581 3500 \r\nL 1159 3500 \r\nL 1159 2969 \r\nQ 1341 3281 1617 3432 \r\nQ 1894 3584 2278 3584 \r\nQ 2916 3584 3314 3078 \r\nQ 3713 2572 3713 1747 \r\nQ 3713 922 3314 415 \r\nQ 2916 -91 2278 -91 \r\nQ 1894 -91 1617 61 \r\nQ 1341 213 1159 525 \r\nz\r\nM 3116 1747 \r\nQ 3116 2381 2855 2742 \r\nQ 2594 3103 2138 3103 \r\nQ 1681 3103 1420 2742 \r\nQ 1159 2381 1159 1747 \r\nQ 1159 1113 1420 752 \r\nQ 1681 391 2138 391 \r\nQ 2594 391 2855 752 \r\nQ 3116 1113 3116 1747 \r\nz\r\n\" id=\"DejaVuSans-70\" transform=\"scale(0.015625)\"/>\r\n      </defs>\r\n      <use xlink:href=\"#DejaVuSans-56\"/>\r\n      <use x=\"60.658203\" xlink:href=\"#DejaVuSans-6f\"/>\r\n      <use x=\"121.839844\" xlink:href=\"#DejaVuSans-74\"/>\r\n      <use x=\"161.048828\" xlink:href=\"#DejaVuSans-65\"/>\r\n      <use x=\"222.572266\" xlink:href=\"#DejaVuSans-20\"/>\r\n      <use x=\"254.359375\" xlink:href=\"#DejaVuSans-45\"/>\r\n      <use x=\"317.542969\" xlink:href=\"#DejaVuSans-6e\"/>\r\n      <use x=\"380.921875\" xlink:href=\"#DejaVuSans-74\"/>\r\n      <use x=\"420.130859\" xlink:href=\"#DejaVuSans-72\"/>\r\n      <use x=\"458.994141\" xlink:href=\"#DejaVuSans-6f\"/>\r\n      <use x=\"520.175781\" xlink:href=\"#DejaVuSans-70\"/>\r\n      <use x=\"583.652344\" xlink:href=\"#DejaVuSans-79\"/>\r\n     </g>\r\n    </g>\r\n    <g id=\"line2d_20\">\r\n     <path d=\"M 59.14375 50.094687 \r\nL 79.14375 50.094687 \r\n\" style=\"fill:none;stroke:#ff7f0e;stroke-linecap:square;stroke-width:1.5;\"/>\r\n    </g>\r\n    <g id=\"line2d_21\">\r\n     <g>\r\n      <use style=\"fill:#ff7f0e;stroke:#ff7f0e;\" x=\"69.14375\" xlink:href=\"#m9b82924578\" y=\"50.094687\"/>\r\n     </g>\r\n    </g>\r\n    <g id=\"text_19\">\r\n     <!-- Soft Vote Entropy -->\r\n     <g transform=\"translate(87.14375 53.594687)scale(0.1 -0.1)\">\r\n      <defs>\r\n       <path d=\"M 3425 4513 \r\nL 3425 3897 \r\nQ 3066 4069 2747 4153 \r\nQ 2428 4238 2131 4238 \r\nQ 1616 4238 1336 4038 \r\nQ 1056 3838 1056 3469 \r\nQ 1056 3159 1242 3001 \r\nQ 1428 2844 1947 2747 \r\nL 2328 2669 \r\nQ 3034 2534 3370 2195 \r\nQ 3706 1856 3706 1288 \r\nQ 3706 609 3251 259 \r\nQ 2797 -91 1919 -91 \r\nQ 1588 -91 1214 -16 \r\nQ 841 59 441 206 \r\nL 441 856 \r\nQ 825 641 1194 531 \r\nQ 1563 422 1919 422 \r\nQ 2459 422 2753 634 \r\nQ 3047 847 3047 1241 \r\nQ 3047 1584 2836 1778 \r\nQ 2625 1972 2144 2069 \r\nL 1759 2144 \r\nQ 1053 2284 737 2584 \r\nQ 422 2884 422 3419 \r\nQ 422 4038 858 4394 \r\nQ 1294 4750 2059 4750 \r\nQ 2388 4750 2728 4690 \r\nQ 3069 4631 3425 4513 \r\nz\r\n\" id=\"DejaVuSans-53\" transform=\"scale(0.015625)\"/>\r\n      </defs>\r\n      <use xlink:href=\"#DejaVuSans-53\"/>\r\n      <use x=\"63.476562\" xlink:href=\"#DejaVuSans-6f\"/>\r\n      <use x=\"124.658203\" xlink:href=\"#DejaVuSans-66\"/>\r\n      <use x=\"158.113281\" xlink:href=\"#DejaVuSans-74\"/>\r\n      <use x=\"197.322266\" xlink:href=\"#DejaVuSans-20\"/>\r\n      <use x=\"229.109375\" xlink:href=\"#DejaVuSans-56\"/>\r\n      <use x=\"289.767578\" xlink:href=\"#DejaVuSans-6f\"/>\r\n      <use x=\"350.949219\" xlink:href=\"#DejaVuSans-74\"/>\r\n      <use x=\"390.158203\" xlink:href=\"#DejaVuSans-65\"/>\r\n      <use x=\"451.681641\" xlink:href=\"#DejaVuSans-20\"/>\r\n      <use x=\"483.46875\" xlink:href=\"#DejaVuSans-45\"/>\r\n      <use x=\"546.652344\" xlink:href=\"#DejaVuSans-6e\"/>\r\n      <use x=\"610.03125\" xlink:href=\"#DejaVuSans-74\"/>\r\n      <use x=\"649.240234\" xlink:href=\"#DejaVuSans-72\"/>\r\n      <use x=\"688.103516\" xlink:href=\"#DejaVuSans-6f\"/>\r\n      <use x=\"749.285156\" xlink:href=\"#DejaVuSans-70\"/>\r\n      <use x=\"812.761719\" xlink:href=\"#DejaVuSans-79\"/>\r\n     </g>\r\n    </g>\r\n    <g id=\"line2d_22\">\r\n     <path d=\"M 59.14375 64.772812 \r\nL 79.14375 64.772812 \r\n\" style=\"fill:none;stroke:#2ca02c;stroke-linecap:square;stroke-width:1.5;\"/>\r\n    </g>\r\n    <g id=\"line2d_23\">\r\n     <g>\r\n      <use style=\"fill:#2ca02c;stroke:#2ca02c;\" x=\"69.14375\" xlink:href=\"#mbdefb9c8c8\" y=\"64.772812\"/>\r\n     </g>\r\n    </g>\r\n    <g id=\"text_20\">\r\n     <!-- Kullback-Leibler -->\r\n     <g transform=\"translate(87.14375 68.272812)scale(0.1 -0.1)\">\r\n      <defs>\r\n       <path d=\"M 628 4666 \r\nL 1259 4666 \r\nL 1259 2694 \r\nL 3353 4666 \r\nL 4166 4666 \r\nL 1850 2491 \r\nL 4331 0 \r\nL 3500 0 \r\nL 1259 2247 \r\nL 1259 0 \r\nL 628 0 \r\nL 628 4666 \r\nz\r\n\" id=\"DejaVuSans-4b\" transform=\"scale(0.015625)\"/>\r\n       <path d=\"M 603 4863 \r\nL 1178 4863 \r\nL 1178 0 \r\nL 603 0 \r\nL 603 4863 \r\nz\r\n\" id=\"DejaVuSans-6c\" transform=\"scale(0.015625)\"/>\r\n       <path d=\"M 581 4863 \r\nL 1159 4863 \r\nL 1159 1991 \r\nL 2875 3500 \r\nL 3609 3500 \r\nL 1753 1863 \r\nL 3688 0 \r\nL 2938 0 \r\nL 1159 1709 \r\nL 1159 0 \r\nL 581 0 \r\nL 581 4863 \r\nz\r\n\" id=\"DejaVuSans-6b\" transform=\"scale(0.015625)\"/>\r\n       <path d=\"M 313 2009 \r\nL 1997 2009 \r\nL 1997 1497 \r\nL 313 1497 \r\nL 313 2009 \r\nz\r\n\" id=\"DejaVuSans-2d\" transform=\"scale(0.015625)\"/>\r\n      </defs>\r\n      <use xlink:href=\"#DejaVuSans-4b\"/>\r\n      <use x=\"60.576172\" xlink:href=\"#DejaVuSans-75\"/>\r\n      <use x=\"123.955078\" xlink:href=\"#DejaVuSans-6c\"/>\r\n      <use x=\"151.738281\" xlink:href=\"#DejaVuSans-6c\"/>\r\n      <use x=\"179.521484\" xlink:href=\"#DejaVuSans-62\"/>\r\n      <use x=\"242.998047\" xlink:href=\"#DejaVuSans-61\"/>\r\n      <use x=\"304.277344\" xlink:href=\"#DejaVuSans-63\"/>\r\n      <use x=\"359.257812\" xlink:href=\"#DejaVuSans-6b\"/>\r\n      <use x=\"417.167969\" xlink:href=\"#DejaVuSans-2d\"/>\r\n      <use x=\"453.251953\" xlink:href=\"#DejaVuSans-4c\"/>\r\n      <use x=\"507.214844\" xlink:href=\"#DejaVuSans-65\"/>\r\n      <use x=\"568.738281\" xlink:href=\"#DejaVuSans-69\"/>\r\n      <use x=\"596.521484\" xlink:href=\"#DejaVuSans-62\"/>\r\n      <use x=\"659.998047\" xlink:href=\"#DejaVuSans-6c\"/>\r\n      <use x=\"687.78125\" xlink:href=\"#DejaVuSans-65\"/>\r\n      <use x=\"749.304688\" xlink:href=\"#DejaVuSans-72\"/>\r\n     </g>\r\n    </g>\r\n   </g>\r\n  </g>\r\n </g>\r\n <defs>\r\n  <clipPath id=\"pdb6a8ea1b4\">\r\n   <rect height=\"326.16\" width=\"502.2\" x=\"50.14375\" y=\"22.318125\"/>\r\n  </clipPath>\r\n </defs>\r\n</svg>\r\n",
      "image/png": "[encoded data removed]"
     },
     "metadata": {
      "needs_background": "light"
     }
    }
   ],
   "source": [
    "fig = plt.figure(figsize = (9,6))\n",
    "ax = fig.add_subplot(111)\n",
    "\n",
    "ax.plot(samples,accuracy_ve,\"v-\",label = \"Vote Entropy\")\n",
    "ax.plot(samples,accuracy_sve,\"o-\",label = \"Soft Vote Entropy\")\n",
    "ax.plot(samples,accuracy_kl,\"o-\",label = \"Kullback-Leibler\")\n",
    "\n",
    "\n",
    "ax.set_ylabel('Test Accuracy')\n",
    "ax.set_xlabel('Number of training instances')\n",
    "plt.title(\"Logistic Regression with Query by committee\")\n",
    "plt.legend()\n",
    "\n",
    "plt.show()"
   ]
  },
  {
   "cell_type": "code",
   "execution_count": null,
   "id": "south-smooth",
   "metadata": {},
   "outputs": [],
   "source": [
    "## your code here for training, evaluation, and plotting code"
   ]
  },
  {
   "cell_type": "markdown",
   "id": "suffering-airport",
   "metadata": {},
   "source": [
    "## 5. Hierarchical sampling"
   ]
  },
  {
   "cell_type": "code",
   "execution_count": null,
   "id": "adopted-taylor",
   "metadata": {},
   "outputs": [],
   "source": [
    "## your code"
   ]
  }
 ],
 "metadata": {
  "kernelspec": {
   "name": "python394jvsc74a57bd0df642eef7b43fe7a4a517bca7a97690968a466268416ac555ac71584a4a4c66c",
   "display_name": "Python 3.9.4 64-bit"
  },
  "language_info": {
   "codemirror_mode": {
    "name": "ipython",
    "version": 3
   },
   "file_extension": ".py",
   "mimetype": "text/x-python",
   "name": "python",
   "nbconvert_exporter": "python",
   "pygments_lexer": "ipython3",
   "version": "3.9.4"
  }
 },
 "nbformat": 4,
 "nbformat_minor": 5
}